{
  "nbformat": 4,
  "nbformat_minor": 0,
  "metadata": {
    "colab": {
      "name": "Untitled23.ipynb",
      "provenance": [],
      "authorship_tag": "ABX9TyMwFyjiJUYpLdN6BsvuMzem",
      "include_colab_link": true
    },
    "kernelspec": {
      "name": "python3",
      "display_name": "Python 3"
    },
    "language_info": {
      "name": "python"
    }
  },
  "cells": [
    {
      "cell_type": "markdown",
      "metadata": {
        "id": "view-in-github",
        "colab_type": "text"
      },
      "source": [
        "<a href=\"https://colab.research.google.com/github/nishant-harinkhede12/Advanced-M-L-projects/blob/main/EDA_AutoTS.ipynb\" target=\"_parent\"><img src=\"https://colab.research.google.com/assets/colab-badge.svg\" alt=\"Open In Colab\"/></a>"
      ]
    },
    {
      "cell_type": "code",
      "metadata": {
        "colab": {
          "base_uri": "https://localhost:8080/",
          "height": 202
        },
        "id": "uI9HfBemY541",
        "outputId": "458327c2-791e-4bf3-e1d1-8c477d89fe35"
      },
      "source": [
        "url='https://raw.githubusercontent.com/amankharwal/Website-data/master/stats.csv'\n",
        "import pandas as pd\n",
        "import matplotlib.pyplot as plt\n",
        "import seaborn as sns\n",
        "import numpy as np\n",
        "\n",
        "data = pd.read_csv(url)\n",
        "data.drop(data.tail(1).index, inplace=True)\n",
        "data.head()"
      ],
      "execution_count": 1,
      "outputs": [
        {
          "output_type": "execute_result",
          "data": {
            "text/html": [
              "<div>\n",
              "<style scoped>\n",
              "    .dataframe tbody tr th:only-of-type {\n",
              "        vertical-align: middle;\n",
              "    }\n",
              "\n",
              "    .dataframe tbody tr th {\n",
              "        vertical-align: top;\n",
              "    }\n",
              "\n",
              "    .dataframe thead th {\n",
              "        text-align: right;\n",
              "    }\n",
              "</style>\n",
              "<table border=\"1\" class=\"dataframe\">\n",
              "  <thead>\n",
              "    <tr style=\"text-align: right;\">\n",
              "      <th></th>\n",
              "      <th>period_start</th>\n",
              "      <th>period_end</th>\n",
              "      <th>followers_gained</th>\n",
              "      <th>followers_lost</th>\n",
              "      <th>followers_net</th>\n",
              "      <th>followers_total</th>\n",
              "      <th>subscribers_gained</th>\n",
              "      <th>subscribers_lost</th>\n",
              "      <th>subscribers_net</th>\n",
              "      <th>subscribers_total</th>\n",
              "      <th>views</th>\n",
              "    </tr>\n",
              "  </thead>\n",
              "  <tbody>\n",
              "    <tr>\n",
              "      <th>0</th>\n",
              "      <td>5/1/2020</td>\n",
              "      <td>5/31/2020</td>\n",
              "      <td>1</td>\n",
              "      <td>0</td>\n",
              "      <td>1</td>\n",
              "      <td>1</td>\n",
              "      <td>0</td>\n",
              "      <td>0</td>\n",
              "      <td>0</td>\n",
              "      <td>0</td>\n",
              "      <td>128.0</td>\n",
              "    </tr>\n",
              "    <tr>\n",
              "      <th>1</th>\n",
              "      <td>6/1/2020</td>\n",
              "      <td>6/30/2020</td>\n",
              "      <td>8</td>\n",
              "      <td>0</td>\n",
              "      <td>8</td>\n",
              "      <td>9</td>\n",
              "      <td>0</td>\n",
              "      <td>0</td>\n",
              "      <td>0</td>\n",
              "      <td>0</td>\n",
              "      <td>16130.0</td>\n",
              "    </tr>\n",
              "    <tr>\n",
              "      <th>2</th>\n",
              "      <td>7/1/2020</td>\n",
              "      <td>7/31/2020</td>\n",
              "      <td>103</td>\n",
              "      <td>0</td>\n",
              "      <td>103</td>\n",
              "      <td>112</td>\n",
              "      <td>0</td>\n",
              "      <td>0</td>\n",
              "      <td>0</td>\n",
              "      <td>0</td>\n",
              "      <td>14616.0</td>\n",
              "    </tr>\n",
              "    <tr>\n",
              "      <th>3</th>\n",
              "      <td>8/1/2020</td>\n",
              "      <td>8/31/2020</td>\n",
              "      <td>46</td>\n",
              "      <td>0</td>\n",
              "      <td>46</td>\n",
              "      <td>158</td>\n",
              "      <td>0</td>\n",
              "      <td>0</td>\n",
              "      <td>0</td>\n",
              "      <td>0</td>\n",
              "      <td>4053.0</td>\n",
              "    </tr>\n",
              "    <tr>\n",
              "      <th>4</th>\n",
              "      <td>9/1/2020</td>\n",
              "      <td>9/30/2020</td>\n",
              "      <td>35</td>\n",
              "      <td>1</td>\n",
              "      <td>34</td>\n",
              "      <td>192</td>\n",
              "      <td>0</td>\n",
              "      <td>0</td>\n",
              "      <td>0</td>\n",
              "      <td>0</td>\n",
              "      <td>5153.0</td>\n",
              "    </tr>\n",
              "  </tbody>\n",
              "</table>\n",
              "</div>"
            ],
            "text/plain": [
              "  period_start period_end  ...  subscribers_total    views\n",
              "0     5/1/2020  5/31/2020  ...                  0    128.0\n",
              "1     6/1/2020  6/30/2020  ...                  0  16130.0\n",
              "2     7/1/2020  7/31/2020  ...                  0  14616.0\n",
              "3     8/1/2020  8/31/2020  ...                  0   4053.0\n",
              "4     9/1/2020  9/30/2020  ...                  0   5153.0\n",
              "\n",
              "[5 rows x 11 columns]"
            ]
          },
          "metadata": {},
          "execution_count": 1
        }
      ]
    },
    {
      "cell_type": "code",
      "metadata": {
        "colab": {
          "base_uri": "https://localhost:8080/",
          "height": 626
        },
        "id": "NUXrUFK6ZI3k",
        "outputId": "ed073aaa-f972-4ef1-f88e-36fa103acaf3"
      },
      "source": [
        "plt.figure(figsize=(15, 10))\n",
        "sns.set_theme(style=\"whitegrid\")\n",
        "plt.title(\"Number of Followers I Gained Every Month\")\n",
        "sns.barplot(x=\"followers_gained\", y=\"period_end\", data=data)\n",
        "plt.show()"
      ],
      "execution_count": 2,
      "outputs": [
        {
          "output_type": "display_data",
          "data": {
            "image/png": "[encoded data removed]",
            "text/plain": [
              "<Figure size 1080x720 with 1 Axes>"
            ]
          },
          "metadata": {
            "needs_background": "light"
          }
        }
      ]
    },
    {
      "cell_type": "code",
      "metadata": {
        "colab": {
          "base_uri": "https://localhost:8080/",
          "height": 626
        },
        "id": "GH2kYzlMZRbi",
        "outputId": "c105aebd-bc0a-4262-ad91-603da33ed8d8"
      },
      "source": [
        "plt.figure(figsize=(15, 10))\n",
        "sns.set_theme(style=\"whitegrid\")\n",
        "plt.title(\"Total Followers At The End of Every Month\")\n",
        "sns.barplot(x=\"followers_total\", y=\"period_end\", data=data)\n",
        "plt.show()"
      ],
      "execution_count": 3,
      "outputs": [
        {
          "output_type": "display_data",
          "data": {
            "image/png": "[encoded data removed]",
            "text/plain": [
              "<Figure size 1080x720 with 1 Axes>"
            ]
          },
          "metadata": {}
        }
      ]
    },
    {
      "cell_type": "code",
      "metadata": {
        "colab": {
          "base_uri": "https://localhost:8080/"
        },
        "id": "QCUeI2ubZcqh",
        "outputId": "ef864a65-65f7-4665-8d9c-f19ef01269dd"
      },
      "source": [
        "!pip install autots\n",
        "\n",
        "from autots import AutoTS\n",
        "model = AutoTS(forecast_length=4, frequency='infer', ensemble='simple')\n",
        "model = model.fit(data, date_col='period_end', value_col='followers_gained', id_col=None)\n",
        "prediction = model.predict()\n",
        "forecast = prediction.forecast\n",
        "print(forecast)"
      ],
      "execution_count": 4,
      "outputs": [
        {
          "output_type": "stream",
          "name": "stdout",
          "text": [
            "Collecting autots\n",
            "  Downloading AutoTS-0.3.8-py3-none-any.whl (427 kB)\n",
            "\u001b[?25l\r\u001b[K     |▊                               | 10 kB 20.8 MB/s eta 0:00:01\r\u001b[K     |█▌                              | 20 kB 26.2 MB/s eta 0:00:01\r\u001b[K     |██▎                             | 30 kB 15.7 MB/s eta 0:00:01\r\u001b[K     |███                             | 40 kB 11.7 MB/s eta 0:00:01\r\u001b[K     |███▉                            | 51 kB 6.9 MB/s eta 0:00:01\r\u001b[K     |████▋                           | 61 kB 6.6 MB/s eta 0:00:01\r\u001b[K     |█████▍                          | 71 kB 6.6 MB/s eta 0:00:01\r\u001b[K     |██████▏                         | 81 kB 7.4 MB/s eta 0:00:01\r\u001b[K     |███████                         | 92 kB 6.1 MB/s eta 0:00:01\r\u001b[K     |███████▋                        | 102 kB 6.6 MB/s eta 0:00:01\r\u001b[K     |████████▍                       | 112 kB 6.6 MB/s eta 0:00:01\r\u001b[K     |█████████▏                      | 122 kB 6.6 MB/s eta 0:00:01\r\u001b[K     |██████████                      | 133 kB 6.6 MB/s eta 0:00:01\r\u001b[K     |██████████▊                     | 143 kB 6.6 MB/s eta 0:00:01\r\u001b[K     |███████████▌                    | 153 kB 6.6 MB/s eta 0:00:01\r\u001b[K     |████████████▎                   | 163 kB 6.6 MB/s eta 0:00:01\r\u001b[K     |█████████████                   | 174 kB 6.6 MB/s eta 0:00:01\r\u001b[K     |█████████████▉                  | 184 kB 6.6 MB/s eta 0:00:01\r\u001b[K     |██████████████▋                 | 194 kB 6.6 MB/s eta 0:00:01\r\u001b[K     |███████████████▎                | 204 kB 6.6 MB/s eta 0:00:01\r\u001b[K     |████████████████                | 215 kB 6.6 MB/s eta 0:00:01\r\u001b[K     |████████████████▉               | 225 kB 6.6 MB/s eta 0:00:01\r\u001b[K     |█████████████████▋              | 235 kB 6.6 MB/s eta 0:00:01\r\u001b[K     |██████████████████▍             | 245 kB 6.6 MB/s eta 0:00:01\r\u001b[K     |███████████████████▏            | 256 kB 6.6 MB/s eta 0:00:01\r\u001b[K     |████████████████████            | 266 kB 6.6 MB/s eta 0:00:01\r\u001b[K     |████████████████████▊           | 276 kB 6.6 MB/s eta 0:00:01\r\u001b[K     |█████████████████████▌          | 286 kB 6.6 MB/s eta 0:00:01\r\u001b[K     |██████████████████████▎         | 296 kB 6.6 MB/s eta 0:00:01\r\u001b[K     |███████████████████████         | 307 kB 6.6 MB/s eta 0:00:01\r\u001b[K     |███████████████████████▊        | 317 kB 6.6 MB/s eta 0:00:01\r\u001b[K     |████████████████████████▌       | 327 kB 6.6 MB/s eta 0:00:01\r\u001b[K     |█████████████████████████▎      | 337 kB 6.6 MB/s eta 0:00:01\r\u001b[K     |██████████████████████████      | 348 kB 6.6 MB/s eta 0:00:01\r\u001b[K     |██████████████████████████▉     | 358 kB 6.6 MB/s eta 0:00:01\r\u001b[K     |███████████████████████████▋    | 368 kB 6.6 MB/s eta 0:00:01\r\u001b[K     |████████████████████████████▍   | 378 kB 6.6 MB/s eta 0:00:01\r\u001b[K     |█████████████████████████████▏  | 389 kB 6.6 MB/s eta 0:00:01\r\u001b[K     |█████████████████████████████▉  | 399 kB 6.6 MB/s eta 0:00:01\r\u001b[K     |██████████████████████████████▋ | 409 kB 6.6 MB/s eta 0:00:01\r\u001b[K     |███████████████████████████████▍| 419 kB 6.6 MB/s eta 0:00:01\r\u001b[K     |████████████████████████████████| 427 kB 6.6 MB/s \n",
            "\u001b[?25hRequirement already satisfied: statsmodels>=0.10.* in /usr/local/lib/python3.7/dist-packages (from autots) (0.10.2)\n",
            "Requirement already satisfied: scikit-learn>=0.20.* in /usr/local/lib/python3.7/dist-packages (from autots) (0.22.2.post1)\n",
            "Requirement already satisfied: numpy>=1.14.6 in /usr/local/lib/python3.7/dist-packages (from autots) (1.19.5)\n",
            "Requirement already satisfied: pandas>=0.25.* in /usr/local/lib/python3.7/dist-packages (from autots) (1.1.5)\n",
            "Requirement already satisfied: python-dateutil>=2.7.3 in /usr/local/lib/python3.7/dist-packages (from pandas>=0.25.*->autots) (2.8.2)\n",
            "Requirement already satisfied: pytz>=2017.2 in /usr/local/lib/python3.7/dist-packages (from pandas>=0.25.*->autots) (2018.9)\n",
            "Requirement already satisfied: six>=1.5 in /usr/local/lib/python3.7/dist-packages (from python-dateutil>=2.7.3->pandas>=0.25.*->autots) (1.15.0)\n",
            "Requirement already satisfied: joblib>=0.11 in /usr/local/lib/python3.7/dist-packages (from scikit-learn>=0.20.*->autots) (1.0.1)\n",
            "Requirement already satisfied: scipy>=0.17.0 in /usr/local/lib/python3.7/dist-packages (from scikit-learn>=0.20.*->autots) (1.4.1)\n",
            "Requirement already satisfied: patsy>=0.4.0 in /usr/local/lib/python3.7/dist-packages (from statsmodels>=0.10.*->autots) (0.5.2)\n",
            "Installing collected packages: autots\n",
            "Successfully installed autots-0.3.8\n"
          ]
        },
        {
          "output_type": "stream",
          "name": "stderr",
          "text": [
            "/usr/local/lib/python3.7/dist-packages/statsmodels/tools/_testing.py:19: FutureWarning: pandas.util.testing is deprecated. Use the functions in the public API at pandas.testing instead.\n",
            "  import pandas.util.testing as tm\n"
          ]
        },
        {
          "output_type": "stream",
          "name": "stdout",
          "text": [
            "Inferred frequency is: M\n",
            "Model Number: 1 with model AverageValueNaive in generation 0 of 10\n",
            "Model Number: 2 with model AverageValueNaive in generation 0 of 10\n",
            "Model Number: 3 with model AverageValueNaive in generation 0 of 10\n",
            "Model Number: 4 with model DatepartRegression in generation 0 of 10\n",
            "Model Number: 5 with model DatepartRegression in generation 0 of 10\n",
            "Model Number: 6 with model DatepartRegression in generation 0 of 10\n",
            "Model Number: 7 with model DatepartRegression in generation 0 of 10\n"
          ]
        },
        {
          "output_type": "stream",
          "name": "stderr",
          "text": [
            "/usr/local/lib/python3.7/dist-packages/sklearn/svm/_base.py:947: ConvergenceWarning:\n",
            "\n",
            "Liblinear failed to converge, increase the number of iterations.\n",
            "\n"
          ]
        },
        {
          "output_type": "stream",
          "name": "stdout",
          "text": [
            "Epoch 1/50\n",
            "1/1 [==============================] - 6s 6s/step - loss: 0.3863\n",
            "Epoch 2/50\n",
            "1/1 [==============================] - 0s 12ms/step - loss: 0.3748\n",
            "Epoch 3/50\n",
            "1/1 [==============================] - 0s 12ms/step - loss: 0.3722\n",
            "Epoch 4/50\n",
            "1/1 [==============================] - 0s 13ms/step - loss: 0.3578\n",
            "Epoch 5/50\n",
            "1/1 [==============================] - 0s 11ms/step - loss: 0.3639\n",
            "Epoch 6/50\n",
            "1/1 [==============================] - 0s 8ms/step - loss: 0.3724\n",
            "Epoch 7/50\n",
            "1/1 [==============================] - 0s 11ms/step - loss: 0.3627\n",
            "Epoch 8/50\n",
            "1/1 [==============================] - 0s 8ms/step - loss: 0.3471\n",
            "Epoch 9/50\n",
            "1/1 [==============================] - 0s 17ms/step - loss: 0.3609\n",
            "Epoch 10/50\n",
            "1/1 [==============================] - 0s 12ms/step - loss: 0.3665\n",
            "Epoch 11/50\n",
            "1/1 [==============================] - 0s 12ms/step - loss: 0.3643\n",
            "Epoch 12/50\n",
            "1/1 [==============================] - 0s 11ms/step - loss: 0.3747\n",
            "Epoch 13/50\n",
            "1/1 [==============================] - 0s 11ms/step - loss: 0.3625\n",
            "Epoch 14/50\n",
            "1/1 [==============================] - 0s 10ms/step - loss: 0.3480\n",
            "Epoch 15/50\n",
            "1/1 [==============================] - 0s 12ms/step - loss: 0.3590\n",
            "Epoch 16/50\n",
            "1/1 [==============================] - 0s 12ms/step - loss: 0.3799\n",
            "Epoch 17/50\n",
            "1/1 [==============================] - 0s 13ms/step - loss: 0.3596\n",
            "Epoch 18/50\n",
            "1/1 [==============================] - 0s 13ms/step - loss: 0.3477\n",
            "Epoch 19/50\n",
            "1/1 [==============================] - 0s 10ms/step - loss: 0.3486\n",
            "Epoch 20/50\n",
            "1/1 [==============================] - 0s 14ms/step - loss: 0.3528\n",
            "Epoch 21/50\n",
            "1/1 [==============================] - 0s 13ms/step - loss: 0.3555\n",
            "Epoch 22/50\n",
            "1/1 [==============================] - 0s 14ms/step - loss: 0.3506\n",
            "Epoch 23/50\n",
            "1/1 [==============================] - 0s 17ms/step - loss: 0.3548\n",
            "Epoch 24/50\n",
            "1/1 [==============================] - 0s 10ms/step - loss: 0.3568\n",
            "Epoch 25/50\n",
            "1/1 [==============================] - 0s 12ms/step - loss: 0.3434\n",
            "Epoch 26/50\n",
            "1/1 [==============================] - 0s 11ms/step - loss: 0.3607\n",
            "Epoch 27/50\n",
            "1/1 [==============================] - 0s 11ms/step - loss: 0.3392\n",
            "Epoch 28/50\n",
            "1/1 [==============================] - 0s 14ms/step - loss: 0.3359\n",
            "Epoch 29/50\n",
            "1/1 [==============================] - 0s 10ms/step - loss: 0.3478\n",
            "Epoch 30/50\n",
            "1/1 [==============================] - 0s 13ms/step - loss: 0.3414\n",
            "Epoch 31/50\n",
            "1/1 [==============================] - 0s 13ms/step - loss: 0.3496\n",
            "Epoch 32/50\n",
            "1/1 [==============================] - 0s 11ms/step - loss: 0.3391\n",
            "Epoch 33/50\n",
            "1/1 [==============================] - 0s 10ms/step - loss: 0.3269\n",
            "Epoch 34/50\n",
            "1/1 [==============================] - 0s 12ms/step - loss: 0.3482\n",
            "Epoch 35/50\n",
            "1/1 [==============================] - 0s 11ms/step - loss: 0.3367\n",
            "Epoch 36/50\n",
            "1/1 [==============================] - 0s 11ms/step - loss: 0.3314\n",
            "Epoch 37/50\n",
            "1/1 [==============================] - 0s 14ms/step - loss: 0.3396\n",
            "Epoch 38/50\n",
            "1/1 [==============================] - 0s 13ms/step - loss: 0.3314\n",
            "Epoch 39/50\n",
            "1/1 [==============================] - 0s 12ms/step - loss: 0.3435\n",
            "Epoch 40/50\n",
            "1/1 [==============================] - 0s 13ms/step - loss: 0.3389\n",
            "Epoch 41/50\n",
            "1/1 [==============================] - 0s 15ms/step - loss: 0.3235\n",
            "Epoch 42/50\n",
            "1/1 [==============================] - 0s 12ms/step - loss: 0.3399\n",
            "Epoch 43/50\n",
            "1/1 [==============================] - 0s 27ms/step - loss: 0.3287\n",
            "Epoch 44/50\n",
            "1/1 [==============================] - 0s 14ms/step - loss: 0.3181\n",
            "Epoch 45/50\n",
            "1/1 [==============================] - 0s 11ms/step - loss: 0.3061\n",
            "Epoch 46/50\n",
            "1/1 [==============================] - 0s 10ms/step - loss: 0.3165\n",
            "Epoch 47/50\n",
            "1/1 [==============================] - 0s 11ms/step - loss: 0.3310\n",
            "Epoch 48/50\n",
            "1/1 [==============================] - 0s 12ms/step - loss: 0.3064\n",
            "Epoch 49/50\n",
            "1/1 [==============================] - 0s 12ms/step - loss: 0.3068\n",
            "Epoch 50/50\n",
            "1/1 [==============================] - 0s 11ms/step - loss: 0.3035\n",
            "Model Number: 8 with model ETS in generation 0 of 10\n",
            "Model Number: 9 with model ETS in generation 0 of 10\n",
            "Model Number: 10 with model GLM in generation 0 of 10\n"
          ]
        },
        {
          "output_type": "stream",
          "name": "stderr",
          "text": [
            "/usr/local/lib/python3.7/dist-packages/statsmodels/tsa/holtwinters.py:712: ConvergenceWarning:\n",
            "\n",
            "Optimization failed to converge. Check mle_retvals.\n",
            "\n"
          ]
        },
        {
          "output_type": "stream",
          "name": "stdout",
          "text": [
            "Model Number: 11 with model GLM in generation 0 of 10\n",
            "Model Number: 12 with model GLS in generation 0 of 10\n",
            "Model Number: 13 with model GLS in generation 0 of 10\n",
            "Model Number: 14 with model GluonTS in generation 0 of 10\n",
            "Template Eval Error: ImportError('GluonTS installation not found or installed version is incompatible with AutoTS.') in model 14: GluonTS\n",
            "Model Number: 15 with model GluonTS in generation 0 of 10\n",
            "Template Eval Error: ImportError('GluonTS installation not found or installed version is incompatible with AutoTS.') in model 15: GluonTS\n",
            "Model Number: 16 with model GluonTS in generation 0 of 10\n",
            "Template Eval Error: ImportError('GluonTS installation not found or installed version is incompatible with AutoTS.') in model 16: GluonTS\n",
            "Model Number: 17 with model GluonTS in generation 0 of 10\n",
            "Template Eval Error: ImportError('GluonTS installation not found or installed version is incompatible with AutoTS.') in model 17: GluonTS\n",
            "Model Number: 18 with model GluonTS in generation 0 of 10\n",
            "Template Eval Error: ImportError('GluonTS installation not found or installed version is incompatible with AutoTS.') in model 18: GluonTS\n",
            "Model Number: 19 with model GluonTS in generation 0 of 10\n",
            "Template Eval Error: ImportError('GluonTS installation not found or installed version is incompatible with AutoTS.') in model 19: GluonTS\n",
            "Model Number: 20 with model LastValueNaive in generation 0 of 10\n",
            "Model Number: 21 with model LastValueNaive in generation 0 of 10\n",
            "Model Number: 22 with model LastValueNaive in generation 0 of 10\n",
            "Model Number: 23 with model LastValueNaive in generation 0 of 10\n",
            "Model Number: 24 with model SeasonalNaive in generation 0 of 10\n",
            "Model Number: 25 with model SeasonalNaive in generation 0 of 10\n",
            "Model Number: 26 with model SeasonalNaive in generation 0 of 10\n",
            "Model Number: 27 with model SeasonalNaive in generation 0 of 10\n",
            "Model Number: 28 with model UnobservedComponents in generation 0 of 10\n",
            "Model Number: 29 with model UnobservedComponents in generation 0 of 10\n",
            "Model Number: 30 with model UnobservedComponents in generation 0 of 10\n",
            "Model Number: 31 with model VAR in generation 0 of 10\n",
            "Template Eval Error: ValueError('Only gave one variable to VAR') in model 31: VAR\n",
            "Model Number: 32 with model VAR in generation 0 of 10\n",
            "Template Eval Error: ValueError('Only gave one variable to VAR') in model 32: VAR\n",
            "Model Number: 33 with model VAR in generation 0 of 10\n",
            "Template Eval Error: ValueError('Only gave one variable to VAR') in model 33: VAR\n",
            "Model Number: 34 with model VECM in generation 0 of 10\n",
            "Template Eval Error: ValueError('Only gave one variable to VECM') in model 34: VECM\n",
            "Model Number: 35 with model VECM in generation 0 of 10\n",
            "Template Eval Error: ValueError('Only gave one variable to VECM') in model 35: VECM\n",
            "Model Number: 36 with model VECM in generation 0 of 10\n",
            "Template Eval Error: ValueError('Only gave one variable to VECM') in model 36: VECM\n",
            "Model Number: 37 with model VECM in generation 0 of 10\n",
            "Template Eval Error: ValueError('Only gave one variable to VECM') in model 37: VECM\n",
            "Model Number: 38 with model WindowRegression in generation 0 of 10\n",
            "Template Eval Error: ValueError('Found array with 0 sample(s) (shape=(0, 0)) while a minimum of 1 is required.') in model 38: WindowRegression\n",
            "Model Number: 39 with model ZeroesNaive in generation 0 of 10\n",
            "Model Number: 40 with model ZeroesNaive in generation 0 of 10\n",
            "Model Number: 41 with model LastValueNaive in generation 0 of 10\n",
            "Model Number: 42 with model AverageValueNaive in generation 0 of 10\n",
            "Model Number: 43 with model GLS in generation 0 of 10\n",
            "Model Number: 44 with model SeasonalNaive in generation 0 of 10\n",
            "Model Number: 45 with model GLM in generation 0 of 10\n",
            "Template Eval Error: ValueError('The first guess on the deviance function returned a nan.  This could be a boundary  problem and should be reported.') in model 45: GLM\n",
            "Model Number: 46 with model ETS in generation 0 of 10\n",
            "Model Number: 47 with model FBProphet in generation 0 of 10\n"
          ]
        },
        {
          "output_type": "stream",
          "name": "stderr",
          "text": [
            "/usr/local/lib/python3.7/dist-packages/statsmodels/genmod/families/family.py:1227: RuntimeWarning:\n",
            "\n",
            "invalid value encountered in log\n",
            "\n",
            "INFO:fbprophet:Disabling yearly seasonality. Run prophet with yearly_seasonality=True to override this.\n",
            "INFO:fbprophet:Disabling weekly seasonality. Run prophet with weekly_seasonality=True to override this.\n",
            "INFO:fbprophet:Disabling daily seasonality. Run prophet with daily_seasonality=True to override this.\n",
            "INFO:fbprophet:n_changepoints greater than number of observations. Using 7.\n"
          ]
        },
        {
          "output_type": "stream",
          "name": "stdout",
          "text": [
            "Model Number: 48 with model RollingRegression in generation 0 of 10\n",
            "Template Eval Error: ImportError(\"cannot import name 'PoissonRegressor' from 'sklearn.linear_model' (/usr/local/lib/python3.7/dist-packages/sklearn/linear_model/__init__.py)\") in model 48: RollingRegression\n",
            "Model Number: 49 with model GluonTS in generation 0 of 10\n",
            "Template Eval Error: ImportError('GluonTS installation not found or installed version is incompatible with AutoTS.') in model 49: GluonTS\n",
            "Model Number: 50 with model UnobservedComponents in generation 0 of 10\n",
            "Model Number: 51 with model VAR in generation 0 of 10\n",
            "Template Eval Error: ValueError('Only gave one variable to VAR') in model 51: VAR\n",
            "Model Number: 52 with model VECM in generation 0 of 10\n",
            "Template Eval Error: ValueError('Only gave one variable to VECM') in model 52: VECM\n",
            "Model Number: 53 with model WindowRegression in generation 0 of 10\n",
            "Template Eval Error: KeyError('squared_error') in model 53: WindowRegression\n",
            "Model Number: 54 with model DatepartRegression in generation 0 of 10\n",
            "Model Number: 55 with model UnivariateRegression in generation 0 of 10\n",
            "Template Eval Error: TypeError(\"unsupported operand type(s) for -: 'NoneType' and 'int'\") in model 55: UnivariateRegression\n",
            "Model Number: 56 with model MultivariateRegression in generation 0 of 10\n"
          ]
        },
        {
          "output_type": "stream",
          "name": "stderr",
          "text": [
            "/usr/local/lib/python3.7/dist-packages/autots/models/sklearn.py:1363: DataConversionWarning:\n",
            "\n",
            "A column-vector y was passed when a 1d array was expected. Please change the shape of y to (n_samples,), for example using ravel().\n",
            "\n",
            "/usr/local/lib/python3.7/dist-packages/sklearn/svm/_base.py:947: ConvergenceWarning:\n",
            "\n",
            "Liblinear failed to converge, increase the number of iterations.\n",
            "\n"
          ]
        },
        {
          "output_type": "stream",
          "name": "stdout",
          "text": [
            "Template Eval Error: KeyError('squared_error') in model 56: MultivariateRegression\n",
            "Model Number: 57 with model UnivariateMotif in generation 0 of 10\n",
            "Template Eval Error: AttributeError(\"module 'numpy.lib.stride_tricks' has no attribute 'sliding_window_view'\") in model 57: UnivariateMotif\n",
            "Model Number: 58 with model MultivariateMotif in generation 0 of 10\n",
            "Template Eval Error: AttributeError(\"module 'numpy.lib.stride_tricks' has no attribute 'sliding_window_view'\") in model 58: MultivariateMotif\n",
            "Model Number: 59 with model NVAR in generation 0 of 10\n",
            "Model Number: 60 with model VECM in generation 0 of 10\n",
            "Template Eval Error: ValueError('Only gave one variable to VECM') in model 60: VECM\n",
            "Model Number: 61 with model ETS in generation 0 of 10\n",
            "Model Number: 62 with model MultivariateMotif in generation 0 of 10\n",
            "Template Eval Error: AttributeError(\"module 'numpy.lib.stride_tricks' has no attribute 'sliding_window_view'\") in model 62: MultivariateMotif\n",
            "Model Number: 63 with model GluonTS in generation 0 of 10\n",
            "Template Eval Error: ImportError('GluonTS installation not found or installed version is incompatible with AutoTS.') in model 63: GluonTS\n",
            "Model Number: 64 with model FBProphet in generation 0 of 10\n",
            "Template Eval Error: AttributeError(\"'list' object has no attribute 'shape'\") in model 64: FBProphet\n",
            "Model Number: 65 with model GLM in generation 0 of 10\n",
            "Model Number: 66 with model VAR in generation 0 of 10\n",
            "Template Eval Error: ValueError('Only gave one variable to VAR') in model 66: VAR\n",
            "Model Number: 67 with model LastValueNaive in generation 0 of 10\n",
            "Model Number: 68 with model UnivariateRegression in generation 0 of 10\n",
            "Template Eval Error: TypeError(\"unsupported operand type(s) for -: 'NoneType' and 'int'\") in model 68: UnivariateRegression\n",
            "Model Number: 69 with model MultivariateMotif in generation 0 of 10\n",
            "Template Eval Error: AttributeError(\"module 'numpy.lib.stride_tricks' has no attribute 'sliding_window_view'\") in model 69: MultivariateMotif\n",
            "Model Number: 70 with model UnivariateRegression in generation 0 of 10\n",
            "Template Eval Error: TypeError(\"unsupported operand type(s) for -: 'NoneType' and 'int'\") in model 70: UnivariateRegression\n"
          ]
        },
        {
          "output_type": "stream",
          "name": "stderr",
          "text": [
            "/usr/local/lib/python3.7/dist-packages/statsmodels/genmod/generalized_linear_model.py:273: DomainWarning:\n",
            "\n",
            "The inverse_power link function does not respect the domain of the Gamma family.\n",
            "\n"
          ]
        },
        {
          "output_type": "stream",
          "name": "stdout",
          "text": [
            "Model Number: 71 with model UnivariateRegression in generation 0 of 10\n",
            "Template Eval Error: TypeError(\"unsupported operand type(s) for -: 'NoneType' and 'int'\") in model 71: UnivariateRegression\n",
            "Model Number: 72 with model RollingRegression in generation 0 of 10\n",
            "Template Eval Error: ValueError(\"Input contains NaN, infinity or a value too large for dtype('float64').\") in model 72: RollingRegression\n",
            "Model Number: 73 with model GLS in generation 0 of 10\n",
            "Model Number: 74 with model ZeroesNaive in generation 0 of 10\n",
            "Model Number: 75 with model ETS in generation 0 of 10\n",
            "Model Number: 76 with model SeasonalNaive in generation 0 of 10\n",
            "Model Number: 77 with model UnobservedComponents in generation 0 of 10\n",
            "Model Number: 78 with model GLS in generation 0 of 10\n",
            "Model Number: 79 with model SeasonalNaive in generation 0 of 10\n",
            "Model Number: 80 with model ETS in generation 0 of 10\n",
            "Model Number: 81 with model ETS in generation 0 of 10\n",
            "Model Number: 82 with model VECM in generation 0 of 10\n",
            "Template Eval Error: AttributeError(\"'list' object has no attribute 'shape'\") in model 82: VECM\n",
            "Model Number: 83 with model UnivariateMotif in generation 0 of 10\n",
            "Template Eval Error: AttributeError(\"module 'numpy.lib.stride_tricks' has no attribute 'sliding_window_view'\") in model 83: UnivariateMotif\n",
            "Model Number: 84 with model MultivariateMotif in generation 0 of 10\n",
            "Template Eval Error: AttributeError(\"module 'numpy.lib.stride_tricks' has no attribute 'sliding_window_view'\") in model 84: MultivariateMotif\n",
            "Model Number: 85 with model UnivariateRegression in generation 0 of 10\n",
            "Template Eval Error: TypeError(\"unsupported operand type(s) for -: 'NoneType' and 'int'\") in model 85: UnivariateRegression\n",
            "Model Number: 86 with model UnobservedComponents in generation 0 of 10\n",
            "Model Number: 87 with model WindowRegression in generation 0 of 10\n",
            "Template Eval Error: ValueError(\"WindowRegression regression_type='user' requires numpy >= 1.20\") in model 87: WindowRegression\n",
            "Model Number: 88 with model UnobservedComponents in generation 0 of 10\n",
            "Model Number: 89 with model GLS in generation 0 of 10\n",
            "Model Number: 90 with model AverageValueNaive in generation 0 of 10\n",
            "Template Eval Error: ImportError(\"cannot import name 'STL' from 'statsmodels.tsa.seasonal' (/usr/local/lib/python3.7/dist-packages/statsmodels/tsa/seasonal.py)\") in model 90: AverageValueNaive\n",
            "Model Number: 91 with model VAR in generation 0 of 10\n",
            "Template Eval Error: ValueError('Only gave one variable to VAR') in model 91: VAR\n",
            "Model Number: 92 with model WindowRegression in generation 0 of 10\n",
            "Template Eval Error: ValueError('Found array with 0 sample(s) (shape=(0, 0)) while a minimum of 1 is required.') in model 92: WindowRegression\n",
            "Model Number: 93 with model UnobservedComponents in generation 0 of 10\n",
            "Template Eval Error: ImportError(\"cannot import name 'STL' from 'statsmodels.tsa.seasonal' (/usr/local/lib/python3.7/dist-packages/statsmodels/tsa/seasonal.py)\") in model 93: UnobservedComponents\n",
            "Model Number: 94 with model NVAR in generation 0 of 10\n",
            "Model Number: 95 with model ETS in generation 0 of 10\n",
            "Model Number: 96 with model VAR in generation 0 of 10\n",
            "Template Eval Error: ValueError('Only gave one variable to VAR') in model 96: VAR\n",
            "Model Number: 97 with model NVAR in generation 0 of 10\n",
            "Model Number: 98 with model GLM in generation 0 of 10\n",
            "Model Number: 99 with model MultivariateMotif in generation 0 of 10\n",
            "Template Eval Error: AttributeError(\"module 'numpy.lib.stride_tricks' has no attribute 'sliding_window_view'\") in model 99: MultivariateMotif\n",
            "Model Number: 100 with model GLS in generation 0 of 10\n",
            "Model Number: 101 with model AverageValueNaive in generation 0 of 10\n",
            "Model Number: 102 with model MultivariateRegression in generation 0 of 10\n",
            "Model Number: 103 with model GluonTS in generation 0 of 10\n",
            "Template Eval Error: ImportError('GluonTS installation not found or installed version is incompatible with AutoTS.') in model 103: GluonTS\n",
            "Model Number: 104 with model ETS in generation 0 of 10\n",
            "Model Number: 105 with model RollingRegression in generation 0 of 10\n",
            "Template Eval Error: ValueError(\"Input contains NaN, infinity or a value too large for dtype('float32').\") in model 105: RollingRegression\n",
            "Model Number: 106 with model DatepartRegression in generation 0 of 10\n",
            "Template Eval Error: KeyError('squared_error') in model 106: DatepartRegression\n",
            "Model Number: 107 with model NVAR in generation 0 of 10\n",
            "Model Number: 108 with model MultivariateRegression in generation 0 of 10\n",
            "Template Eval Error: AttributeError(\"'list' object has no attribute 'shape'\") in model 108: MultivariateRegression\n",
            "Model Number: 109 with model SeasonalNaive in generation 0 of 10\n",
            "Model Number: 110 with model GluonTS in generation 0 of 10\n",
            "Template Eval Error: ImportError('GluonTS installation not found or installed version is incompatible with AutoTS.') in model 110: GluonTS\n",
            "Model Number: 111 with model AverageValueNaive in generation 0 of 10\n",
            "Model Number: 112 with model ZeroesNaive in generation 0 of 10\n",
            "Model Number: 113 with model UnivariateRegression in generation 0 of 10\n",
            "Template Eval Error: TypeError(\"unsupported operand type(s) for -: 'NoneType' and 'int'\") in model 113: UnivariateRegression\n",
            "Model Number: 114 with model WindowRegression in generation 0 of 10\n"
          ]
        },
        {
          "output_type": "stream",
          "name": "stderr",
          "text": [
            "/usr/local/lib/python3.7/dist-packages/autots/models/sklearn.py:1363: DataConversionWarning:\n",
            "\n",
            "A column-vector y was passed when a 1d array was expected. Please change the shape of y to (n_samples,), for example using ravel().\n",
            "\n",
            "[Parallel(n_jobs=1)]: Using backend SequentialBackend with 1 concurrent workers.\n",
            "/usr/local/lib/python3.7/dist-packages/sklearn/neural_network/_multilayer_perceptron.py:1342: DataConversionWarning:\n",
            "\n",
            "A column-vector y was passed when a 1d array was expected. Please change the shape of y to (n_samples, ), for example using ravel().\n",
            "\n"
          ]
        },
        {
          "output_type": "stream",
          "name": "stdout",
          "text": [
            "Template Eval Error: KeyError('squared_error') in model 114: WindowRegression\n",
            "Model Number: 115 with model VECM in generation 0 of 10\n",
            "Template Eval Error: ValueError('Only gave one variable to VECM') in model 115: VECM\n",
            "Model Number: 116 with model RollingRegression in generation 0 of 10\n",
            "Model Number: 117 with model GLS in generation 0 of 10\n"
          ]
        },
        {
          "output_type": "stream",
          "name": "stderr",
          "text": [
            "INFO:fbprophet:Disabling yearly seasonality. Run prophet with yearly_seasonality=True to override this.\n",
            "INFO:fbprophet:Disabling weekly seasonality. Run prophet with weekly_seasonality=True to override this.\n",
            "INFO:fbprophet:Disabling daily seasonality. Run prophet with daily_seasonality=True to override this.\n"
          ]
        },
        {
          "output_type": "stream",
          "name": "stdout",
          "text": [
            "Model Number: 118 with model UnivariateRegression in generation 0 of 10\n",
            "Template Eval Error: TypeError(\"unsupported operand type(s) for -: 'NoneType' and 'int'\") in model 118: UnivariateRegression\n",
            "Model Number: 119 with model FBProphet in generation 0 of 10\n"
          ]
        },
        {
          "output_type": "stream",
          "name": "stderr",
          "text": [
            "INFO:fbprophet:n_changepoints greater than number of observations. Using 7.\n"
          ]
        },
        {
          "output_type": "stream",
          "name": "stdout",
          "text": [
            "Model Number: 120 with model VAR in generation 0 of 10\n",
            "Template Eval Error: ValueError('Only gave one variable to VAR') in model 120: VAR\n",
            "Model Number: 121 with model NVAR in generation 0 of 10\n",
            "Model Number: 122 with model NVAR in generation 0 of 10\n",
            "Model Number: 123 with model MultivariateRegression in generation 0 of 10\n",
            "Template Eval Error: AttributeError(\"'list' object has no attribute 'shape'\") in model 123: MultivariateRegression\n",
            "Model Number: 124 with model GLM in generation 0 of 10\n",
            "Model Number: 125 with model NVAR in generation 0 of 10\n",
            "Model Number: 126 with model GLS in generation 0 of 10\n",
            "Template Eval Error: ImportError(\"cannot import name 'STL' from 'statsmodels.tsa.seasonal' (/usr/local/lib/python3.7/dist-packages/statsmodels/tsa/seasonal.py)\") in model 126: GLS\n",
            "Model Number: 127 with model MultivariateMotif in generation 0 of 10\n",
            "Template Eval Error: AttributeError(\"module 'numpy.lib.stride_tricks' has no attribute 'sliding_window_view'\") in model 127: MultivariateMotif\n",
            "Model Number: 128 with model VECM in generation 0 of 10\n",
            "Template Eval Error: ValueError('Only gave one variable to VECM') in model 128: VECM\n",
            "Model Number: 129 with model LastValueNaive in generation 0 of 10\n"
          ]
        },
        {
          "output_type": "stream",
          "name": "stderr",
          "text": [
            "/usr/local/lib/python3.7/dist-packages/statsmodels/genmod/generalized_linear_model.py:273: DomainWarning:\n",
            "\n",
            "The inverse_power link function does not respect the domain of the Gamma family.\n",
            "\n"
          ]
        },
        {
          "output_type": "stream",
          "name": "stdout",
          "text": [
            "Model Number: 130 with model GLM in generation 0 of 10\n",
            "Model Number: 131 with model VECM in generation 0 of 10\n",
            "Template Eval Error: ValueError('Only gave one variable to VECM') in model 131: VECM\n",
            "Model Number: 132 with model GLM in generation 0 of 10\n",
            "Model Number: 133 with model UnivariateRegression in generation 0 of 10\n",
            "Template Eval Error: TypeError(\"unsupported operand type(s) for -: 'NoneType' and 'int'\") in model 133: UnivariateRegression\n",
            "Model Number: 134 with model LastValueNaive in generation 0 of 10\n",
            "Model Number: 135 with model MultivariateMotif in generation 0 of 10\n",
            "Template Eval Error: AttributeError(\"module 'numpy.lib.stride_tricks' has no attribute 'sliding_window_view'\") in model 135: MultivariateMotif\n",
            "Model Number: 136 with model ETS in generation 0 of 10\n",
            "Model Number: 137 with model DatepartRegression in generation 0 of 10\n",
            "Template Eval Error: ValueError('Model DatepartRegression returned NaN for one or more series') in model 137: DatepartRegression\n",
            "Model Number: 138 with model VECM in generation 0 of 10\n",
            "Template Eval Error: AttributeError(\"'list' object has no attribute 'shape'\") in model 138: VECM\n",
            "Model Number: 139 with model FBProphet in generation 0 of 10\n"
          ]
        },
        {
          "output_type": "stream",
          "name": "stderr",
          "text": [
            "/usr/local/lib/python3.7/dist-packages/sklearn/neighbors/_regression.py:362: UserWarning:\n",
            "\n",
            "One or more samples have no neighbors within specified radius; predicting NaN.\n",
            "\n",
            "INFO:fbprophet:Disabling yearly seasonality. Run prophet with yearly_seasonality=True to override this.\n",
            "INFO:fbprophet:Disabling weekly seasonality. Run prophet with weekly_seasonality=True to override this.\n",
            "INFO:fbprophet:Disabling daily seasonality. Run prophet with daily_seasonality=True to override this.\n",
            "INFO:fbprophet:n_changepoints greater than number of observations. Using 7.\n"
          ]
        },
        {
          "output_type": "stream",
          "name": "stdout",
          "text": [
            "New Generation: 1 of 10\n",
            "Model Number: 140 with model DatepartRegression in generation 1 of 10\n",
            "Epoch 1/50\n",
            "1/1 [==============================] - 2s 2s/step - loss: 485.4080 - val_loss: 351.4693\n",
            "Epoch 2/50\n",
            "1/1 [==============================] - 0s 29ms/step - loss: 294.4616 - val_loss: 302.1315\n",
            "Epoch 3/50\n",
            "1/1 [==============================] - 0s 27ms/step - loss: 295.4575 - val_loss: 261.9772\n",
            "Epoch 4/50\n",
            "1/1 [==============================] - 0s 32ms/step - loss: 234.1509 - val_loss: 233.9113\n",
            "Epoch 5/50\n",
            "1/1 [==============================] - 0s 27ms/step - loss: 217.8294 - val_loss: 212.9866\n",
            "Epoch 6/50\n",
            "1/1 [==============================] - 0s 33ms/step - loss: 292.7503 - val_loss: 187.9000\n",
            "Epoch 7/50\n",
            "1/1 [==============================] - 0s 33ms/step - loss: 177.7414 - val_loss: 160.8672\n",
            "Epoch 8/50\n",
            "1/1 [==============================] - 0s 34ms/step - loss: 319.8768 - val_loss: 140.6463\n",
            "Epoch 9/50\n",
            "1/1 [==============================] - 0s 33ms/step - loss: 154.9741 - val_loss: 115.5940\n",
            "Epoch 10/50\n",
            "1/1 [==============================] - 0s 32ms/step - loss: 170.7372 - val_loss: 90.5702\n",
            "Epoch 11/50\n",
            "1/1 [==============================] - 0s 28ms/step - loss: 118.2289 - val_loss: 90.5915\n",
            "Epoch 12/50\n",
            "1/1 [==============================] - 0s 32ms/step - loss: 149.5884 - val_loss: 64.9553\n",
            "Epoch 13/50\n",
            "1/1 [==============================] - 0s 31ms/step - loss: 118.4749 - val_loss: 47.8999\n",
            "Epoch 14/50\n",
            "1/1 [==============================] - 0s 30ms/step - loss: 67.4787 - val_loss: 29.0007\n",
            "Epoch 15/50\n",
            "1/1 [==============================] - 0s 45ms/step - loss: 113.4637 - val_loss: 21.1601\n",
            "Epoch 16/50\n",
            "1/1 [==============================] - 0s 29ms/step - loss: 92.0806 - val_loss: 5.2275\n",
            "Epoch 17/50\n",
            "1/1 [==============================] - 0s 29ms/step - loss: 159.3228 - val_loss: 5.8164\n",
            "Epoch 18/50\n",
            "1/1 [==============================] - 0s 33ms/step - loss: 102.1138 - val_loss: 5.4163\n",
            "Epoch 19/50\n",
            "1/1 [==============================] - 0s 35ms/step - loss: 172.0545 - val_loss: 5.9932\n",
            "Epoch 20/50\n",
            "1/1 [==============================] - 0s 32ms/step - loss: 170.6142 - val_loss: 5.8021\n",
            "Epoch 21/50\n",
            "1/1 [==============================] - 0s 35ms/step - loss: 133.0901 - val_loss: 33.4325\n",
            "Epoch 22/50\n",
            "1/1 [==============================] - 0s 37ms/step - loss: 182.7036 - val_loss: 54.6608\n",
            "Epoch 23/50\n",
            "1/1 [==============================] - 0s 35ms/step - loss: 154.6757 - val_loss: 45.9853\n",
            "Epoch 24/50\n",
            "1/1 [==============================] - 0s 37ms/step - loss: 69.7007 - val_loss: 34.5885\n",
            "Epoch 25/50\n",
            "1/1 [==============================] - 0s 29ms/step - loss: 144.1501 - val_loss: 13.4338\n",
            "Epoch 26/50\n",
            "1/1 [==============================] - 0s 33ms/step - loss: 90.6119 - val_loss: 23.5072\n",
            "Model Number: 141 with model DatepartRegression in generation 1 of 10\n",
            "Template Eval Error: KeyError('squared_error') in model 141: DatepartRegression\n",
            "Model Number: 142 with model DatepartRegression in generation 1 of 10\n",
            "Template Eval Error: KeyError('squared_error') in model 142: DatepartRegression\n",
            "Model Number: 143 with model MultivariateRegression in generation 1 of 10\n"
          ]
        },
        {
          "output_type": "stream",
          "name": "stderr",
          "text": [
            "[Parallel(n_jobs=1)]: Using backend SequentialBackend with 1 concurrent workers.\n"
          ]
        },
        {
          "output_type": "stream",
          "name": "stdout",
          "text": [
            "Model Number: 144 with model MultivariateRegression in generation 1 of 10\n",
            "Model Number: 145 with model MultivariateRegression in generation 1 of 10\n",
            "Template Eval Error: ValueError(\"Input contains NaN, infinity or a value too large for dtype('float64').\") in model 145: MultivariateRegression\n",
            "Model Number: 146 with model MultivariateRegression in generation 1 of 10\n",
            "Model Number: 147 with model FBProphet in generation 1 of 10\n"
          ]
        },
        {
          "output_type": "stream",
          "name": "stderr",
          "text": [
            "INFO:fbprophet:Disabling yearly seasonality. Run prophet with yearly_seasonality=True to override this.\n",
            "INFO:fbprophet:Disabling weekly seasonality. Run prophet with weekly_seasonality=True to override this.\n",
            "INFO:fbprophet:Disabling daily seasonality. Run prophet with daily_seasonality=True to override this.\n",
            "INFO:fbprophet:n_changepoints greater than number of observations. Using 7.\n",
            "INFO:fbprophet:Disabling yearly seasonality. Run prophet with yearly_seasonality=True to override this.\n",
            "INFO:fbprophet:Disabling weekly seasonality. Run prophet with weekly_seasonality=True to override this.\n",
            "INFO:fbprophet:Disabling daily seasonality. Run prophet with daily_seasonality=True to override this.\n",
            "INFO:fbprophet:n_changepoints greater than number of observations. Using 7.\n"
          ]
        },
        {
          "output_type": "stream",
          "name": "stdout",
          "text": [
            "Model Number: 148 with model FBProphet in generation 1 of 10\n"
          ]
        },
        {
          "output_type": "stream",
          "name": "stderr",
          "text": [
            "INFO:fbprophet:Disabling yearly seasonality. Run prophet with yearly_seasonality=True to override this.\n",
            "INFO:fbprophet:Disabling weekly seasonality. Run prophet with weekly_seasonality=True to override this.\n",
            "INFO:fbprophet:Disabling daily seasonality. Run prophet with daily_seasonality=True to override this.\n",
            "INFO:fbprophet:n_changepoints greater than number of observations. Using 7.\n"
          ]
        },
        {
          "output_type": "stream",
          "name": "stdout",
          "text": [
            "Model Number: 149 with model FBProphet in generation 1 of 10\n"
          ]
        },
        {
          "output_type": "stream",
          "name": "stderr",
          "text": [
            "INFO:fbprophet:Disabling yearly seasonality. Run prophet with yearly_seasonality=True to override this.\n",
            "INFO:fbprophet:Disabling weekly seasonality. Run prophet with weekly_seasonality=True to override this.\n",
            "INFO:fbprophet:Disabling daily seasonality. Run prophet with daily_seasonality=True to override this.\n",
            "INFO:fbprophet:n_changepoints greater than number of observations. Using 7.\n"
          ]
        },
        {
          "output_type": "stream",
          "name": "stdout",
          "text": [
            "Model Number: 150 with model FBProphet in generation 1 of 10\n",
            "Model Number: 151 with model GLS in generation 1 of 10\n",
            "Model Number: 152 with model GLS in generation 1 of 10\n",
            "Model Number: 153 with model GLS in generation 1 of 10\n",
            "Model Number: 154 with model SeasonalNaive in generation 1 of 10\n",
            "Model Number: 155 with model SeasonalNaive in generation 1 of 10\n",
            "Model Number: 156 with model SeasonalNaive in generation 1 of 10\n",
            "Model Number: 157 with model SeasonalNaive in generation 1 of 10\n",
            "Model Number: 158 with model UnobservedComponents in generation 1 of 10\n",
            "Model Number: 159 with model UnobservedComponents in generation 1 of 10\n",
            "Model Number: 160 with model UnobservedComponents in generation 1 of 10\n",
            "Model Number: 161 with model GLM in generation 1 of 10\n",
            "Model Number: 162 with model GLM in generation 1 of 10\n",
            "Template Eval Error: ValueError('The first guess on the deviance function returned a nan.  This could be a boundary  problem and should be reported.') in model 162: GLM\n",
            "Model Number: 163 with model GLM in generation 1 of 10\n",
            "Model Number: 164 with model GLM in generation 1 of 10\n"
          ]
        },
        {
          "output_type": "stream",
          "name": "stderr",
          "text": [
            "/usr/local/lib/python3.7/dist-packages/statsmodels/genmod/generalized_linear_model.py:273: DomainWarning:\n",
            "\n",
            "The inverse_power link function does not respect the domain of the Gamma family.\n",
            "\n",
            "/usr/local/lib/python3.7/dist-packages/statsmodels/genmod/families/family.py:179: RuntimeWarning:\n",
            "\n",
            "invalid value encountered in true_divide\n",
            "\n"
          ]
        },
        {
          "output_type": "stream",
          "name": "stdout",
          "text": [
            "Model Number: 165 with model NVAR in generation 1 of 10\n",
            "Model Number: 166 with model NVAR in generation 1 of 10\n",
            "Model Number: 167 with model NVAR in generation 1 of 10\n",
            "Model Number: 168 with model NVAR in generation 1 of 10\n",
            "Model Number: 169 with model AverageValueNaive in generation 1 of 10\n",
            "Model Number: 170 with model AverageValueNaive in generation 1 of 10\n",
            "Model Number: 171 with model AverageValueNaive in generation 1 of 10\n",
            "Model Number: 172 with model LastValueNaive in generation 1 of 10\n",
            "Model Number: 173 with model LastValueNaive in generation 1 of 10\n",
            "Model Number: 174 with model LastValueNaive in generation 1 of 10\n",
            "Model Number: 175 with model ETS in generation 1 of 10\n",
            "Model Number: 176 with model ETS in generation 1 of 10\n",
            "Model Number: 177 with model ETS in generation 1 of 10\n",
            "Model Number: 178 with model ETS in generation 1 of 10\n",
            "Model Number: 179 with model RollingRegression in generation 1 of 10\n",
            "Template Eval Error: ImportError(\"cannot import name 'PoissonRegressor' from 'sklearn.linear_model' (/usr/local/lib/python3.7/dist-packages/sklearn/linear_model/__init__.py)\") in model 179: RollingRegression\n",
            "Model Number: 180 with model RollingRegression in generation 1 of 10\n",
            "Template Eval Error: ValueError(\"Input contains NaN, infinity or a value too large for dtype('float64').\") in model 180: RollingRegression\n",
            "Model Number: 181 with model RollingRegression in generation 1 of 10\n",
            "Template Eval Error: ImportError(\"cannot import name 'PoissonRegressor' from 'sklearn.linear_model' (/usr/local/lib/python3.7/dist-packages/sklearn/linear_model/__init__.py)\") in model 181: RollingRegression\n",
            "Model Number: 182 with model RollingRegression in generation 1 of 10\n"
          ]
        },
        {
          "output_type": "stream",
          "name": "stderr",
          "text": [
            "/usr/local/lib/python3.7/dist-packages/sklearn/neural_network/_multilayer_perceptron.py:1342: DataConversionWarning:\n",
            "\n",
            "A column-vector y was passed when a 1d array was expected. Please change the shape of y to (n_samples, ), for example using ravel().\n",
            "\n"
          ]
        },
        {
          "output_type": "stream",
          "name": "stdout",
          "text": [
            "Model Number: 183 with model ZeroesNaive in generation 1 of 10\n",
            "Model Number: 184 with model ZeroesNaive in generation 1 of 10\n",
            "Model Number: 185 with model ZeroesNaive in generation 1 of 10\n",
            "Model Number: 186 with model GluonTS in generation 1 of 10\n",
            "Template Eval Error: ImportError('GluonTS installation not found or installed version is incompatible with AutoTS.') in model 186: GluonTS\n",
            "Model Number: 187 with model GluonTS in generation 1 of 10\n",
            "Template Eval Error: ImportError('GluonTS installation not found or installed version is incompatible with AutoTS.') in model 187: GluonTS\n",
            "Model Number: 188 with model GluonTS in generation 1 of 10\n",
            "Template Eval Error: ImportError('GluonTS installation not found or installed version is incompatible with AutoTS.') in model 188: GluonTS\n",
            "Model Number: 189 with model GluonTS in generation 1 of 10\n",
            "Template Eval Error: ImportError('GluonTS installation not found or installed version is incompatible with AutoTS.') in model 189: GluonTS\n",
            "Model Number: 190 with model VAR in generation 1 of 10\n",
            "Template Eval Error: ValueError('Only gave one variable to VAR') in model 190: VAR\n",
            "Model Number: 191 with model VAR in generation 1 of 10\n",
            "Template Eval Error: ValueError('Only gave one variable to VAR') in model 191: VAR\n",
            "Model Number: 192 with model VAR in generation 1 of 10\n",
            "Template Eval Error: ValueError('Only gave one variable to VAR') in model 192: VAR\n",
            "Model Number: 193 with model VAR in generation 1 of 10\n",
            "Template Eval Error: ValueError('Only gave one variable to VAR') in model 193: VAR\n",
            "Model Number: 194 with model VECM in generation 1 of 10\n",
            "Template Eval Error: ValueError('Only gave one variable to VECM') in model 194: VECM\n",
            "Model Number: 195 with model VECM in generation 1 of 10\n",
            "Template Eval Error: ValueError('Only gave one variable to VECM') in model 195: VECM\n",
            "Model Number: 196 with model VECM in generation 1 of 10\n",
            "Template Eval Error: ValueError('Only gave one variable to VECM') in model 196: VECM\n",
            "Model Number: 197 with model VECM in generation 1 of 10\n",
            "Template Eval Error: ValueError('Only gave one variable to VECM') in model 197: VECM\n",
            "Model Number: 198 with model WindowRegression in generation 1 of 10\n",
            "Template Eval Error: ValueError('Negative dimension size caused by subtracting 1 from 0 for \\'{{node conv1d/conv1d}} = Conv2D[T=DT_FLOAT, data_format=\"NHWC\", dilations=[1, 1, 1, 1], explicit_paddings=[], padding=\"VALID\", strides=[1, 1, 1, 1], use_cudnn_on_gpu=true](conv1d/conv1d/ExpandDims, conv1d/conv1d/ExpandDims_1)\\' with input shapes: [?,1,0,1], [1,1,1,4].') in model 198: WindowRegression\n",
            "Model Number: 199 with model WindowRegression in generation 1 of 10\n",
            "Template Eval Error: ValueError('Found array with 0 sample(s) (shape=(0, 0)) while a minimum of 1 is required.') in model 199: WindowRegression\n",
            "Model Number: 200 with model WindowRegression in generation 1 of 10\n",
            "Template Eval Error: ValueError('Found array with 0 sample(s) (shape=(0, 0)) while a minimum of 1 is required.') in model 200: WindowRegression\n",
            "Model Number: 201 with model UnivariateRegression in generation 1 of 10\n",
            "Template Eval Error: TypeError(\"unsupported operand type(s) for -: 'NoneType' and 'int'\") in model 201: UnivariateRegression\n",
            "Model Number: 202 with model UnivariateRegression in generation 1 of 10\n",
            "Template Eval Error: TypeError(\"unsupported operand type(s) for -: 'NoneType' and 'int'\") in model 202: UnivariateRegression\n",
            "Model Number: 203 with model UnivariateRegression in generation 1 of 10\n",
            "Template Eval Error: TypeError(\"unsupported operand type(s) for -: 'NoneType' and 'int'\") in model 203: UnivariateRegression\n",
            "Model Number: 204 with model UnivariateRegression in generation 1 of 10\n"
          ]
        },
        {
          "output_type": "stream",
          "name": "stderr",
          "text": [
            "/usr/local/lib/python3.7/dist-packages/sklearn/preprocessing/_data.py:2982: RuntimeWarning:\n",
            "\n",
            "divide by zero encountered in log\n",
            "\n"
          ]
        },
        {
          "output_type": "stream",
          "name": "stdout",
          "text": [
            "Template Eval Error: TypeError(\"unsupported operand type(s) for -: 'NoneType' and 'int'\") in model 204: UnivariateRegression\n",
            "Model Number: 205 with model UnivariateMotif in generation 1 of 10\n",
            "Template Eval Error: AttributeError(\"module 'numpy.lib.stride_tricks' has no attribute 'sliding_window_view'\") in model 205: UnivariateMotif\n",
            "Model Number: 206 with model UnivariateMotif in generation 1 of 10\n",
            "Template Eval Error: AttributeError(\"module 'numpy.lib.stride_tricks' has no attribute 'sliding_window_view'\") in model 206: UnivariateMotif\n",
            "Model Number: 207 with model UnivariateMotif in generation 1 of 10\n",
            "Template Eval Error: AttributeError(\"module 'numpy.lib.stride_tricks' has no attribute 'sliding_window_view'\") in model 207: UnivariateMotif\n",
            "Model Number: 208 with model UnivariateMotif in generation 1 of 10\n",
            "Template Eval Error: AttributeError(\"module 'numpy.lib.stride_tricks' has no attribute 'sliding_window_view'\") in model 208: UnivariateMotif\n",
            "Model Number: 209 with model MultivariateMotif in generation 1 of 10\n",
            "Template Eval Error: AttributeError(\"module 'numpy.lib.stride_tricks' has no attribute 'sliding_window_view'\") in model 209: MultivariateMotif\n",
            "Model Number: 210 with model MultivariateMotif in generation 1 of 10\n",
            "Template Eval Error: AttributeError(\"module 'numpy.lib.stride_tricks' has no attribute 'sliding_window_view'\") in model 210: MultivariateMotif\n",
            "Model Number: 211 with model MultivariateMotif in generation 1 of 10\n",
            "Template Eval Error: AttributeError(\"module 'numpy.lib.stride_tricks' has no attribute 'sliding_window_view'\") in model 211: MultivariateMotif\n",
            "Model Number: 212 with model MultivariateMotif in generation 1 of 10\n",
            "Template Eval Error: AttributeError(\"module 'numpy.lib.stride_tricks' has no attribute 'sliding_window_view'\") in model 212: MultivariateMotif\n",
            "New Generation: 2 of 10\n",
            "Model Number: 213 with model DatepartRegression in generation 2 of 10\n",
            "Model Number: 214 with model DatepartRegression in generation 2 of 10\n",
            "Model Number: 215 with model DatepartRegression in generation 2 of 10\n"
          ]
        },
        {
          "output_type": "stream",
          "name": "stderr",
          "text": [
            "/usr/local/lib/python3.7/dist-packages/sklearn/preprocessing/_data.py:2982: RuntimeWarning:\n",
            "\n",
            "divide by zero encountered in log\n",
            "\n",
            "/usr/local/lib/python3.7/dist-packages/sklearn/linear_model/_coordinate_descent.py:476: ConvergenceWarning:\n",
            "\n",
            "Objective did not converge. You might want to increase the number of iterations. Duality gap: 0.0, tolerance: 0.0\n",
            "\n"
          ]
        },
        {
          "output_type": "stream",
          "name": "stdout",
          "text": [
            "Template Eval Error: KeyError('squared_error') in model 215: DatepartRegression\n",
            "Model Number: 216 with model FBProphet in generation 2 of 10\n"
          ]
        },
        {
          "output_type": "stream",
          "name": "stderr",
          "text": [
            "INFO:fbprophet:Disabling yearly seasonality. Run prophet with yearly_seasonality=True to override this.\n",
            "INFO:fbprophet:Disabling weekly seasonality. Run prophet with weekly_seasonality=True to override this.\n",
            "INFO:fbprophet:Disabling daily seasonality. Run prophet with daily_seasonality=True to override this.\n",
            "INFO:fbprophet:n_changepoints greater than number of observations. Using 7.\n",
            "INFO:fbprophet:Disabling yearly seasonality. Run prophet with yearly_seasonality=True to override this.\n",
            "INFO:fbprophet:Disabling weekly seasonality. Run prophet with weekly_seasonality=True to override this.\n",
            "INFO:fbprophet:Disabling daily seasonality. Run prophet with daily_seasonality=True to override this.\n",
            "INFO:fbprophet:n_changepoints greater than number of observations. Using 7.\n"
          ]
        },
        {
          "output_type": "stream",
          "name": "stdout",
          "text": [
            "Model Number: 217 with model FBProphet in generation 2 of 10\n"
          ]
        },
        {
          "output_type": "stream",
          "name": "stderr",
          "text": [
            "INFO:fbprophet:Disabling yearly seasonality. Run prophet with yearly_seasonality=True to override this.\n",
            "INFO:fbprophet:Disabling weekly seasonality. Run prophet with weekly_seasonality=True to override this.\n",
            "INFO:fbprophet:Disabling daily seasonality. Run prophet with daily_seasonality=True to override this.\n",
            "INFO:fbprophet:n_changepoints greater than number of observations. Using 7.\n"
          ]
        },
        {
          "output_type": "stream",
          "name": "stdout",
          "text": [
            "Model Number: 218 with model FBProphet in generation 2 of 10\n",
            "Model Number: 219 with model SeasonalNaive in generation 2 of 10\n",
            "Model Number: 220 with model SeasonalNaive in generation 2 of 10\n",
            "Model Number: 221 with model SeasonalNaive in generation 2 of 10\n",
            "Model Number: 222 with model SeasonalNaive in generation 2 of 10\n",
            "Model Number: 223 with model MultivariateRegression in generation 2 of 10\n",
            "Model Number: 224 with model MultivariateRegression in generation 2 of 10\n",
            "Model Number: 225 with model MultivariateRegression in generation 2 of 10\n"
          ]
        },
        {
          "output_type": "stream",
          "name": "stderr",
          "text": [
            "/usr/local/lib/python3.7/dist-packages/sklearn/neural_network/_multilayer_perceptron.py:470: ConvergenceWarning:\n",
            "\n",
            "lbfgs failed to converge (status=1):\n",
            "STOP: TOTAL NO. of ITERATIONS REACHED LIMIT.\n",
            "\n",
            "Increase the number of iterations (max_iter) or scale the data as shown in:\n",
            "    https://scikit-learn.org/stable/modules/preprocessing.html\n",
            "\n"
          ]
        },
        {
          "output_type": "stream",
          "name": "stdout",
          "text": [
            "Model Number: 226 with model MultivariateRegression in generation 2 of 10\n"
          ]
        },
        {
          "output_type": "stream",
          "name": "stderr",
          "text": [
            "/usr/local/lib/python3.7/dist-packages/sklearn/neural_network/_multilayer_perceptron.py:470: ConvergenceWarning:\n",
            "\n",
            "lbfgs failed to converge (status=1):\n",
            "STOP: TOTAL NO. of ITERATIONS REACHED LIMIT.\n",
            "\n",
            "Increase the number of iterations (max_iter) or scale the data as shown in:\n",
            "    https://scikit-learn.org/stable/modules/preprocessing.html\n",
            "\n"
          ]
        },
        {
          "output_type": "stream",
          "name": "stdout",
          "text": [
            "Model Number: 227 with model GLM in generation 2 of 10\n",
            "Model Number: 228 with model GLM in generation 2 of 10\n",
            "Model Number: 229 with model GLM in generation 2 of 10\n",
            "Model Number: 230 with model GLM in generation 2 of 10\n",
            "Model Number: 231 with model ETS in generation 2 of 10\n",
            "Model Number: 232 with model ETS in generation 2 of 10\n",
            "Model Number: 233 with model ETS in generation 2 of 10\n",
            "Model Number: 234 with model ETS in generation 2 of 10\n",
            "Model Number: 235 with model GLS in generation 2 of 10\n",
            "Model Number: 236 with model GLS in generation 2 of 10\n",
            "Model Number: 237 with model AverageValueNaive in generation 2 of 10\n",
            "Model Number: 238 with model AverageValueNaive in generation 2 of 10\n",
            "Model Number: 239 with model AverageValueNaive in generation 2 of 10\n",
            "Model Number: 240 with model UnobservedComponents in generation 2 of 10\n",
            "Model Number: 241 with model UnobservedComponents in generation 2 of 10\n",
            "Model Number: 242 with model UnobservedComponents in generation 2 of 10\n",
            "Model Number: 243 with model NVAR in generation 2 of 10\n",
            "Model Number: 244 with model NVAR in generation 2 of 10\n",
            "Model Number: 245 with model NVAR in generation 2 of 10\n",
            "Model Number: 246 with model NVAR in generation 2 of 10\n",
            "Model Number: 247 with model LastValueNaive in generation 2 of 10\n",
            "Model Number: 248 with model LastValueNaive in generation 2 of 10\n",
            "Model Number: 249 with model LastValueNaive in generation 2 of 10\n",
            "Model Number: 250 with model ZeroesNaive in generation 2 of 10\n",
            "Model Number: 251 with model ZeroesNaive in generation 2 of 10\n",
            "Model Number: 252 with model ZeroesNaive in generation 2 of 10\n",
            "Model Number: 253 with model RollingRegression in generation 2 of 10\n"
          ]
        },
        {
          "output_type": "stream",
          "name": "stderr",
          "text": [
            "/usr/local/lib/python3.7/dist-packages/sklearn/neural_network/_multilayer_perceptron.py:1342: DataConversionWarning:\n",
            "\n",
            "A column-vector y was passed when a 1d array was expected. Please change the shape of y to (n_samples, ), for example using ravel().\n",
            "\n",
            "/usr/local/lib/python3.7/dist-packages/sklearn/neural_network/_multilayer_perceptron.py:470: ConvergenceWarning:\n",
            "\n",
            "lbfgs failed to converge (status=1):\n",
            "STOP: TOTAL NO. of ITERATIONS REACHED LIMIT.\n",
            "\n",
            "Increase the number of iterations (max_iter) or scale the data as shown in:\n",
            "    https://scikit-learn.org/stable/modules/preprocessing.html\n",
            "\n"
          ]
        },
        {
          "output_type": "stream",
          "name": "stdout",
          "text": [
            "Model Number: 254 with model RollingRegression in generation 2 of 10\n"
          ]
        },
        {
          "output_type": "stream",
          "name": "stderr",
          "text": [
            "/usr/local/lib/python3.7/dist-packages/lightgbm/basic.py:195: UserWarning:\n",
            "\n",
            "Usage of np.ndarray subset (sliced data) is not recommended due to it will double the peak memory cost in LightGBM.\n",
            "\n",
            "/usr/local/lib/python3.7/dist-packages/lightgbm/basic.py:195: UserWarning:\n",
            "\n",
            "Usage of np.ndarray subset (sliced data) is not recommended due to it will double the peak memory cost in LightGBM.\n",
            "\n",
            "/usr/local/lib/python3.7/dist-packages/lightgbm/basic.py:195: UserWarning:\n",
            "\n",
            "Usage of np.ndarray subset (sliced data) is not recommended due to it will double the peak memory cost in LightGBM.\n",
            "\n",
            "/usr/local/lib/python3.7/dist-packages/lightgbm/basic.py:195: UserWarning:\n",
            "\n",
            "Usage of np.ndarray subset (sliced data) is not recommended due to it will double the peak memory cost in LightGBM.\n",
            "\n",
            "/usr/local/lib/python3.7/dist-packages/sklearn/neural_network/_multilayer_perceptron.py:1342: DataConversionWarning:\n",
            "\n",
            "A column-vector y was passed when a 1d array was expected. Please change the shape of y to (n_samples, ), for example using ravel().\n",
            "\n"
          ]
        },
        {
          "output_type": "stream",
          "name": "stdout",
          "text": [
            "Model Number: 255 with model RollingRegression in generation 2 of 10\n"
          ]
        },
        {
          "output_type": "stream",
          "name": "stderr",
          "text": [
            "/usr/local/lib/python3.7/dist-packages/sklearn/neural_network/_multilayer_perceptron.py:470: ConvergenceWarning:\n",
            "\n",
            "lbfgs failed to converge (status=1):\n",
            "STOP: TOTAL NO. of ITERATIONS REACHED LIMIT.\n",
            "\n",
            "Increase the number of iterations (max_iter) or scale the data as shown in:\n",
            "    https://scikit-learn.org/stable/modules/preprocessing.html\n",
            "\n",
            "/usr/local/lib/python3.7/dist-packages/sklearn/neural_network/_multilayer_perceptron.py:1342: DataConversionWarning:\n",
            "\n",
            "A column-vector y was passed when a 1d array was expected. Please change the shape of y to (n_samples, ), for example using ravel().\n",
            "\n"
          ]
        },
        {
          "output_type": "stream",
          "name": "stdout",
          "text": [
            "Model Number: 256 with model RollingRegression in generation 2 of 10\n",
            "Model Number: 257 with model GluonTS in generation 2 of 10\n",
            "Template Eval Error: ImportError('GluonTS installation not found or installed version is incompatible with AutoTS.') in model 257: GluonTS\n",
            "Model Number: 258 with model GluonTS in generation 2 of 10\n",
            "Template Eval Error: ImportError('GluonTS installation not found or installed version is incompatible with AutoTS.') in model 258: GluonTS\n",
            "Model Number: 259 with model GluonTS in generation 2 of 10\n",
            "Template Eval Error: ImportError('GluonTS installation not found or installed version is incompatible with AutoTS.') in model 259: GluonTS\n",
            "Model Number: 260 with model GluonTS in generation 2 of 10\n",
            "Template Eval Error: ImportError('GluonTS installation not found or installed version is incompatible with AutoTS.') in model 260: GluonTS\n",
            "Model Number: 261 with model VAR in generation 2 of 10\n",
            "Template Eval Error: ValueError('Only gave one variable to VAR') in model 261: VAR\n",
            "Model Number: 262 with model VAR in generation 2 of 10\n",
            "Template Eval Error: ValueError('Only gave one variable to VAR') in model 262: VAR\n",
            "Model Number: 263 with model VAR in generation 2 of 10\n",
            "Template Eval Error: ValueError('Only gave one variable to VAR') in model 263: VAR\n",
            "Model Number: 264 with model VAR in generation 2 of 10\n",
            "Template Eval Error: ValueError('Only gave one variable to VAR') in model 264: VAR\n",
            "Model Number: 265 with model VECM in generation 2 of 10\n",
            "Template Eval Error: ValueError('Only gave one variable to VECM') in model 265: VECM\n",
            "Model Number: 266 with model VECM in generation 2 of 10\n",
            "Template Eval Error: ValueError('Only gave one variable to VECM') in model 266: VECM\n",
            "Model Number: 267 with model VECM in generation 2 of 10\n",
            "Template Eval Error: ValueError('Only gave one variable to VECM') in model 267: VECM\n",
            "Model Number: 268 with model VECM in generation 2 of 10\n",
            "Template Eval Error: ValueError('Only gave one variable to VECM') in model 268: VECM\n",
            "Model Number: 269 with model WindowRegression in generation 2 of 10\n",
            "Template Eval Error: ImportError(\"cannot import name 'PoissonRegressor' from 'sklearn.linear_model' (/usr/local/lib/python3.7/dist-packages/sklearn/linear_model/__init__.py)\") in model 269: WindowRegression\n",
            "Model Number: 270 with model WindowRegression in generation 2 of 10\n",
            "Template Eval Error: ValueError('`min_samples` may not be larger than number of samples: n_samples = 1.') in model 270: WindowRegression\n",
            "Model Number: 271 with model WindowRegression in generation 2 of 10\n",
            "Model Number: 272 with model UnivariateRegression in generation 2 of 10\n",
            "Template Eval Error: AttributeError(\"'list' object has no attribute 'shape'\") in model 272: UnivariateRegression\n",
            "Model Number: 273 with model UnivariateRegression in generation 2 of 10\n",
            "Template Eval Error: TypeError(\"unsupported operand type(s) for -: 'NoneType' and 'int'\") in model 273: UnivariateRegression\n",
            "Model Number: 274 with model UnivariateRegression in generation 2 of 10\n",
            "Template Eval Error: AttributeError(\"'list' object has no attribute 'shape'\") in model 274: UnivariateRegression\n",
            "Model Number: 275 with model UnivariateRegression in generation 2 of 10\n",
            "Template Eval Error: AttributeError(\"'list' object has no attribute 'shape'\") in model 275: UnivariateRegression\n",
            "Model Number: 276 with model UnivariateMotif in generation 2 of 10\n",
            "Template Eval Error: AttributeError(\"module 'numpy.lib.stride_tricks' has no attribute 'sliding_window_view'\") in model 276: UnivariateMotif\n",
            "Model Number: 277 with model UnivariateMotif in generation 2 of 10\n",
            "Template Eval Error: AttributeError(\"module 'numpy.lib.stride_tricks' has no attribute 'sliding_window_view'\") in model 277: UnivariateMotif\n",
            "Model Number: 278 with model UnivariateMotif in generation 2 of 10\n",
            "Template Eval Error: AttributeError(\"module 'numpy.lib.stride_tricks' has no attribute 'sliding_window_view'\") in model 278: UnivariateMotif\n",
            "Model Number: 279 with model UnivariateMotif in generation 2 of 10\n",
            "Template Eval Error: AttributeError(\"module 'numpy.lib.stride_tricks' has no attribute 'sliding_window_view'\") in model 279: UnivariateMotif\n",
            "Model Number: 280 with model MultivariateMotif in generation 2 of 10\n",
            "Template Eval Error: AttributeError(\"module 'numpy.lib.stride_tricks' has no attribute 'sliding_window_view'\") in model 280: MultivariateMotif\n",
            "Model Number: 281 with model MultivariateMotif in generation 2 of 10\n",
            "Template Eval Error: AttributeError(\"module 'numpy.lib.stride_tricks' has no attribute 'sliding_window_view'\") in model 281: MultivariateMotif\n",
            "Model Number: 282 with model MultivariateMotif in generation 2 of 10\n",
            "Template Eval Error: AttributeError(\"module 'numpy.lib.stride_tricks' has no attribute 'sliding_window_view'\") in model 282: MultivariateMotif\n",
            "Model Number: 283 with model MultivariateMotif in generation 2 of 10\n",
            "Template Eval Error: AttributeError(\"module 'numpy.lib.stride_tricks' has no attribute 'sliding_window_view'\") in model 283: MultivariateMotif\n",
            "New Generation: 3 of 10\n",
            "Model Number: 284 with model DatepartRegression in generation 3 of 10\n",
            "Model Number: 285 with model DatepartRegression in generation 3 of 10\n",
            "Model Number: 286 with model DatepartRegression in generation 3 of 10\n"
          ]
        },
        {
          "output_type": "stream",
          "name": "stderr",
          "text": [
            "/usr/local/lib/python3.7/dist-packages/sklearn/neighbors/_regression.py:362: UserWarning:\n",
            "\n",
            "One or more samples have no neighbors within specified radius; predicting NaN.\n",
            "\n"
          ]
        },
        {
          "output_type": "stream",
          "name": "stdout",
          "text": [
            "Model Number: 287 with model FBProphet in generation 3 of 10\n",
            "Template Eval Error: AttributeError(\"'list' object has no attribute 'shape'\") in model 287: FBProphet\n",
            "Model Number: 288 with model FBProphet in generation 3 of 10\n"
          ]
        },
        {
          "output_type": "stream",
          "name": "stderr",
          "text": [
            "INFO:fbprophet:Disabling yearly seasonality. Run prophet with yearly_seasonality=True to override this.\n",
            "INFO:fbprophet:Disabling weekly seasonality. Run prophet with weekly_seasonality=True to override this.\n",
            "INFO:fbprophet:Disabling daily seasonality. Run prophet with daily_seasonality=True to override this.\n",
            "INFO:fbprophet:n_changepoints greater than number of observations. Using 7.\n",
            "INFO:fbprophet:Disabling yearly seasonality. Run prophet with yearly_seasonality=True to override this.\n",
            "INFO:fbprophet:Disabling weekly seasonality. Run prophet with weekly_seasonality=True to override this.\n",
            "INFO:fbprophet:Disabling daily seasonality. Run prophet with daily_seasonality=True to override this.\n",
            "INFO:fbprophet:n_changepoints greater than number of observations. Using 7.\n"
          ]
        },
        {
          "output_type": "stream",
          "name": "stdout",
          "text": [
            "Model Number: 289 with model FBProphet in generation 3 of 10\n"
          ]
        },
        {
          "output_type": "stream",
          "name": "stderr",
          "text": [
            "INFO:fbprophet:Disabling yearly seasonality. Run prophet with yearly_seasonality=True to override this.\n",
            "INFO:fbprophet:Disabling weekly seasonality. Run prophet with weekly_seasonality=True to override this.\n",
            "INFO:fbprophet:Disabling daily seasonality. Run prophet with daily_seasonality=True to override this.\n",
            "INFO:fbprophet:n_changepoints greater than number of observations. Using 7.\n"
          ]
        },
        {
          "output_type": "stream",
          "name": "stdout",
          "text": [
            "Model Number: 290 with model FBProphet in generation 3 of 10\n",
            "Model Number: 291 with model ETS in generation 3 of 10\n",
            "Model Number: 292 with model ETS in generation 3 of 10\n",
            "Model Number: 293 with model ETS in generation 3 of 10\n",
            "Model Number: 294 with model SeasonalNaive in generation 3 of 10\n",
            "Template Eval Error: ImportError(\"cannot import name 'STL' from 'statsmodels.tsa.seasonal' (/usr/local/lib/python3.7/dist-packages/statsmodels/tsa/seasonal.py)\") in model 294: SeasonalNaive\n",
            "Model Number: 295 with model SeasonalNaive in generation 3 of 10\n",
            "Template Eval Error: ImportError(\"cannot import name 'STL' from 'statsmodels.tsa.seasonal' (/usr/local/lib/python3.7/dist-packages/statsmodels/tsa/seasonal.py)\") in model 295: SeasonalNaive\n",
            "Model Number: 296 with model SeasonalNaive in generation 3 of 10\n",
            "Model Number: 297 with model SeasonalNaive in generation 3 of 10\n",
            "Template Eval Error: ImportError(\"cannot import name 'STL' from 'statsmodels.tsa.seasonal' (/usr/local/lib/python3.7/dist-packages/statsmodels/tsa/seasonal.py)\") in model 297: SeasonalNaive\n",
            "Model Number: 298 with model MultivariateRegression in generation 3 of 10\n",
            "Template Eval Error: AttributeError(\"'list' object has no attribute 'shape'\") in model 298: MultivariateRegression\n",
            "Model Number: 299 with model MultivariateRegression in generation 3 of 10\n",
            "Model Number: 300 with model MultivariateRegression in generation 3 of 10\n",
            "Model Number: 301 with model NVAR in generation 3 of 10\n"
          ]
        },
        {
          "output_type": "stream",
          "name": "stderr",
          "text": [
            "/usr/local/lib/python3.7/dist-packages/sklearn/neural_network/_multilayer_perceptron.py:470: ConvergenceWarning:\n",
            "\n",
            "lbfgs failed to converge (status=1):\n",
            "STOP: TOTAL NO. of ITERATIONS REACHED LIMIT.\n",
            "\n",
            "Increase the number of iterations (max_iter) or scale the data as shown in:\n",
            "    https://scikit-learn.org/stable/modules/preprocessing.html\n",
            "\n"
          ]
        },
        {
          "output_type": "stream",
          "name": "stdout",
          "text": [
            "Model Number: 302 with model NVAR in generation 3 of 10\n",
            "Model Number: 303 with model NVAR in generation 3 of 10\n",
            "Model Number: 304 with model NVAR in generation 3 of 10\n",
            "Model Number: 305 with model GLM in generation 3 of 10\n",
            "Model Number: 306 with model GLM in generation 3 of 10\n",
            "Model Number: 307 with model GLM in generation 3 of 10\n",
            "Model Number: 308 with model GLM in generation 3 of 10\n",
            "Template Eval Error: ValueError('NaN, inf or invalid value detected in weights, estimation infeasible.') in model 308: GLM\n",
            "Model Number: 309 with model GLS in generation 3 of 10\n",
            "Model Number: 310 with model GLS in generation 3 of 10\n"
          ]
        },
        {
          "output_type": "stream",
          "name": "stderr",
          "text": [
            "/usr/local/lib/python3.7/dist-packages/statsmodels/genmod/families/links.py:521: RuntimeWarning:\n",
            "\n",
            "overflow encountered in exp\n",
            "\n",
            "/usr/local/lib/python3.7/dist-packages/statsmodels/genmod/families/family.py:134: RuntimeWarning:\n",
            "\n",
            "invalid value encountered in multiply\n",
            "\n",
            "/usr/local/lib/python3.7/dist-packages/statsmodels/genmod/generalized_linear_model.py:1163: RuntimeWarning:\n",
            "\n",
            "invalid value encountered in multiply\n",
            "\n"
          ]
        },
        {
          "output_type": "stream",
          "name": "stdout",
          "text": [
            "Model Number: 311 with model GLS in generation 3 of 10\n",
            "Model Number: 312 with model AverageValueNaive in generation 3 of 10\n",
            "Model Number: 313 with model AverageValueNaive in generation 3 of 10\n",
            "Model Number: 314 with model AverageValueNaive in generation 3 of 10\n",
            "Model Number: 315 with model UnobservedComponents in generation 3 of 10\n",
            "Model Number: 316 with model UnobservedComponents in generation 3 of 10\n",
            "Template Eval Error: ImportError(\"cannot import name 'STL' from 'statsmodels.tsa.seasonal' (/usr/local/lib/python3.7/dist-packages/statsmodels/tsa/seasonal.py)\") in model 316: UnobservedComponents\n",
            "Model Number: 317 with model UnobservedComponents in generation 3 of 10\n",
            "Model Number: 318 with model LastValueNaive in generation 3 of 10\n",
            "Model Number: 319 with model LastValueNaive in generation 3 of 10\n",
            "Model Number: 320 with model LastValueNaive in generation 3 of 10\n",
            "Model Number: 321 with model ZeroesNaive in generation 3 of 10\n",
            "Model Number: 322 with model ZeroesNaive in generation 3 of 10\n",
            "Model Number: 323 with model ZeroesNaive in generation 3 of 10\n",
            "Model Number: 324 with model RollingRegression in generation 3 of 10\n",
            "Template Eval Error: ValueError(\"Input contains NaN, infinity or a value too large for dtype('float64').\") in model 324: RollingRegression\n",
            "Model Number: 325 with model RollingRegression in generation 3 of 10\n",
            "Template Eval Error: ValueError(\"Input contains NaN, infinity or a value too large for dtype('float64').\") in model 325: RollingRegression\n",
            "Model Number: 326 with model RollingRegression in generation 3 of 10\n",
            "Template Eval Error: ValueError(\"Input contains NaN, infinity or a value too large for dtype('float32').\") in model 326: RollingRegression\n",
            "Model Number: 327 with model RollingRegression in generation 3 of 10\n"
          ]
        },
        {
          "output_type": "stream",
          "name": "stderr",
          "text": [
            "/usr/local/lib/python3.7/dist-packages/sklearn/neural_network/_multilayer_perceptron.py:1342: DataConversionWarning:\n",
            "\n",
            "A column-vector y was passed when a 1d array was expected. Please change the shape of y to (n_samples, ), for example using ravel().\n",
            "\n"
          ]
        },
        {
          "output_type": "stream",
          "name": "stdout",
          "text": [
            "Model Number: 328 with model WindowRegression in generation 3 of 10\n",
            "Template Eval Error: ValueError('Found array with 0 sample(s) (shape=(0, 0)) while a minimum of 1 is required.') in model 328: WindowRegression\n",
            "Model Number: 329 with model WindowRegression in generation 3 of 10\n",
            "Template Eval Error: ValueError('Found array with 0 sample(s) (shape=(0, 0)) while a minimum of 1 is required.') in model 329: WindowRegression\n",
            "Model Number: 330 with model WindowRegression in generation 3 of 10\n",
            "Template Eval Error: ValueError('Found array with 0 sample(s) (shape=(0, 0)) while a minimum of 1 is required.') in model 330: WindowRegression\n",
            "Model Number: 331 with model GluonTS in generation 3 of 10\n",
            "Template Eval Error: ImportError('GluonTS installation not found or installed version is incompatible with AutoTS.') in model 331: GluonTS\n",
            "Model Number: 332 with model GluonTS in generation 3 of 10\n",
            "Template Eval Error: ImportError('GluonTS installation not found or installed version is incompatible with AutoTS.') in model 332: GluonTS\n",
            "Model Number: 333 with model GluonTS in generation 3 of 10\n",
            "Template Eval Error: ImportError('GluonTS installation not found or installed version is incompatible with AutoTS.') in model 333: GluonTS\n",
            "Model Number: 334 with model GluonTS in generation 3 of 10\n",
            "Template Eval Error: ImportError('GluonTS installation not found or installed version is incompatible with AutoTS.') in model 334: GluonTS\n",
            "Model Number: 335 with model VAR in generation 3 of 10\n",
            "Template Eval Error: ValueError('Only gave one variable to VAR') in model 335: VAR\n",
            "Model Number: 336 with model VAR in generation 3 of 10\n",
            "Template Eval Error: ValueError('Only gave one variable to VAR') in model 336: VAR\n",
            "Model Number: 337 with model VAR in generation 3 of 10\n",
            "Template Eval Error: ValueError('Only gave one variable to VAR') in model 337: VAR\n",
            "Model Number: 338 with model VAR in generation 3 of 10\n",
            "Template Eval Error: ValueError('Only gave one variable to VAR') in model 338: VAR\n",
            "Model Number: 339 with model VECM in generation 3 of 10\n",
            "Template Eval Error: ValueError('Only gave one variable to VECM') in model 339: VECM\n",
            "Model Number: 340 with model VECM in generation 3 of 10\n",
            "Template Eval Error: ValueError('Only gave one variable to VECM') in model 340: VECM\n",
            "Model Number: 341 with model VECM in generation 3 of 10\n",
            "Template Eval Error: ValueError('Only gave one variable to VECM') in model 341: VECM\n",
            "Model Number: 342 with model VECM in generation 3 of 10\n",
            "Template Eval Error: ValueError('Only gave one variable to VECM') in model 342: VECM\n",
            "Model Number: 343 with model UnivariateRegression in generation 3 of 10\n",
            "Template Eval Error: TypeError(\"unsupported operand type(s) for -: 'NoneType' and 'int'\") in model 343: UnivariateRegression\n",
            "Model Number: 344 with model UnivariateRegression in generation 3 of 10\n",
            "Template Eval Error: TypeError(\"unsupported operand type(s) for -: 'NoneType' and 'int'\") in model 344: UnivariateRegression\n",
            "Model Number: 345 with model UnivariateRegression in generation 3 of 10\n",
            "Template Eval Error: TypeError(\"unsupported operand type(s) for -: 'NoneType' and 'int'\") in model 345: UnivariateRegression\n",
            "Model Number: 346 with model UnivariateRegression in generation 3 of 10\n",
            "Template Eval Error: TypeError(\"unsupported operand type(s) for -: 'NoneType' and 'int'\") in model 346: UnivariateRegression\n",
            "Model Number: 347 with model UnivariateMotif in generation 3 of 10\n",
            "Template Eval Error: AttributeError(\"module 'numpy.lib.stride_tricks' has no attribute 'sliding_window_view'\") in model 347: UnivariateMotif\n",
            "Model Number: 348 with model UnivariateMotif in generation 3 of 10\n",
            "Template Eval Error: AttributeError(\"module 'numpy.lib.stride_tricks' has no attribute 'sliding_window_view'\") in model 348: UnivariateMotif\n",
            "Model Number: 349 with model UnivariateMotif in generation 3 of 10\n",
            "Template Eval Error: AttributeError(\"module 'numpy.lib.stride_tricks' has no attribute 'sliding_window_view'\") in model 349: UnivariateMotif\n",
            "Model Number: 350 with model UnivariateMotif in generation 3 of 10\n"
          ]
        },
        {
          "output_type": "stream",
          "name": "stderr",
          "text": [
            "/usr/local/lib/python3.7/dist-packages/sklearn/decomposition/_pca.py:456: RuntimeWarning:\n",
            "\n",
            "invalid value encountered in true_divide\n",
            "\n"
          ]
        },
        {
          "output_type": "stream",
          "name": "stdout",
          "text": [
            "Template Eval Error: AttributeError(\"module 'numpy.lib.stride_tricks' has no attribute 'sliding_window_view'\") in model 350: UnivariateMotif\n",
            "Model Number: 351 with model MultivariateMotif in generation 3 of 10\n",
            "Template Eval Error: AttributeError(\"module 'numpy.lib.stride_tricks' has no attribute 'sliding_window_view'\") in model 351: MultivariateMotif\n",
            "Model Number: 352 with model MultivariateMotif in generation 3 of 10\n",
            "Template Eval Error: AttributeError(\"module 'numpy.lib.stride_tricks' has no attribute 'sliding_window_view'\") in model 352: MultivariateMotif\n",
            "Model Number: 353 with model MultivariateMotif in generation 3 of 10\n",
            "Template Eval Error: AttributeError(\"module 'numpy.lib.stride_tricks' has no attribute 'sliding_window_view'\") in model 353: MultivariateMotif\n",
            "Model Number: 354 with model MultivariateMotif in generation 3 of 10\n",
            "Template Eval Error: AttributeError(\"module 'numpy.lib.stride_tricks' has no attribute 'sliding_window_view'\") in model 354: MultivariateMotif\n",
            "New Generation: 4 of 10\n",
            "Model Number: 355 with model DatepartRegression in generation 4 of 10\n",
            "Model Number: 356 with model DatepartRegression in generation 4 of 10\n",
            "Epoch 1/50\n",
            "1/1 [==============================] - 5s 5s/step - loss: 0.0749\n",
            "Epoch 2/50\n",
            "1/1 [==============================] - 0s 12ms/step - loss: 0.0712\n",
            "Epoch 3/50\n",
            "1/1 [==============================] - 0s 13ms/step - loss: 0.0686\n",
            "Epoch 4/50\n",
            "1/1 [==============================] - 0s 15ms/step - loss: 0.0707\n",
            "Epoch 5/50\n",
            "1/1 [==============================] - 0s 17ms/step - loss: 0.0739\n",
            "Epoch 6/50\n",
            "1/1 [==============================] - 0s 16ms/step - loss: 0.0702\n",
            "Epoch 7/50\n",
            "1/1 [==============================] - 0s 14ms/step - loss: 0.0725\n",
            "Epoch 8/50\n",
            "1/1 [==============================] - 0s 16ms/step - loss: 0.0724\n",
            "Epoch 9/50\n",
            "1/1 [==============================] - 0s 17ms/step - loss: 0.0747\n",
            "Epoch 10/50\n",
            "1/1 [==============================] - 0s 19ms/step - loss: 0.0731\n",
            "Epoch 11/50\n",
            "1/1 [==============================] - 0s 18ms/step - loss: 0.0731\n",
            "Epoch 12/50\n",
            "1/1 [==============================] - 0s 26ms/step - loss: 0.0731\n",
            "Epoch 13/50\n",
            "1/1 [==============================] - 0s 23ms/step - loss: 0.0704\n",
            "Epoch 14/50\n",
            "1/1 [==============================] - 0s 23ms/step - loss: 0.0650\n",
            "Epoch 15/50\n",
            "1/1 [==============================] - 0s 23ms/step - loss: 0.0744\n",
            "Epoch 16/50\n",
            "1/1 [==============================] - 0s 23ms/step - loss: 0.0767\n",
            "Epoch 17/50\n",
            "1/1 [==============================] - 0s 20ms/step - loss: 0.0699\n",
            "Epoch 18/50\n",
            "1/1 [==============================] - 0s 20ms/step - loss: 0.0660\n",
            "Epoch 19/50\n",
            "1/1 [==============================] - 0s 24ms/step - loss: 0.0688\n",
            "Epoch 20/50\n",
            "1/1 [==============================] - 0s 21ms/step - loss: 0.0692\n",
            "Epoch 21/50\n",
            "1/1 [==============================] - 0s 27ms/step - loss: 0.0735\n",
            "Epoch 22/50\n",
            "1/1 [==============================] - 0s 19ms/step - loss: 0.0737\n",
            "Epoch 23/50\n",
            "1/1 [==============================] - 0s 19ms/step - loss: 0.0783\n",
            "Epoch 24/50\n",
            "1/1 [==============================] - 0s 19ms/step - loss: 0.0728\n",
            "Epoch 25/50\n",
            "1/1 [==============================] - 0s 23ms/step - loss: 0.0715\n",
            "Epoch 26/50\n",
            "1/1 [==============================] - 0s 23ms/step - loss: 0.0757\n",
            "Epoch 27/50\n",
            "1/1 [==============================] - 0s 18ms/step - loss: 0.0712\n",
            "Epoch 28/50\n",
            "1/1 [==============================] - 0s 19ms/step - loss: 0.0671\n",
            "Epoch 29/50\n",
            "1/1 [==============================] - 0s 18ms/step - loss: 0.0780\n",
            "Epoch 30/50\n",
            "1/1 [==============================] - 0s 17ms/step - loss: 0.0730\n",
            "Epoch 31/50\n",
            "1/1 [==============================] - 0s 16ms/step - loss: 0.0697\n",
            "Epoch 32/50\n",
            "1/1 [==============================] - 0s 16ms/step - loss: 0.0759\n",
            "Epoch 33/50\n",
            "1/1 [==============================] - 0s 17ms/step - loss: 0.0701\n",
            "Epoch 34/50\n",
            "1/1 [==============================] - 0s 21ms/step - loss: 0.0770\n",
            "Epoch 35/50\n",
            "1/1 [==============================] - 0s 24ms/step - loss: 0.0777\n",
            "Epoch 36/50\n",
            "1/1 [==============================] - 0s 21ms/step - loss: 0.0711\n",
            "Epoch 37/50\n",
            "1/1 [==============================] - 0s 20ms/step - loss: 0.0739\n",
            "Epoch 38/50\n",
            "1/1 [==============================] - 0s 19ms/step - loss: 0.0698\n",
            "Epoch 39/50\n",
            "1/1 [==============================] - 0s 20ms/step - loss: 0.0762\n",
            "Epoch 40/50\n",
            "1/1 [==============================] - 0s 17ms/step - loss: 0.0689\n",
            "Epoch 41/50\n",
            "1/1 [==============================] - 0s 21ms/step - loss: 0.0721\n",
            "Epoch 42/50\n",
            "1/1 [==============================] - 0s 16ms/step - loss: 0.0724\n",
            "Epoch 43/50\n",
            "1/1 [==============================] - 0s 23ms/step - loss: 0.0675\n",
            "Epoch 44/50\n",
            "1/1 [==============================] - 0s 17ms/step - loss: 0.0704\n",
            "Epoch 45/50\n",
            "1/1 [==============================] - 0s 16ms/step - loss: 0.0693\n",
            "Epoch 46/50\n",
            "1/1 [==============================] - 0s 25ms/step - loss: 0.0696\n",
            "Epoch 47/50\n",
            "1/1 [==============================] - 0s 24ms/step - loss: 0.0707\n",
            "Epoch 48/50\n",
            "1/1 [==============================] - 0s 26ms/step - loss: 0.0719\n",
            "Epoch 49/50\n",
            "1/1 [==============================] - 0s 19ms/step - loss: 0.0783\n",
            "Epoch 50/50\n",
            "1/1 [==============================] - 0s 15ms/step - loss: 0.0653\n",
            "Model Number: 357 with model DatepartRegression in generation 4 of 10\n",
            "Template Eval Error: KeyError('squared_error') in model 357: DatepartRegression\n",
            "Model Number: 358 with model MultivariateRegression in generation 4 of 10\n",
            "Template Eval Error: AttributeError(\"'list' object has no attribute 'shape'\") in model 358: MultivariateRegression\n",
            "Model Number: 359 with model MultivariateRegression in generation 4 of 10\n",
            "Model Number: 360 with model MultivariateRegression in generation 4 of 10"
          ]
        },
        {
          "output_type": "stream",
          "name": "stderr",
          "text": [
            "[Parallel(n_jobs=1)]: Using backend SequentialBackend with 1 concurrent workers.\n"
          ]
        },
        {
          "output_type": "stream",
          "name": "stdout",
          "text": [
            "\n",
            "Template Eval Error: AttributeError(\"'list' object has no attribute 'shape'\") in model 360: MultivariateRegression\n",
            "Model Number: 361 with model MultivariateRegression in generation 4 of 10\n",
            "Model Number: 362 with model FBProphet in generation 4 of 10\n",
            "Template Eval Error: AttributeError(\"'list' object has no attribute 'shape'\") in model 362: FBProphet\n",
            "Model Number: 363 with model FBProphet in generation 4 of 10\n"
          ]
        },
        {
          "output_type": "stream",
          "name": "stderr",
          "text": [
            "INFO:fbprophet:Disabling yearly seasonality. Run prophet with yearly_seasonality=True to override this.\n",
            "INFO:fbprophet:Disabling weekly seasonality. Run prophet with weekly_seasonality=True to override this.\n",
            "INFO:fbprophet:Disabling daily seasonality. Run prophet with daily_seasonality=True to override this.\n",
            "INFO:fbprophet:n_changepoints greater than number of observations. Using 7.\n",
            "INFO:fbprophet:Disabling yearly seasonality. Run prophet with yearly_seasonality=True to override this.\n",
            "INFO:fbprophet:Disabling weekly seasonality. Run prophet with weekly_seasonality=True to override this.\n",
            "INFO:fbprophet:Disabling daily seasonality. Run prophet with daily_seasonality=True to override this.\n",
            "INFO:fbprophet:n_changepoints greater than number of observations. Using 7.\n"
          ]
        },
        {
          "output_type": "stream",
          "name": "stdout",
          "text": [
            "Model Number: 364 with model FBProphet in generation 4 of 10\n"
          ]
        },
        {
          "output_type": "stream",
          "name": "stderr",
          "text": [
            "INFO:fbprophet:Disabling yearly seasonality. Run prophet with yearly_seasonality=True to override this.\n",
            "INFO:fbprophet:Disabling weekly seasonality. Run prophet with weekly_seasonality=True to override this.\n",
            "INFO:fbprophet:Disabling daily seasonality. Run prophet with daily_seasonality=True to override this.\n",
            "INFO:fbprophet:n_changepoints greater than number of observations. Using 7.\n"
          ]
        },
        {
          "output_type": "stream",
          "name": "stdout",
          "text": [
            "Model Number: 365 with model FBProphet in generation 4 of 10\n",
            "Model Number: 366 with model SeasonalNaive in generation 4 of 10\n",
            "Model Number: 367 with model SeasonalNaive in generation 4 of 10\n",
            "Model Number: 368 with model SeasonalNaive in generation 4 of 10\n",
            "Model Number: 369 with model SeasonalNaive in generation 4 of 10\n",
            "Model Number: 370 with model NVAR in generation 4 of 10\n",
            "Model Number: 371 with model NVAR in generation 4 of 10\n",
            "Model Number: 372 with model NVAR in generation 4 of 10\n",
            "Model Number: 373 with model NVAR in generation 4 of 10\n",
            "Model Number: 374 with model AverageValueNaive in generation 4 of 10\n",
            "Model Number: 375 with model AverageValueNaive in generation 4 of 10\n",
            "Model Number: 376 with model AverageValueNaive in generation 4 of 10\n",
            "Model Number: 377 with model ETS in generation 4 of 10\n",
            "Model Number: 378 with model ETS in generation 4 of 10\n",
            "Model Number: 379 with model ETS in generation 4 of 10\n"
          ]
        },
        {
          "output_type": "stream",
          "name": "stderr",
          "text": [
            "/usr/local/lib/python3.7/dist-packages/statsmodels/tsa/holtwinters.py:924: RuntimeWarning:\n",
            "\n",
            "divide by zero encountered in log\n",
            "\n",
            "/usr/local/lib/python3.7/dist-packages/statsmodels/tsa/holtwinters.py:930: RuntimeWarning:\n",
            "\n",
            "divide by zero encountered in log\n",
            "\n",
            "/usr/local/lib/python3.7/dist-packages/sklearn/preprocessing/_data.py:2982: RuntimeWarning:\n",
            "\n",
            "divide by zero encountered in log\n",
            "\n",
            "/usr/local/lib/python3.7/dist-packages/statsmodels/tsa/holtwinters.py:924: RuntimeWarning:\n",
            "\n",
            "divide by zero encountered in log\n",
            "\n",
            "/usr/local/lib/python3.7/dist-packages/statsmodels/tsa/holtwinters.py:930: RuntimeWarning:\n",
            "\n",
            "divide by zero encountered in log\n",
            "\n",
            "/usr/local/lib/python3.7/dist-packages/statsmodels/tsa/holtwinters.py:924: RuntimeWarning:\n",
            "\n",
            "divide by zero encountered in log\n",
            "\n",
            "/usr/local/lib/python3.7/dist-packages/statsmodels/tsa/holtwinters.py:930: RuntimeWarning:\n",
            "\n",
            "divide by zero encountered in log\n",
            "\n"
          ]
        },
        {
          "output_type": "stream",
          "name": "stdout",
          "text": [
            "Model Number: 380 with model LastValueNaive in generation 4 of 10\n",
            "Model Number: 381 with model LastValueNaive in generation 4 of 10\n",
            "Model Number: 382 with model LastValueNaive in generation 4 of 10\n",
            "Model Number: 383 with model GLM in generation 4 of 10\n",
            "Model Number: 384 with model GLM in generation 4 of 10\n",
            "Model Number: 385 with model GLM in generation 4 of 10\n",
            "Model Number: 386 with model GLM in generation 4 of 10\n"
          ]
        },
        {
          "output_type": "stream",
          "name": "stderr",
          "text": [
            "/usr/local/lib/python3.7/dist-packages/statsmodels/genmod/generalized_linear_model.py:273: DomainWarning:\n",
            "\n",
            "The inverse_power link function does not respect the domain of the Gamma family.\n",
            "\n",
            "/usr/local/lib/python3.7/dist-packages/statsmodels/genmod/generalized_linear_model.py:273: DomainWarning:\n",
            "\n",
            "The inverse_power link function does not respect the domain of the Gamma family.\n",
            "\n"
          ]
        },
        {
          "output_type": "stream",
          "name": "stdout",
          "text": [
            "Model Number: 387 with model GLS in generation 4 of 10\n",
            "Model Number: 388 with model GLS in generation 4 of 10\n",
            "Model Number: 389 with model GLS in generation 4 of 10\n",
            "Model Number: 390 with model UnobservedComponents in generation 4 of 10\n",
            "Model Number: 391 with model UnobservedComponents in generation 4 of 10\n",
            "Model Number: 392 with model UnobservedComponents in generation 4 of 10\n",
            "Model Number: 393 with model ZeroesNaive in generation 4 of 10\n",
            "Model Number: 394 with model ZeroesNaive in generation 4 of 10\n",
            "Template Eval Error: ImportError(\"cannot import name 'STL' from 'statsmodels.tsa.seasonal' (/usr/local/lib/python3.7/dist-packages/statsmodels/tsa/seasonal.py)\") in model 394: ZeroesNaive\n",
            "Model Number: 395 with model ZeroesNaive in generation 4 of 10\n",
            "Model Number: 396 with model RollingRegression in generation 4 of 10\n",
            "Template Eval Error: ValueError(\"Input contains NaN, infinity or a value too large for dtype('float64').\") in model 396: RollingRegression\n",
            "Model Number: 397 with model RollingRegression in generation 4 of 10\n",
            "Model Number: 398 with model RollingRegression in generation 4 of 10\n"
          ]
        },
        {
          "output_type": "stream",
          "name": "stderr",
          "text": [
            "/usr/local/lib/python3.7/dist-packages/sklearn/neural_network/_multilayer_perceptron.py:1342: DataConversionWarning:\n",
            "\n",
            "A column-vector y was passed when a 1d array was expected. Please change the shape of y to (n_samples, ), for example using ravel().\n",
            "\n"
          ]
        },
        {
          "output_type": "stream",
          "name": "stdout",
          "text": [
            "Template Eval Error: ValueError(\"Input contains NaN, infinity or a value too large for dtype('float32').\") in model 398: RollingRegression\n",
            "Model Number: 399 with model RollingRegression in generation 4 of 10\n",
            "Model Number: 400 with model WindowRegression in generation 4 of 10\n",
            "Template Eval Error: ValueError('Found array with 0 sample(s) (shape=(0, 0)) while a minimum of 1 is required.') in model 400: WindowRegression\n"
          ]
        },
        {
          "output_type": "stream",
          "name": "stderr",
          "text": [
            "/usr/local/lib/python3.7/dist-packages/sklearn/neural_network/_multilayer_perceptron.py:1342: DataConversionWarning:\n",
            "\n",
            "A column-vector y was passed when a 1d array was expected. Please change the shape of y to (n_samples, ), for example using ravel().\n",
            "\n"
          ]
        },
        {
          "output_type": "stream",
          "name": "stdout",
          "text": [
            "Model Number: 401 with model WindowRegression in generation 4 of 10\n",
            "Template Eval Error: ValueError('Expected n_neighbors <= n_samples,  but n_samples = 1, n_neighbors = 3') in model 401: WindowRegression\n",
            "Model Number: 402 with model WindowRegression in generation 4 of 10\n",
            "Epoch 1/100\n",
            "1/1 [==============================] - 7s 7s/step - loss: 0.6583 - val_loss: 0.8567\n",
            "Epoch 2/100\n",
            "1/1 [==============================] - 0s 34ms/step - loss: 0.5729 - val_loss: 0.7464\n",
            "Epoch 3/100\n",
            "1/1 [==============================] - 0s 37ms/step - loss: 0.4775 - val_loss: 0.6431\n",
            "Epoch 4/100\n",
            "1/1 [==============================] - 0s 36ms/step - loss: 0.4310 - val_loss: 0.5494\n",
            "Epoch 5/100\n",
            "1/1 [==============================] - 0s 34ms/step - loss: 0.3660 - val_loss: 0.4579\n",
            "Epoch 6/100\n",
            "1/1 [==============================] - 0s 41ms/step - loss: 0.3696 - val_loss: 0.3666\n",
            "Epoch 7/100\n",
            "1/1 [==============================] - 0s 36ms/step - loss: 0.3050 - val_loss: 0.2740\n",
            "Epoch 8/100\n",
            "1/1 [==============================] - 0s 42ms/step - loss: 0.2662 - val_loss: 0.2238\n",
            "Epoch 9/100\n",
            "1/1 [==============================] - 0s 44ms/step - loss: 0.1866 - val_loss: 0.1559\n",
            "Epoch 10/100\n",
            "1/1 [==============================] - 0s 39ms/step - loss: 0.1880 - val_loss: 0.1422\n",
            "Epoch 11/100\n",
            "1/1 [==============================] - 0s 37ms/step - loss: 0.1961 - val_loss: 0.0812\n",
            "Epoch 12/100\n",
            "1/1 [==============================] - 0s 41ms/step - loss: 0.1699 - val_loss: 0.0668\n",
            "Epoch 13/100\n",
            "1/1 [==============================] - 0s 37ms/step - loss: 0.1851 - val_loss: 0.0681\n",
            "Epoch 14/100\n",
            "1/1 [==============================] - 0s 46ms/step - loss: 0.2030 - val_loss: 0.0692\n",
            "Epoch 15/100\n",
            "1/1 [==============================] - 0s 54ms/step - loss: 0.1405 - val_loss: 0.0712\n",
            "Epoch 16/100\n",
            "1/1 [==============================] - 0s 51ms/step - loss: 0.1290 - val_loss: 0.1111\n",
            "Epoch 17/100\n",
            "1/1 [==============================] - 0s 44ms/step - loss: 0.1161 - val_loss: 0.1894\n",
            "Epoch 18/100\n",
            "1/1 [==============================] - 0s 49ms/step - loss: 0.1153 - val_loss: 0.2114\n",
            "Epoch 19/100\n",
            "1/1 [==============================] - 0s 44ms/step - loss: 0.1156 - val_loss: 0.2350\n",
            "Epoch 20/100\n",
            "1/1 [==============================] - 0s 51ms/step - loss: 0.1136 - val_loss: 0.2586\n",
            "Epoch 21/100\n",
            "1/1 [==============================] - 0s 40ms/step - loss: 0.1133 - val_loss: 0.1385\n",
            "Epoch 22/100\n",
            "1/1 [==============================] - 0s 45ms/step - loss: 0.1479 - val_loss: 0.1572\n",
            "Model Number: 403 with model GluonTS in generation 4 of 10\n",
            "Template Eval Error: ImportError('GluonTS installation not found or installed version is incompatible with AutoTS.') in model 403: GluonTS\n",
            "Model Number: 404 with model GluonTS in generation 4 of 10\n",
            "Template Eval Error: ImportError('GluonTS installation not found or installed version is incompatible with AutoTS.') in model 404: GluonTS\n",
            "Model Number: 405 with model GluonTS in generation 4 of 10\n",
            "Template Eval Error: ImportError('GluonTS installation not found or installed version is incompatible with AutoTS.') in model 405: GluonTS\n",
            "Model Number: 406 with model GluonTS in generation 4 of 10\n",
            "Template Eval Error: ImportError('GluonTS installation not found or installed version is incompatible with AutoTS.') in model 406: GluonTS\n",
            "Model Number: 407 with model VAR in generation 4 of 10\n",
            "Template Eval Error: ValueError('Only gave one variable to VAR') in model 407: VAR\n",
            "Model Number: 408 with model VAR in generation 4 of 10\n",
            "Template Eval Error: ValueError('Only gave one variable to VAR') in model 408: VAR\n",
            "Model Number: 409 with model VAR in generation 4 of 10\n",
            "Template Eval Error: ValueError('Only gave one variable to VAR') in model 409: VAR\n",
            "Model Number: 410 with model VAR in generation 4 of 10\n",
            "Template Eval Error: ValueError('Only gave one variable to VAR') in model 410: VAR\n",
            "Model Number: 411 with model VECM in generation 4 of 10\n",
            "Template Eval Error: ValueError('Only gave one variable to VECM') in model 411: VECM\n",
            "Model Number: 412 with model VECM in generation 4 of 10\n",
            "Template Eval Error: ValueError('Only gave one variable to VECM') in model 412: VECM\n",
            "Model Number: 413 with model VECM in generation 4 of 10\n"
          ]
        },
        {
          "output_type": "stream",
          "name": "stderr",
          "text": [
            "/usr/local/lib/python3.7/dist-packages/sklearn/preprocessing/_data.py:2982: RuntimeWarning:\n",
            "\n",
            "divide by zero encountered in log\n",
            "\n"
          ]
        },
        {
          "output_type": "stream",
          "name": "stdout",
          "text": [
            "Template Eval Error: ValueError('Only gave one variable to VECM') in model 413: VECM\n",
            "Model Number: 414 with model VECM in generation 4 of 10\n",
            "Template Eval Error: ValueError('Only gave one variable to VECM') in model 414: VECM\n",
            "Model Number: 415 with model UnivariateRegression in generation 4 of 10\n",
            "Template Eval Error: TypeError(\"unsupported operand type(s) for -: 'NoneType' and 'int'\") in model 415: UnivariateRegression\n",
            "Model Number: 416 with model UnivariateRegression in generation 4 of 10\n",
            "Template Eval Error: AttributeError(\"'list' object has no attribute 'shape'\") in model 416: UnivariateRegression\n",
            "Model Number: 417 with model UnivariateRegression in generation 4 of 10\n",
            "Template Eval Error: AttributeError(\"'list' object has no attribute 'shape'\") in model 417: UnivariateRegression\n",
            "Model Number: 418 with model UnivariateRegression in generation 4 of 10\n",
            "Template Eval Error: AttributeError(\"'list' object has no attribute 'shape'\") in model 418: UnivariateRegression\n",
            "Model Number: 419 with model UnivariateMotif in generation 4 of 10\n",
            "Template Eval Error: AttributeError(\"module 'numpy.lib.stride_tricks' has no attribute 'sliding_window_view'\") in model 419: UnivariateMotif\n",
            "Model Number: 420 with model UnivariateMotif in generation 4 of 10\n",
            "Template Eval Error: AttributeError(\"module 'numpy.lib.stride_tricks' has no attribute 'sliding_window_view'\") in model 420: UnivariateMotif\n",
            "Model Number: 421 with model UnivariateMotif in generation 4 of 10\n",
            "Template Eval Error: AttributeError(\"module 'numpy.lib.stride_tricks' has no attribute 'sliding_window_view'\") in model 421: UnivariateMotif\n",
            "Model Number: 422 with model UnivariateMotif in generation 4 of 10\n",
            "Template Eval Error: AttributeError(\"module 'numpy.lib.stride_tricks' has no attribute 'sliding_window_view'\") in model 422: UnivariateMotif\n",
            "Model Number: 423 with model MultivariateMotif in generation 4 of 10\n",
            "Template Eval Error: AttributeError(\"module 'numpy.lib.stride_tricks' has no attribute 'sliding_window_view'\") in model 423: MultivariateMotif\n",
            "Model Number: 424 with model MultivariateMotif in generation 4 of 10\n",
            "Template Eval Error: AttributeError(\"module 'numpy.lib.stride_tricks' has no attribute 'sliding_window_view'\") in model 424: MultivariateMotif\n",
            "Model Number: 425 with model MultivariateMotif in generation 4 of 10\n",
            "Template Eval Error: AttributeError(\"module 'numpy.lib.stride_tricks' has no attribute 'sliding_window_view'\") in model 425: MultivariateMotif\n",
            "Model Number: 426 with model MultivariateMotif in generation 4 of 10\n",
            "Template Eval Error: AttributeError(\"module 'numpy.lib.stride_tricks' has no attribute 'sliding_window_view'\") in model 426: MultivariateMotif\n",
            "New Generation: 5 of 10\n",
            "Model Number: 427 with model DatepartRegression in generation 5 of 10\n",
            "Model Number: 428 with model DatepartRegression in generation 5 of 10\n"
          ]
        },
        {
          "output_type": "stream",
          "name": "stderr",
          "text": [
            "/usr/local/lib/python3.7/dist-packages/sklearn/svm/_base.py:947: ConvergenceWarning:\n",
            "\n",
            "Liblinear failed to converge, increase the number of iterations.\n",
            "\n",
            "/usr/local/lib/python3.7/dist-packages/sklearn/svm/_base.py:947: ConvergenceWarning:\n",
            "\n",
            "Liblinear failed to converge, increase the number of iterations.\n",
            "\n"
          ]
        },
        {
          "output_type": "stream",
          "name": "stdout",
          "text": [
            "Model Number: 429 with model DatepartRegression in generation 5 of 10\n",
            "Model Number: 430 with model MultivariateRegression in generation 5 of 10\n",
            "Model Number: 431 with model MultivariateRegression in generation 5 of 10\n",
            "Model Number: 432 with model MultivariateRegression in generation 5 of 10\n",
            "Model Number: 433 with model MultivariateRegression in generation 5 of 10\n",
            "Model Number: 434 with model FBProphet in generation 5 of 10\n"
          ]
        },
        {
          "output_type": "stream",
          "name": "stderr",
          "text": [
            "INFO:fbprophet:Disabling yearly seasonality. Run prophet with yearly_seasonality=True to override this.\n",
            "INFO:fbprophet:Disabling weekly seasonality. Run prophet with weekly_seasonality=True to override this.\n",
            "INFO:fbprophet:Disabling daily seasonality. Run prophet with daily_seasonality=True to override this.\n",
            "INFO:fbprophet:n_changepoints greater than number of observations. Using 7.\n",
            "INFO:fbprophet:Disabling yearly seasonality. Run prophet with yearly_seasonality=True to override this.\n",
            "INFO:fbprophet:Disabling weekly seasonality. Run prophet with weekly_seasonality=True to override this.\n",
            "INFO:fbprophet:Disabling daily seasonality. Run prophet with daily_seasonality=True to override this.\n",
            "INFO:fbprophet:n_changepoints greater than number of observations. Using 7.\n"
          ]
        },
        {
          "output_type": "stream",
          "name": "stdout",
          "text": [
            "Model Number: 435 with model FBProphet in generation 5 of 10\n"
          ]
        },
        {
          "output_type": "stream",
          "name": "stderr",
          "text": [
            "INFO:fbprophet:Disabling yearly seasonality. Run prophet with yearly_seasonality=True to override this.\n",
            "INFO:fbprophet:Disabling weekly seasonality. Run prophet with weekly_seasonality=True to override this.\n",
            "INFO:fbprophet:Disabling daily seasonality. Run prophet with daily_seasonality=True to override this.\n",
            "INFO:fbprophet:n_changepoints greater than number of observations. Using 7.\n"
          ]
        },
        {
          "output_type": "stream",
          "name": "stdout",
          "text": [
            "Model Number: 436 with model FBProphet in generation 5 of 10\n"
          ]
        },
        {
          "output_type": "stream",
          "name": "stderr",
          "text": [
            "INFO:fbprophet:Disabling yearly seasonality. Run prophet with yearly_seasonality=True to override this.\n",
            "INFO:fbprophet:Disabling weekly seasonality. Run prophet with weekly_seasonality=True to override this.\n",
            "INFO:fbprophet:Disabling daily seasonality. Run prophet with daily_seasonality=True to override this.\n",
            "INFO:fbprophet:n_changepoints greater than number of observations. Using 7.\n"
          ]
        },
        {
          "output_type": "stream",
          "name": "stdout",
          "text": [
            "Model Number: 437 with model FBProphet in generation 5 of 10\n",
            "Model Number: 438 with model SeasonalNaive in generation 5 of 10\n",
            "Model Number: 439 with model SeasonalNaive in generation 5 of 10\n",
            "Model Number: 440 with model SeasonalNaive in generation 5 of 10\n",
            "Model Number: 441 with model SeasonalNaive in generation 5 of 10\n",
            "Model Number: 442 with model NVAR in generation 5 of 10\n",
            "Model Number: 443 with model NVAR in generation 5 of 10\n",
            "Model Number: 444 with model NVAR in generation 5 of 10\n",
            "Model Number: 445 with model RollingRegression in generation 5 of 10\n",
            "Template Eval Error: ValueError(\"Input contains NaN, infinity or a value too large for dtype('float64').\") in model 445: RollingRegression\n",
            "Model Number: 446 with model RollingRegression in generation 5 of 10\n",
            "Model Number: 447 with model RollingRegression in generation 5 of 10\n",
            "Model Number: 448 with model RollingRegression in generation 5 of 10\n",
            "Model Number: 449 with model AverageValueNaive in generation 5 of 10\n",
            "Model Number: 450 with model AverageValueNaive in generation 5 of 10\n",
            "Model Number: 451 with model AverageValueNaive in generation 5 of 10\n",
            "Model Number: 452 with model ETS in generation 5 of 10\n",
            "Model Number: 453 with model ETS in generation 5 of 10\n",
            "Model Number: 454 with model ETS in generation 5 of 10\n",
            "Model Number: 455 with model ETS in generation 5 of 10\n",
            "Model Number: 456 with model LastValueNaive in generation 5 of 10\n",
            "Model Number: 457 with model LastValueNaive in generation 5 of 10\n",
            "Model Number: 458 with model GLM in generation 5 of 10\n"
          ]
        },
        {
          "output_type": "stream",
          "name": "stderr",
          "text": [
            "/usr/local/lib/python3.7/dist-packages/statsmodels/tsa/holtwinters.py:712: ConvergenceWarning:\n",
            "\n",
            "Optimization failed to converge. Check mle_retvals.\n",
            "\n"
          ]
        },
        {
          "output_type": "stream",
          "name": "stdout",
          "text": [
            "Model Number: 459 with model GLM in generation 5 of 10\n",
            "Model Number: 460 with model GLM in generation 5 of 10\n",
            "Model Number: 461 with model GLM in generation 5 of 10\n",
            "Model Number: 462 with model GLS in generation 5 of 10\n",
            "Model Number: 463 with model GLS in generation 5 of 10\n",
            "Model Number: 464 with model GLS in generation 5 of 10\n",
            "Model Number: 465 with model WindowRegression in generation 5 of 10\n",
            "Template Eval Error: ValueError(\"WindowRegression regression_type='user' requires numpy >= 1.20\") in model 465: WindowRegression\n",
            "Model Number: 466 with model WindowRegression in generation 5 of 10\n",
            "Template Eval Error: ValueError('Found array with 0 sample(s) (shape=(0, 0)) while a minimum of 1 is required.') in model 466: WindowRegression\n",
            "Model Number: 467 with model WindowRegression in generation 5 of 10\n",
            "Model Number: 468 with model UnobservedComponents in generation 5 of 10\n",
            "Model Number: 469 with model UnobservedComponents in generation 5 of 10\n",
            "Model Number: 470 with model UnobservedComponents in generation 5 of 10\n",
            "Model Number: 471 with model ZeroesNaive in generation 5 of 10\n",
            "Model Number: 472 with model ZeroesNaive in generation 5 of 10\n",
            "Model Number: 473 with model ZeroesNaive in generation 5 of 10\n",
            "Model Number: 474 with model GluonTS in generation 5 of 10\n",
            "Template Eval Error: ImportError('GluonTS installation not found or installed version is incompatible with AutoTS.') in model 474: GluonTS\n",
            "Model Number: 475 with model GluonTS in generation 5 of 10\n",
            "Template Eval Error: ImportError('GluonTS installation not found or installed version is incompatible with AutoTS.') in model 475: GluonTS\n",
            "Model Number: 476 with model GluonTS in generation 5 of 10\n",
            "Template Eval Error: ImportError('GluonTS installation not found or installed version is incompatible with AutoTS.') in model 476: GluonTS\n",
            "Model Number: 477 with model GluonTS in generation 5 of 10\n",
            "Template Eval Error: ImportError('GluonTS installation not found or installed version is incompatible with AutoTS.') in model 477: GluonTS\n",
            "Model Number: 478 with model VAR in generation 5 of 10\n",
            "Template Eval Error: ValueError('Only gave one variable to VAR') in model 478: VAR\n",
            "Model Number: 479 with model VAR in generation 5 of 10\n",
            "Template Eval Error: ValueError('Only gave one variable to VAR') in model 479: VAR\n",
            "Model Number: 480 with model VAR in generation 5 of 10\n",
            "Template Eval Error: ValueError('Only gave one variable to VAR') in model 480: VAR\n",
            "Model Number: 481 with model VAR in generation 5 of 10\n",
            "Template Eval Error: ValueError('Only gave one variable to VAR') in model 481: VAR\n",
            "Model Number: 482 with model VECM in generation 5 of 10\n",
            "Template Eval Error: ValueError('Only gave one variable to VECM') in model 482: VECM\n",
            "Model Number: 483 with model VECM in generation 5 of 10\n",
            "Template Eval Error: ValueError('Only gave one variable to VECM') in model 483: VECM\n",
            "Model Number: 484 with model VECM in generation 5 of 10\n",
            "Template Eval Error: ImportError(\"cannot import name 'STL' from 'statsmodels.tsa.seasonal' (/usr/local/lib/python3.7/dist-packages/statsmodels/tsa/seasonal.py)\") in model 484: VECM\n",
            "Model Number: 485 with model VECM in generation 5 of 10\n",
            "Template Eval Error: ValueError('Only gave one variable to VECM') in model 485: VECM\n",
            "Model Number: 486 with model UnivariateRegression in generation 5 of 10\n",
            "Template Eval Error: TypeError(\"unsupported operand type(s) for -: 'NoneType' and 'int'\") in model 486: UnivariateRegression\n",
            "Model Number: 487 with model UnivariateRegression in generation 5 of 10\n",
            "Template Eval Error: TypeError(\"unsupported operand type(s) for -: 'NoneType' and 'int'\") in model 487: UnivariateRegression\n",
            "Model Number: 488 with model UnivariateRegression in generation 5 of 10\n",
            "Template Eval Error: TypeError(\"unsupported operand type(s) for -: 'NoneType' and 'int'\") in model 488: UnivariateRegression\n",
            "Model Number: 489 with model UnivariateRegression in generation 5 of 10\n",
            "Template Eval Error: TypeError(\"unsupported operand type(s) for -: 'NoneType' and 'int'\") in model 489: UnivariateRegression\n",
            "Model Number: 490 with model UnivariateMotif in generation 5 of 10\n",
            "Template Eval Error: AttributeError(\"module 'numpy.lib.stride_tricks' has no attribute 'sliding_window_view'\") in model 490: UnivariateMotif\n",
            "Model Number: 491 with model UnivariateMotif in generation 5 of 10\n",
            "Template Eval Error: AttributeError(\"module 'numpy.lib.stride_tricks' has no attribute 'sliding_window_view'\") in model 491: UnivariateMotif\n",
            "Model Number: 492 with model UnivariateMotif in generation 5 of 10\n",
            "Template Eval Error: AttributeError(\"module 'numpy.lib.stride_tricks' has no attribute 'sliding_window_view'\") in model 492: UnivariateMotif\n",
            "Model Number: 493 with model UnivariateMotif in generation 5 of 10\n",
            "Template Eval Error: AttributeError(\"module 'numpy.lib.stride_tricks' has no attribute 'sliding_window_view'\") in model 493: UnivariateMotif\n",
            "Model Number: 494 with model MultivariateMotif in generation 5 of 10\n",
            "Template Eval Error: AttributeError(\"module 'numpy.lib.stride_tricks' has no attribute 'sliding_window_view'\") in model 494: MultivariateMotif\n",
            "Model Number: 495 with model MultivariateMotif in generation 5 of 10\n",
            "Template Eval Error: AttributeError(\"module 'numpy.lib.stride_tricks' has no attribute 'sliding_window_view'\") in model 495: MultivariateMotif\n",
            "Model Number: 496 with model MultivariateMotif in generation 5 of 10\n",
            "Template Eval Error: AttributeError(\"module 'numpy.lib.stride_tricks' has no attribute 'sliding_window_view'\") in model 496: MultivariateMotif\n",
            "Model Number: 497 with model MultivariateMotif in generation 5 of 10\n",
            "Template Eval Error: AttributeError(\"module 'numpy.lib.stride_tricks' has no attribute 'sliding_window_view'\") in model 497: MultivariateMotif\n",
            "New Generation: 6 of 10\n",
            "Model Number: 498 with model AverageValueNaive in generation 6 of 10\n",
            "Model Number: 499 with model AverageValueNaive in generation 6 of 10\n",
            "Model Number: 500 with model AverageValueNaive in generation 6 of 10\n",
            "Model Number: 501 with model ETS in generation 6 of 10\n",
            "Model Number: 502 with model ETS in generation 6 of 10\n",
            "Model Number: 503 with model ETS in generation 6 of 10\n"
          ]
        },
        {
          "output_type": "stream",
          "name": "stderr",
          "text": [
            "/usr/local/lib/python3.7/dist-packages/statsmodels/tsa/holtwinters.py:712: ConvergenceWarning:\n",
            "\n",
            "Optimization failed to converge. Check mle_retvals.\n",
            "\n"
          ]
        },
        {
          "output_type": "stream",
          "name": "stdout",
          "text": [
            "Model Number: 504 with model DatepartRegression in generation 6 of 10\n",
            "Model Number: 505 with model DatepartRegression in generation 6 of 10\n",
            "Template Eval Error: KeyError('squared_error') in model 505: DatepartRegression\n",
            "Model Number: 506 with model DatepartRegression in generation 6 of 10\n",
            "Template Eval Error: ValueError('Model DatepartRegression returned NaN for one or more series') in model 506: DatepartRegression\n",
            "Model Number: 507 with model MultivariateRegression in generation 6 of 10\n",
            "Template Eval Error: AttributeError(\"'list' object has no attribute 'shape'\") in model 507: MultivariateRegression\n",
            "Model Number: 508 with model MultivariateRegression in generation 6 of 10\n"
          ]
        },
        {
          "output_type": "stream",
          "name": "stderr",
          "text": [
            "[Parallel(n_jobs=1)]: Using backend SequentialBackend with 1 concurrent workers.\n",
            "/usr/local/lib/python3.7/dist-packages/sklearn/neighbors/_regression.py:362: UserWarning:\n",
            "\n",
            "One or more samples have no neighbors within specified radius; predicting NaN.\n",
            "\n"
          ]
        },
        {
          "output_type": "stream",
          "name": "stdout",
          "text": [
            "Model Number: 509 with model MultivariateRegression in generation 6 of 10\n",
            "Model Number: 510 with model MultivariateRegression in generation 6 of 10\n"
          ]
        },
        {
          "output_type": "stream",
          "name": "stderr",
          "text": [
            "INFO:fbprophet:Disabling yearly seasonality. Run prophet with yearly_seasonality=True to override this.\n",
            "INFO:fbprophet:Disabling weekly seasonality. Run prophet with weekly_seasonality=True to override this.\n",
            "INFO:fbprophet:Disabling daily seasonality. Run prophet with daily_seasonality=True to override this.\n",
            "INFO:fbprophet:n_changepoints greater than number of observations. Using 7.\n"
          ]
        },
        {
          "output_type": "stream",
          "name": "stdout",
          "text": [
            "Model Number: 511 with model FBProphet in generation 6 of 10\n"
          ]
        },
        {
          "output_type": "stream",
          "name": "stderr",
          "text": [
            "INFO:fbprophet:Disabling yearly seasonality. Run prophet with yearly_seasonality=True to override this.\n",
            "INFO:fbprophet:Disabling weekly seasonality. Run prophet with weekly_seasonality=True to override this.\n",
            "INFO:fbprophet:Disabling daily seasonality. Run prophet with daily_seasonality=True to override this.\n",
            "INFO:fbprophet:n_changepoints greater than number of observations. Using 7.\n"
          ]
        },
        {
          "output_type": "stream",
          "name": "stdout",
          "text": [
            "Model Number: 512 with model FBProphet in generation 6 of 10\n"
          ]
        },
        {
          "output_type": "stream",
          "name": "stderr",
          "text": [
            "INFO:fbprophet:Disabling yearly seasonality. Run prophet with yearly_seasonality=True to override this.\n",
            "INFO:fbprophet:Disabling weekly seasonality. Run prophet with weekly_seasonality=True to override this.\n",
            "INFO:fbprophet:Disabling daily seasonality. Run prophet with daily_seasonality=True to override this.\n",
            "INFO:fbprophet:n_changepoints greater than number of observations. Using 7.\n"
          ]
        },
        {
          "output_type": "stream",
          "name": "stdout",
          "text": [
            "Model Number: 513 with model FBProphet in generation 6 of 10\n",
            "Model Number: 514 with model SeasonalNaive in generation 6 of 10\n",
            "Model Number: 515 with model SeasonalNaive in generation 6 of 10\n",
            "Model Number: 516 with model SeasonalNaive in generation 6 of 10\n",
            "Model Number: 517 with model SeasonalNaive in generation 6 of 10\n",
            "Model Number: 518 with model NVAR in generation 6 of 10\n",
            "Model Number: 519 with model NVAR in generation 6 of 10\n",
            "Template Eval Error: AssertionError('nvar input data must contain at least k+1 records') in model 519: NVAR\n",
            "Model Number: 520 with model NVAR in generation 6 of 10\n",
            "Template Eval Error: ValueError('Shape of passed values is (2, 1), indices imply (0, 1)') in model 520: NVAR\n",
            "Model Number: 521 with model NVAR in generation 6 of 10\n",
            "Model Number: 522 with model RollingRegression in generation 6 of 10\n",
            "Model Number: 523 with model RollingRegression in generation 6 of 10\n"
          ]
        },
        {
          "output_type": "stream",
          "name": "stderr",
          "text": [
            "/usr/local/lib/python3.7/dist-packages/sklearn/utils/validation.py:760: DataConversionWarning:\n",
            "\n",
            "A column-vector y was passed when a 1d array was expected. Please change the shape of y to (n_samples, ), for example using ravel().\n",
            "\n"
          ]
        },
        {
          "output_type": "stream",
          "name": "stdout",
          "text": [
            "Template Eval Error: LightGBMError('[gamma]: at least one target label is negative') in model 523: RollingRegression\n",
            "Model Number: 524 with model RollingRegression in generation 6 of 10\n"
          ]
        },
        {
          "output_type": "stream",
          "name": "stderr",
          "text": [
            "/usr/local/lib/python3.7/dist-packages/sklearn/neural_network/_multilayer_perceptron.py:1342: DataConversionWarning:\n",
            "\n",
            "A column-vector y was passed when a 1d array was expected. Please change the shape of y to (n_samples, ), for example using ravel().\n",
            "\n"
          ]
        },
        {
          "output_type": "stream",
          "name": "stdout",
          "text": [
            "Model Number: 525 with model RollingRegression in generation 6 of 10\n",
            "Template Eval Error: LightGBMError('Check failed: label > 0 at /__w/1/s/python-package/compile/src/metric/regression_metric.hpp, line 268 .\\n') in model 525: RollingRegression\n",
            "Model Number: 526 with model UnobservedComponents in generation 6 of 10\n",
            "Model Number: 527 with model UnobservedComponents in generation 6 of 10\n",
            "Model Number: 528 with model UnobservedComponents in generation 6 of 10\n",
            "Model Number: 529 with model LastValueNaive in generation 6 of 10\n",
            "Model Number: 530 with model LastValueNaive in generation 6 of 10\n",
            "Model Number: 531 with model LastValueNaive in generation 6 of 10\n",
            "Model Number: 532 with model GLM in generation 6 of 10\n",
            "Template Eval Error: ValueError('NaN, inf or invalid value detected in weights, estimation infeasible.') in model 532: GLM\n",
            "Model Number: 533 with model GLM in generation 6 of 10\n",
            "Model Number: 534 with model GLM in generation 6 of 10\n"
          ]
        },
        {
          "output_type": "stream",
          "name": "stderr",
          "text": [
            "/usr/local/lib/python3.7/dist-packages/statsmodels/genmod/families/family.py:428: RuntimeWarning:\n",
            "\n",
            "divide by zero encountered in true_divide\n",
            "\n",
            "/usr/local/lib/python3.7/dist-packages/statsmodels/genmod/families/family.py:134: RuntimeWarning:\n",
            "\n",
            "divide by zero encountered in true_divide\n",
            "\n"
          ]
        },
        {
          "output_type": "stream",
          "name": "stdout",
          "text": [
            "Model Number: 535 with model GLM in generation 6 of 10\n",
            "Model Number: 536 with model GLS in generation 6 of 10\n",
            "Model Number: 537 with model GLS in generation 6 of 10\n",
            "Model Number: 538 with model GLS in generation 6 of 10\n",
            "Model Number: 539 with model WindowRegression in generation 6 of 10\n",
            "Template Eval Error: ValueError('Found array with 0 sample(s) (shape=(0, 0)) while a minimum of 1 is required.') in model 539: WindowRegression\n",
            "Model Number: 540 with model WindowRegression in generation 6 of 10\n",
            "Template Eval Error: ValueError(\"WindowRegression regression_type='user' requires numpy >= 1.20\") in model 540: WindowRegression\n",
            "Model Number: 541 with model WindowRegression in generation 6 of 10\n",
            "Template Eval Error: ValueError('Found array with 0 sample(s) (shape=(0, 0)) while a minimum of 1 is required.') in model 541: WindowRegression\n",
            "Model Number: 542 with model ZeroesNaive in generation 6 of 10\n",
            "Model Number: 543 with model ZeroesNaive in generation 6 of 10\n",
            "Model Number: 544 with model ZeroesNaive in generation 6 of 10\n",
            "Model Number: 545 with model GluonTS in generation 6 of 10\n",
            "Template Eval Error: ImportError('GluonTS installation not found or installed version is incompatible with AutoTS.') in model 545: GluonTS\n",
            "Model Number: 546 with model GluonTS in generation 6 of 10\n",
            "Template Eval Error: ImportError('GluonTS installation not found or installed version is incompatible with AutoTS.') in model 546: GluonTS\n",
            "Model Number: 547 with model GluonTS in generation 6 of 10\n",
            "Template Eval Error: ImportError('GluonTS installation not found or installed version is incompatible with AutoTS.') in model 547: GluonTS\n",
            "Model Number: 548 with model GluonTS in generation 6 of 10\n",
            "Template Eval Error: ImportError('GluonTS installation not found or installed version is incompatible with AutoTS.') in model 548: GluonTS\n",
            "Model Number: 549 with model VAR in generation 6 of 10\n",
            "Template Eval Error: ValueError('Only gave one variable to VAR') in model 549: VAR\n",
            "Model Number: 550 with model VAR in generation 6 of 10\n",
            "Template Eval Error: ValueError('Only gave one variable to VAR') in model 550: VAR\n",
            "Model Number: 551 with model VAR in generation 6 of 10\n",
            "Template Eval Error: ValueError('Only gave one variable to VAR') in model 551: VAR\n",
            "Model Number: 552 with model VAR in generation 6 of 10\n",
            "Template Eval Error: ValueError('Only gave one variable to VAR') in model 552: VAR\n",
            "Model Number: 553 with model VECM in generation 6 of 10\n",
            "Template Eval Error: ValueError('Only gave one variable to VECM') in model 553: VECM\n",
            "Model Number: 554 with model VECM in generation 6 of 10\n",
            "Template Eval Error: ValueError('Only gave one variable to VECM') in model 554: VECM\n",
            "Model Number: 555 with model VECM in generation 6 of 10\n",
            "Template Eval Error: ValueError('Only gave one variable to VECM') in model 555: VECM\n",
            "Model Number: 556 with model VECM in generation 6 of 10\n",
            "Template Eval Error: ValueError('Only gave one variable to VECM') in model 556: VECM\n",
            "Model Number: 557 with model UnivariateRegression in generation 6 of 10\n",
            "Template Eval Error: TypeError(\"unsupported operand type(s) for -: 'NoneType' and 'int'\") in model 557: UnivariateRegression\n",
            "Model Number: 558 with model UnivariateRegression in generation 6 of 10\n",
            "Template Eval Error: TypeError(\"unsupported operand type(s) for -: 'NoneType' and 'int'\") in model 558: UnivariateRegression\n",
            "Model Number: 559 with model UnivariateRegression in generation 6 of 10\n",
            "Template Eval Error: TypeError(\"unsupported operand type(s) for -: 'NoneType' and 'int'\") in model 559: UnivariateRegression\n",
            "Model Number: 560 with model UnivariateRegression in generation 6 of 10\n",
            "Template Eval Error: TypeError(\"unsupported operand type(s) for -: 'NoneType' and 'int'\") in model 560: UnivariateRegression\n",
            "Model Number: 561 with model UnivariateMotif in generation 6 of 10\n",
            "Template Eval Error: AttributeError(\"module 'numpy.lib.stride_tricks' has no attribute 'sliding_window_view'\") in model 561: UnivariateMotif\n",
            "Model Number: 562 with model UnivariateMotif in generation 6 of 10\n",
            "Template Eval Error: AttributeError(\"module 'numpy.lib.stride_tricks' has no attribute 'sliding_window_view'\") in model 562: UnivariateMotif\n",
            "Model Number: 563 with model UnivariateMotif in generation 6 of 10\n",
            "Template Eval Error: AttributeError(\"module 'numpy.lib.stride_tricks' has no attribute 'sliding_window_view'\") in model 563: UnivariateMotif\n",
            "Model Number: 564 with model UnivariateMotif in generation 6 of 10\n",
            "Template Eval Error: AttributeError(\"module 'numpy.lib.stride_tricks' has no attribute 'sliding_window_view'\") in model 564: UnivariateMotif\n",
            "Model Number: 565 with model MultivariateMotif in generation 6 of 10\n",
            "Template Eval Error: AttributeError(\"module 'numpy.lib.stride_tricks' has no attribute 'sliding_window_view'\") in model 565: MultivariateMotif\n",
            "Model Number: 566 with model MultivariateMotif in generation 6 of 10\n",
            "Template Eval Error: AttributeError(\"module 'numpy.lib.stride_tricks' has no attribute 'sliding_window_view'\") in model 566: MultivariateMotif\n",
            "Model Number: 567 with model MultivariateMotif in generation 6 of 10\n",
            "Template Eval Error: AttributeError(\"module 'numpy.lib.stride_tricks' has no attribute 'sliding_window_view'\") in model 567: MultivariateMotif\n",
            "Model Number: 568 with model MultivariateMotif in generation 6 of 10\n",
            "Template Eval Error: AttributeError(\"module 'numpy.lib.stride_tricks' has no attribute 'sliding_window_view'\") in model 568: MultivariateMotif\n",
            "New Generation: 7 of 10\n",
            "Model Number: 569 with model AverageValueNaive in generation 7 of 10\n",
            "Model Number: 570 with model AverageValueNaive in generation 7 of 10\n",
            "Model Number: 571 with model AverageValueNaive in generation 7 of 10\n",
            "Model Number: 572 with model ETS in generation 7 of 10\n",
            "Model Number: 573 with model ETS in generation 7 of 10\n",
            "Model Number: 574 with model ETS in generation 7 of 10\n"
          ]
        },
        {
          "output_type": "stream",
          "name": "stderr",
          "text": [
            "INFO:fbprophet:Disabling yearly seasonality. Run prophet with yearly_seasonality=True to override this.\n",
            "INFO:fbprophet:Disabling weekly seasonality. Run prophet with weekly_seasonality=True to override this.\n",
            "INFO:fbprophet:Disabling daily seasonality. Run prophet with daily_seasonality=True to override this.\n"
          ]
        },
        {
          "output_type": "stream",
          "name": "stdout",
          "text": [
            "Model Number: 575 with model FBProphet in generation 7 of 10\n"
          ]
        },
        {
          "output_type": "stream",
          "name": "stderr",
          "text": [
            "INFO:fbprophet:n_changepoints greater than number of observations. Using 7.\n",
            "INFO:fbprophet:Disabling yearly seasonality. Run prophet with yearly_seasonality=True to override this.\n",
            "INFO:fbprophet:Disabling weekly seasonality. Run prophet with weekly_seasonality=True to override this.\n",
            "INFO:fbprophet:Disabling daily seasonality. Run prophet with daily_seasonality=True to override this.\n",
            "INFO:fbprophet:n_changepoints greater than number of observations. Using 3.\n"
          ]
        },
        {
          "output_type": "stream",
          "name": "stdout",
          "text": [
            "Model Number: 576 with model FBProphet in generation 7 of 10\n"
          ]
        },
        {
          "output_type": "stream",
          "name": "stderr",
          "text": [
            "INFO:fbprophet:Disabling yearly seasonality. Run prophet with yearly_seasonality=True to override this.\n",
            "INFO:fbprophet:Disabling weekly seasonality. Run prophet with weekly_seasonality=True to override this.\n",
            "INFO:fbprophet:Disabling daily seasonality. Run prophet with daily_seasonality=True to override this.\n",
            "INFO:fbprophet:n_changepoints greater than number of observations. Using 7.\n"
          ]
        },
        {
          "output_type": "stream",
          "name": "stdout",
          "text": [
            "Model Number: 577 with model FBProphet in generation 7 of 10\n",
            "Model Number: 578 with model DatepartRegression in generation 7 of 10\n",
            "Model Number: 579 with model DatepartRegression in generation 7 of 10\n",
            "Template Eval Error: ImportError(\"cannot import name 'STL' from 'statsmodels.tsa.seasonal' (/usr/local/lib/python3.7/dist-packages/statsmodels/tsa/seasonal.py)\") in model 579: DatepartRegression\n",
            "Model Number: 580 with model DatepartRegression in generation 7 of 10\n",
            "Model Number: 581 with model MultivariateRegression in generation 7 of 10\n"
          ]
        },
        {
          "output_type": "stream",
          "name": "stderr",
          "text": [
            "/usr/local/lib/python3.7/dist-packages/sklearn/svm/_base.py:947: ConvergenceWarning:\n",
            "\n",
            "Liblinear failed to converge, increase the number of iterations.\n",
            "\n"
          ]
        },
        {
          "output_type": "stream",
          "name": "stdout",
          "text": [
            "Model Number: 582 with model MultivariateRegression in generation 7 of 10\n",
            "Model Number: 583 with model MultivariateRegression in generation 7 of 10\n",
            "Model Number: 584 with model MultivariateRegression in generation 7 of 10\n",
            "Template Eval Error: ValueError('Model MultivariateRegression returned NaN for one or more series') in model 584: MultivariateRegression\n",
            "Model Number: 585 with model SeasonalNaive in generation 7 of 10\n",
            "Model Number: 586 with model SeasonalNaive in generation 7 of 10\n"
          ]
        },
        {
          "output_type": "stream",
          "name": "stderr",
          "text": [
            "/usr/local/lib/python3.7/dist-packages/sklearn/neighbors/_regression.py:362: UserWarning:\n",
            "\n",
            "One or more samples have no neighbors within specified radius; predicting NaN.\n",
            "\n",
            "/usr/local/lib/python3.7/dist-packages/sklearn/neighbors/_regression.py:362: UserWarning:\n",
            "\n",
            "One or more samples have no neighbors within specified radius; predicting NaN.\n",
            "\n",
            "/usr/local/lib/python3.7/dist-packages/sklearn/neighbors/_regression.py:362: UserWarning:\n",
            "\n",
            "One or more samples have no neighbors within specified radius; predicting NaN.\n",
            "\n",
            "/usr/local/lib/python3.7/dist-packages/sklearn/neighbors/_regression.py:362: UserWarning:\n",
            "\n",
            "One or more samples have no neighbors within specified radius; predicting NaN.\n",
            "\n"
          ]
        },
        {
          "output_type": "stream",
          "name": "stdout",
          "text": [
            "Model Number: 587 with model SeasonalNaive in generation 7 of 10\n",
            "Model Number: 588 with model SeasonalNaive in generation 7 of 10\n",
            "Model Number: 589 with model RollingRegression in generation 7 of 10\n"
          ]
        },
        {
          "output_type": "stream",
          "name": "stderr",
          "text": [
            "/usr/local/lib/python3.7/dist-packages/sklearn/neural_network/_multilayer_perceptron.py:1342: DataConversionWarning:\n",
            "\n",
            "A column-vector y was passed when a 1d array was expected. Please change the shape of y to (n_samples, ), for example using ravel().\n",
            "\n",
            "/usr/local/lib/python3.7/dist-packages/sklearn/neural_network/_multilayer_perceptron.py:571: ConvergenceWarning:\n",
            "\n",
            "Stochastic Optimizer: Maximum iterations (500) reached and the optimization hasn't converged yet.\n",
            "\n",
            "/usr/local/lib/python3.7/dist-packages/sklearn/utils/validation.py:760: DataConversionWarning:\n",
            "\n",
            "A column-vector y was passed when a 1d array was expected. Please change the shape of y to (n_samples, ), for example using ravel().\n",
            "\n"
          ]
        },
        {
          "output_type": "stream",
          "name": "stdout",
          "text": [
            "Model Number: 590 with model RollingRegression in generation 7 of 10\n",
            "Template Eval Error: ValueError(\"Input contains NaN, infinity or a value too large for dtype('float64').\") in model 590: RollingRegression\n",
            "Model Number: 591 with model RollingRegression in generation 7 of 10\n",
            "Model Number: 592 with model RollingRegression in generation 7 of 10\n",
            "Template Eval Error: ValueError(\"Input contains NaN, infinity or a value too large for dtype('float32').\") in model 592: RollingRegression\n",
            "Model Number: 593 with model NVAR in generation 7 of 10\n",
            "Model Number: 594 with model NVAR in generation 7 of 10\n",
            "Model Number: 595 with model NVAR in generation 7 of 10\n",
            "Model Number: 596 with model NVAR in generation 7 of 10\n",
            "Model Number: 597 with model UnobservedComponents in generation 7 of 10\n",
            "Model Number: 598 with model UnobservedComponents in generation 7 of 10\n",
            "Model Number: 599 with model UnobservedComponents in generation 7 of 10\n",
            "Model Number: 600 with model GLM in generation 7 of 10\n",
            "Model Number: 601 with model GLM in generation 7 of 10\n",
            "Model Number: 602 with model GLM in generation 7 of 10\n",
            "Model Number: 603 with model GLM in generation 7 of 10\n",
            "Model Number: 604 with model LastValueNaive in generation 7 of 10\n",
            "Model Number: 605 with model LastValueNaive in generation 7 of 10\n"
          ]
        },
        {
          "output_type": "stream",
          "name": "stderr",
          "text": [
            "/usr/local/lib/python3.7/dist-packages/statsmodels/genmod/generalized_linear_model.py:273: DomainWarning:\n",
            "\n",
            "The inverse_power link function does not respect the domain of the Gamma family.\n",
            "\n",
            "/usr/local/lib/python3.7/dist-packages/statsmodels/genmod/families/links.py:190: RuntimeWarning:\n",
            "\n",
            "overflow encountered in exp\n",
            "\n",
            "/usr/local/lib/python3.7/dist-packages/statsmodels/genmod/families/family.py:889: RuntimeWarning:\n",
            "\n",
            "divide by zero encountered in true_divide\n",
            "\n"
          ]
        },
        {
          "output_type": "stream",
          "name": "stdout",
          "text": [
            "Model Number: 606 with model GLS in generation 7 of 10\n",
            "Model Number: 607 with model GLS in generation 7 of 10\n",
            "Model Number: 608 with model GLS in generation 7 of 10\n",
            "Model Number: 609 with model WindowRegression in generation 7 of 10\n",
            "Model Number: 610 with model WindowRegression in generation 7 of 10\n",
            "Template Eval Error: ValueError('Found array with 0 sample(s) (shape=(0, 0)) while a minimum of 1 is required.') in model 610: WindowRegression\n",
            "Model Number: 611 with model WindowRegression in generation 7 of 10\n",
            "Model Number: 612 with model ZeroesNaive in generation 7 of 10\n",
            "Model Number: 613 with model ZeroesNaive in generation 7 of 10\n",
            "Model Number: 614 with model ZeroesNaive in generation 7 of 10\n",
            "Model Number: 615 with model GluonTS in generation 7 of 10\n",
            "Template Eval Error: ImportError('GluonTS installation not found or installed version is incompatible with AutoTS.') in model 615: GluonTS\n",
            "Model Number: 616 with model GluonTS in generation 7 of 10\n",
            "Template Eval Error: ImportError('GluonTS installation not found or installed version is incompatible with AutoTS.') in model 616: GluonTS\n",
            "Model Number: 617 with model GluonTS in generation 7 of 10\n",
            "Template Eval Error: ImportError('GluonTS installation not found or installed version is incompatible with AutoTS.') in model 617: GluonTS\n",
            "Model Number: 618 with model GluonTS in generation 7 of 10\n",
            "Template Eval Error: ImportError('GluonTS installation not found or installed version is incompatible with AutoTS.') in model 618: GluonTS\n",
            "Model Number: 619 with model VAR in generation 7 of 10\n",
            "Template Eval Error: ValueError('Only gave one variable to VAR') in model 619: VAR\n",
            "Model Number: 620 with model VAR in generation 7 of 10\n",
            "Template Eval Error: ValueError('Only gave one variable to VAR') in model 620: VAR\n",
            "Model Number: 621 with model VAR in generation 7 of 10\n",
            "Template Eval Error: ValueError('Only gave one variable to VAR') in model 621: VAR\n",
            "Model Number: 622 with model VAR in generation 7 of 10\n",
            "Template Eval Error: ValueError('Only gave one variable to VAR') in model 622: VAR\n",
            "Model Number: 623 with model VECM in generation 7 of 10\n",
            "Template Eval Error: AttributeError(\"'list' object has no attribute 'shape'\") in model 623: VECM\n",
            "Model Number: 624 with model VECM in generation 7 of 10\n",
            "Template Eval Error: AttributeError(\"'list' object has no attribute 'shape'\") in model 624: VECM\n",
            "Model Number: 625 with model VECM in generation 7 of 10\n",
            "Template Eval Error: ValueError('Only gave one variable to VECM') in model 625: VECM\n",
            "Model Number: 626 with model VECM in generation 7 of 10\n",
            "Template Eval Error: ValueError('Only gave one variable to VECM') in model 626: VECM\n",
            "Model Number: 627 with model UnivariateRegression in generation 7 of 10\n",
            "Template Eval Error: TypeError(\"unsupported operand type(s) for -: 'NoneType' and 'int'\") in model 627: UnivariateRegression\n",
            "Model Number: 628 with model UnivariateRegression in generation 7 of 10\n",
            "Template Eval Error: TypeError(\"unsupported operand type(s) for -: 'NoneType' and 'int'\") in model 628: UnivariateRegression\n",
            "Model Number: 629 with model UnivariateRegression in generation 7 of 10\n",
            "Template Eval Error: TypeError(\"unsupported operand type(s) for -: 'NoneType' and 'int'\") in model 629: UnivariateRegression\n",
            "Model Number: 630 with model UnivariateRegression in generation 7 of 10\n",
            "Template Eval Error: TypeError(\"unsupported operand type(s) for -: 'NoneType' and 'int'\") in model 630: UnivariateRegression\n",
            "Model Number: 631 with model UnivariateMotif in generation 7 of 10\n",
            "Template Eval Error: AttributeError(\"module 'numpy.lib.stride_tricks' has no attribute 'sliding_window_view'\") in model 631: UnivariateMotif\n",
            "Model Number: 632 with model UnivariateMotif in generation 7 of 10\n",
            "Template Eval Error: AttributeError(\"module 'numpy.lib.stride_tricks' has no attribute 'sliding_window_view'\") in model 632: UnivariateMotif\n",
            "Model Number: 633 with model UnivariateMotif in generation 7 of 10\n",
            "Template Eval Error: AttributeError(\"module 'numpy.lib.stride_tricks' has no attribute 'sliding_window_view'\") in model 633: UnivariateMotif\n",
            "Model Number: 634 with model UnivariateMotif in generation 7 of 10\n",
            "Template Eval Error: AttributeError(\"module 'numpy.lib.stride_tricks' has no attribute 'sliding_window_view'\") in model 634: UnivariateMotif\n",
            "Model Number: 635 with model MultivariateMotif in generation 7 of 10\n",
            "Template Eval Error: AttributeError(\"module 'numpy.lib.stride_tricks' has no attribute 'sliding_window_view'\") in model 635: MultivariateMotif\n",
            "Model Number: 636 with model MultivariateMotif in generation 7 of 10\n",
            "Template Eval Error: AttributeError(\"module 'numpy.lib.stride_tricks' has no attribute 'sliding_window_view'\") in model 636: MultivariateMotif\n",
            "Model Number: 637 with model MultivariateMotif in generation 7 of 10\n",
            "Template Eval Error: AttributeError(\"module 'numpy.lib.stride_tricks' has no attribute 'sliding_window_view'\") in model 637: MultivariateMotif\n",
            "Model Number: 638 with model MultivariateMotif in generation 7 of 10\n",
            "Template Eval Error: AttributeError(\"module 'numpy.lib.stride_tricks' has no attribute 'sliding_window_view'\") in model 638: MultivariateMotif\n",
            "New Generation: 8 of 10\n",
            "Model Number: 639 with model AverageValueNaive in generation 8 of 10\n",
            "Model Number: 640 with model AverageValueNaive in generation 8 of 10\n",
            "Model Number: 641 with model AverageValueNaive in generation 8 of 10\n",
            "Model Number: 642 with model ETS in generation 8 of 10\n",
            "Model Number: 643 with model ETS in generation 8 of 10\n",
            "Model Number: 644 with model ETS in generation 8 of 10\n"
          ]
        },
        {
          "output_type": "stream",
          "name": "stderr",
          "text": [
            "/usr/local/lib/python3.7/dist-packages/statsmodels/tsa/holtwinters.py:924: RuntimeWarning:\n",
            "\n",
            "divide by zero encountered in log\n",
            "\n",
            "/usr/local/lib/python3.7/dist-packages/statsmodels/tsa/holtwinters.py:930: RuntimeWarning:\n",
            "\n",
            "divide by zero encountered in log\n",
            "\n",
            "/usr/local/lib/python3.7/dist-packages/statsmodels/tsa/holtwinters.py:712: ConvergenceWarning:\n",
            "\n",
            "Optimization failed to converge. Check mle_retvals.\n",
            "\n"
          ]
        },
        {
          "output_type": "stream",
          "name": "stdout",
          "text": [
            "Model Number: 645 with model ETS in generation 8 of 10\n",
            "Model Number: 646 with model FBProphet in generation 8 of 10\n"
          ]
        },
        {
          "output_type": "stream",
          "name": "stderr",
          "text": [
            "/usr/local/lib/python3.7/dist-packages/statsmodels/tsa/holtwinters.py:712: ConvergenceWarning:\n",
            "\n",
            "Optimization failed to converge. Check mle_retvals.\n",
            "\n",
            "INFO:fbprophet:Disabling yearly seasonality. Run prophet with yearly_seasonality=True to override this.\n",
            "INFO:fbprophet:Disabling weekly seasonality. Run prophet with weekly_seasonality=True to override this.\n",
            "INFO:fbprophet:Disabling daily seasonality. Run prophet with daily_seasonality=True to override this.\n",
            "INFO:fbprophet:n_changepoints greater than number of observations. Using 7.\n",
            "INFO:fbprophet:Disabling yearly seasonality. Run prophet with yearly_seasonality=True to override this.\n",
            "INFO:fbprophet:Disabling weekly seasonality. Run prophet with weekly_seasonality=True to override this.\n",
            "INFO:fbprophet:Disabling daily seasonality. Run prophet with daily_seasonality=True to override this.\n",
            "INFO:fbprophet:n_changepoints greater than number of observations. Using 7.\n"
          ]
        },
        {
          "output_type": "stream",
          "name": "stdout",
          "text": [
            "Model Number: 647 with model FBProphet in generation 8 of 10\n"
          ]
        },
        {
          "output_type": "stream",
          "name": "stderr",
          "text": [
            "INFO:fbprophet:Disabling yearly seasonality. Run prophet with yearly_seasonality=True to override this.\n",
            "INFO:fbprophet:Disabling weekly seasonality. Run prophet with weekly_seasonality=True to override this.\n",
            "INFO:fbprophet:Disabling daily seasonality. Run prophet with daily_seasonality=True to override this.\n",
            "INFO:fbprophet:n_changepoints greater than number of observations. Using 7.\n"
          ]
        },
        {
          "output_type": "stream",
          "name": "stdout",
          "text": [
            "Model Number: 648 with model FBProphet in generation 8 of 10\n",
            "Model Number: 649 with model MultivariateRegression in generation 8 of 10\n",
            "Template Eval Error: AttributeError(\"'list' object has no attribute 'shape'\") in model 649: MultivariateRegression\n",
            "Model Number: 650 with model MultivariateRegression in generation 8 of 10\n",
            "Template Eval Error: AttributeError(\"'list' object has no attribute 'shape'\") in model 650: MultivariateRegression\n",
            "Model Number: 651 with model MultivariateRegression in generation 8 of 10\n",
            "Model Number: 652 with model MultivariateRegression in generation 8 of 10\n",
            "Template Eval Error: AttributeError(\"'list' object has no attribute 'shape'\") in model 652: MultivariateRegression\n",
            "Model Number: 653 with model DatepartRegression in generation 8 of 10\n",
            "Model Number: 654 with model DatepartRegression in generation 8 of 10\n",
            "Epoch 1/100\n",
            "1/1 [==============================] - 4s 4s/step - loss: 846724032.0000 - val_loss: 277.5337\n",
            "Epoch 2/100\n",
            "1/1 [==============================] - 0s 37ms/step - loss: 302791744.0000 - val_loss: 198.4197\n",
            "Epoch 3/100\n",
            "1/1 [==============================] - 0s 37ms/step - loss: 250600928.0000 - val_loss: 271.3711\n",
            "Epoch 4/100\n",
            "1/1 [==============================] - 0s 36ms/step - loss: 312605280.0000 - val_loss: 207.5046\n",
            "Epoch 5/100\n",
            "1/1 [==============================] - 0s 44ms/step - loss: 268615296.0000 - val_loss: 142.2581\n",
            "Epoch 6/100\n",
            "1/1 [==============================] - 0s 37ms/step - loss: 56011988.0000 - val_loss: 84.3551\n",
            "Epoch 7/100\n",
            "1/1 [==============================] - 0s 51ms/step - loss: 69878232.0000 - val_loss: 71.2648\n",
            "Epoch 8/100\n",
            "1/1 [==============================] - 0s 56ms/step - loss: 54044616.0000 - val_loss: 60.8093\n",
            "Epoch 9/100\n",
            "1/1 [==============================] - 0s 33ms/step - loss: 339142976.0000 - val_loss: 70.1406\n",
            "Epoch 10/100\n",
            "1/1 [==============================] - 0s 46ms/step - loss: 12810224.0000 - val_loss: 80.0229\n",
            "Epoch 11/100\n",
            "1/1 [==============================] - 0s 35ms/step - loss: 285865024.0000 - val_loss: 71.4512\n",
            "Epoch 12/100\n",
            "1/1 [==============================] - 0s 42ms/step - loss: 26675476.0000 - val_loss: 81.7014\n",
            "Epoch 13/100\n",
            "1/1 [==============================] - 0s 34ms/step - loss: 592859840.0000 - val_loss: 73.2225\n",
            "Epoch 14/100\n",
            "1/1 [==============================] - 0s 38ms/step - loss: 42261428.0000 - val_loss: 82.0787\n",
            "Epoch 15/100\n",
            "1/1 [==============================] - 0s 42ms/step - loss: 56159912.0000 - val_loss: 124.2193\n",
            "Epoch 16/100\n",
            "1/1 [==============================] - 0s 35ms/step - loss: 73360784.0000 - val_loss: 163.2405\n",
            "Epoch 17/100\n",
            "1/1 [==============================] - 0s 39ms/step - loss: 243496960.0000 - val_loss: 209.6437\n",
            "Epoch 18/100\n",
            "1/1 [==============================] - 0s 38ms/step - loss: 85743160.0000 - val_loss: 167.5613\n",
            "WARNING:tensorflow:5 out of the last 8 calls to <function Model.make_predict_function.<locals>.predict_function at 0x7f5cb936c0e0> triggered tf.function retracing. Tracing is expensive and the excessive number of tracings could be due to (1) creating @tf.function repeatedly in a loop, (2) passing tensors with different shapes, (3) passing Python objects instead of tensors. For (1), please define your @tf.function outside of the loop. For (2), @tf.function has experimental_relax_shapes=True option that relaxes argument shapes that can avoid unnecessary retracing. For (3), please refer to https://www.tensorflow.org/guide/function#controlling_retracing and https://www.tensorflow.org/api_docs/python/tf/function for  more details.\n"
          ]
        },
        {
          "output_type": "stream",
          "name": "stderr",
          "text": [
            "WARNING:tensorflow:5 out of the last 8 calls to <function Model.make_predict_function.<locals>.predict_function at 0x7f5cb936c0e0> triggered tf.function retracing. Tracing is expensive and the excessive number of tracings could be due to (1) creating @tf.function repeatedly in a loop, (2) passing tensors with different shapes, (3) passing Python objects instead of tensors. For (1), please define your @tf.function outside of the loop. For (2), @tf.function has experimental_relax_shapes=True option that relaxes argument shapes that can avoid unnecessary retracing. For (3), please refer to https://www.tensorflow.org/guide/function#controlling_retracing and https://www.tensorflow.org/api_docs/python/tf/function for  more details.\n"
          ]
        },
        {
          "output_type": "stream",
          "name": "stdout",
          "text": [
            "Model Number: 655 with model DatepartRegression in generation 8 of 10\n",
            "Template Eval Error: KeyError('squared_error') in model 655: DatepartRegression\n",
            "Model Number: 656 with model NVAR in generation 8 of 10\n",
            "Model Number: 657 with model NVAR in generation 8 of 10\n",
            "Template Eval Error: IndexError('index -3 is out of bounds for axis 1 with size 2') in model 657: NVAR\n",
            "Model Number: 658 with model NVAR in generation 8 of 10\n",
            "Model Number: 659 with model NVAR in generation 8 of 10\n"
          ]
        },
        {
          "output_type": "stream",
          "name": "stderr",
          "text": [
            "[Parallel(n_jobs=1)]: Using backend SequentialBackend with 1 concurrent workers.\n",
            "/usr/local/lib/python3.7/dist-packages/sklearn/neural_network/_multilayer_perceptron.py:1342: DataConversionWarning:\n",
            "\n",
            "A column-vector y was passed when a 1d array was expected. Please change the shape of y to (n_samples, ), for example using ravel().\n",
            "\n"
          ]
        },
        {
          "output_type": "stream",
          "name": "stdout",
          "text": [
            "Model Number: 660 with model RollingRegression in generation 8 of 10\n",
            "Model Number: 661 with model RollingRegression in generation 8 of 10\n"
          ]
        },
        {
          "output_type": "stream",
          "name": "stderr",
          "text": [
            "/usr/local/lib/python3.7/dist-packages/sklearn/neural_network/_multilayer_perceptron.py:1342: DataConversionWarning:\n",
            "\n",
            "A column-vector y was passed when a 1d array was expected. Please change the shape of y to (n_samples, ), for example using ravel().\n",
            "\n",
            "/usr/local/lib/python3.7/dist-packages/sklearn/neural_network/_multilayer_perceptron.py:571: ConvergenceWarning:\n",
            "\n",
            "Stochastic Optimizer: Maximum iterations (500) reached and the optimization hasn't converged yet.\n",
            "\n"
          ]
        },
        {
          "output_type": "stream",
          "name": "stdout",
          "text": [
            "Model Number: 662 with model RollingRegression in generation 8 of 10\n",
            "Template Eval Error: ValueError(\"Input contains NaN, infinity or a value too large for dtype('float32').\") in model 662: RollingRegression\n",
            "Model Number: 663 with model RollingRegression in generation 8 of 10\n",
            "Template Eval Error: ValueError(\"Input contains NaN, infinity or a value too large for dtype('float64').\") in model 663: RollingRegression\n",
            "Model Number: 664 with model SeasonalNaive in generation 8 of 10\n",
            "Model Number: 665 with model SeasonalNaive in generation 8 of 10\n",
            "Model Number: 666 with model SeasonalNaive in generation 8 of 10\n",
            "Model Number: 667 with model SeasonalNaive in generation 8 of 10\n",
            "Model Number: 668 with model UnobservedComponents in generation 8 of 10\n",
            "Model Number: 669 with model UnobservedComponents in generation 8 of 10\n",
            "Model Number: 670 with model UnobservedComponents in generation 8 of 10\n",
            "Model Number: 671 with model GLM in generation 8 of 10\n",
            "Model Number: 672 with model GLM in generation 8 of 10\n",
            "Model Number: 673 with model GLM in generation 8 of 10\n",
            "Model Number: 674 with model GLM in generation 8 of 10\n",
            "Model Number: 675 with model LastValueNaive in generation 8 of 10\n",
            "Model Number: 676 with model LastValueNaive in generation 8 of 10\n",
            "Model Number: 677 with model LastValueNaive in generation 8 of 10\n",
            "Model Number: 678 with model GLS in generation 8 of 10\n",
            "Model Number: 679 with model GLS in generation 8 of 10\n",
            "Model Number: 680 with model WindowRegression in generation 8 of 10\n",
            "Template Eval Error: ValueError('Found array with 0 sample(s) (shape=(0, 0)) while a minimum of 1 is required.') in model 680: WindowRegression\n",
            "Model Number: 681 with model WindowRegression in generation 8 of 10\n",
            "Template Eval Error: ValueError(\"WindowRegression regression_type='user' requires numpy >= 1.20\") in model 681: WindowRegression\n",
            "Model Number: 682 with model WindowRegression in generation 8 of 10\n",
            "Template Eval Error: ValueError(\"WindowRegression regression_type='user' requires numpy >= 1.20\") in model 682: WindowRegression\n",
            "Model Number: 683 with model ZeroesNaive in generation 8 of 10\n",
            "Model Number: 684 with model ZeroesNaive in generation 8 of 10\n",
            "Model Number: 685 with model ZeroesNaive in generation 8 of 10\n",
            "Model Number: 686 with model GluonTS in generation 8 of 10\n",
            "Template Eval Error: ImportError('GluonTS installation not found or installed version is incompatible with AutoTS.') in model 686: GluonTS\n",
            "Model Number: 687 with model GluonTS in generation 8 of 10\n",
            "Template Eval Error: ImportError('GluonTS installation not found or installed version is incompatible with AutoTS.') in model 687: GluonTS\n",
            "Model Number: 688 with model GluonTS in generation 8 of 10\n",
            "Template Eval Error: ImportError('GluonTS installation not found or installed version is incompatible with AutoTS.') in model 688: GluonTS\n",
            "Model Number: 689 with model GluonTS in generation 8 of 10\n",
            "Template Eval Error: ImportError('GluonTS installation not found or installed version is incompatible with AutoTS.') in model 689: GluonTS\n",
            "Model Number: 690 with model VAR in generation 8 of 10\n",
            "Template Eval Error: ValueError('Only gave one variable to VAR') in model 690: VAR\n",
            "Model Number: 691 with model VAR in generation 8 of 10\n",
            "Template Eval Error: ValueError('Only gave one variable to VAR') in model 691: VAR\n",
            "Model Number: 692 with model VAR in generation 8 of 10\n",
            "Template Eval Error: ValueError('Only gave one variable to VAR') in model 692: VAR\n",
            "Model Number: 693 with model VAR in generation 8 of 10\n",
            "Template Eval Error: ValueError('Only gave one variable to VAR') in model 693: VAR\n",
            "Model Number: 694 with model VECM in generation 8 of 10\n",
            "Template Eval Error: ValueError('Only gave one variable to VECM') in model 694: VECM\n",
            "Model Number: 695 with model VECM in generation 8 of 10\n",
            "Template Eval Error: ValueError('Only gave one variable to VECM') in model 695: VECM\n",
            "Model Number: 696 with model VECM in generation 8 of 10\n",
            "Template Eval Error: ValueError('Only gave one variable to VECM') in model 696: VECM\n",
            "Model Number: 697 with model VECM in generation 8 of 10\n",
            "Template Eval Error: ValueError('Only gave one variable to VECM') in model 697: VECM\n",
            "Model Number: 698 with model UnivariateRegression in generation 8 of 10\n",
            "Template Eval Error: TypeError(\"unsupported operand type(s) for -: 'NoneType' and 'int'\") in model 698: UnivariateRegression\n",
            "Model Number: 699 with model UnivariateRegression in generation 8 of 10\n",
            "Template Eval Error: AttributeError(\"'list' object has no attribute 'shape'\") in model 699: UnivariateRegression\n",
            "Model Number: 700 with model UnivariateRegression in generation 8 of 10\n",
            "Template Eval Error: TypeError(\"unsupported operand type(s) for -: 'NoneType' and 'int'\") in model 700: UnivariateRegression\n",
            "Model Number: 701 with model UnivariateRegression in generation 8 of 10\n",
            "Template Eval Error: TypeError(\"unsupported operand type(s) for -: 'NoneType' and 'int'\") in model 701: UnivariateRegression\n",
            "Model Number: 702 with model UnivariateMotif in generation 8 of 10\n",
            "Template Eval Error: AttributeError(\"module 'numpy.lib.stride_tricks' has no attribute 'sliding_window_view'\") in model 702: UnivariateMotif\n",
            "Model Number: 703 with model UnivariateMotif in generation 8 of 10\n",
            "Template Eval Error: AttributeError(\"module 'numpy.lib.stride_tricks' has no attribute 'sliding_window_view'\") in model 703: UnivariateMotif\n",
            "Model Number: 704 with model UnivariateMotif in generation 8 of 10\n",
            "Template Eval Error: AttributeError(\"module 'numpy.lib.stride_tricks' has no attribute 'sliding_window_view'\") in model 704: UnivariateMotif\n",
            "Model Number: 705 with model UnivariateMotif in generation 8 of 10\n",
            "Template Eval Error: AttributeError(\"module 'numpy.lib.stride_tricks' has no attribute 'sliding_window_view'\") in model 705: UnivariateMotif\n",
            "Model Number: 706 with model MultivariateMotif in generation 8 of 10\n",
            "Template Eval Error: AttributeError(\"module 'numpy.lib.stride_tricks' has no attribute 'sliding_window_view'\") in model 706: MultivariateMotif\n",
            "Model Number: 707 with model MultivariateMotif in generation 8 of 10\n",
            "Template Eval Error: AttributeError(\"module 'numpy.lib.stride_tricks' has no attribute 'sliding_window_view'\") in model 707: MultivariateMotif\n",
            "Model Number: 708 with model MultivariateMotif in generation 8 of 10\n",
            "Template Eval Error: AttributeError(\"module 'numpy.lib.stride_tricks' has no attribute 'sliding_window_view'\") in model 708: MultivariateMotif\n",
            "Model Number: 709 with model MultivariateMotif in generation 8 of 10\n",
            "Template Eval Error: AttributeError(\"module 'numpy.lib.stride_tricks' has no attribute 'sliding_window_view'\") in model 709: MultivariateMotif\n",
            "New Generation: 9 of 10\n",
            "Model Number: 710 with model AverageValueNaive in generation 9 of 10\n",
            "Template Eval Error: ImportError(\"cannot import name 'STL' from 'statsmodels.tsa.seasonal' (/usr/local/lib/python3.7/dist-packages/statsmodels/tsa/seasonal.py)\") in model 710: AverageValueNaive\n",
            "Model Number: 711 with model AverageValueNaive in generation 9 of 10\n",
            "Model Number: 712 with model ETS in generation 9 of 10\n",
            "Model Number: 713 with model ETS in generation 9 of 10\n",
            "Model Number: 714 with model ETS in generation 9 of 10\n",
            "Model Number: 715 with model ETS in generation 9 of 10\n",
            "Model Number: 716 with model DatepartRegression in generation 9 of 10\n",
            "Template Eval Error: KeyError('squared_error') in model 716: DatepartRegression\n",
            "Model Number: 717 with model DatepartRegression in generation 9 of 10\n"
          ]
        },
        {
          "output_type": "stream",
          "name": "stderr",
          "text": [
            "/usr/local/lib/python3.7/dist-packages/statsmodels/tsa/holtwinters.py:772: RuntimeWarning:\n",
            "\n",
            "Mean of empty slice.\n",
            "\n",
            "/usr/local/lib/python3.7/dist-packages/numpy/core/_methods.py:170: RuntimeWarning:\n",
            "\n",
            "invalid value encountered in double_scalars\n",
            "\n",
            "[Parallel(n_jobs=1)]: Using backend SequentialBackend with 1 concurrent workers.\n",
            "/usr/local/lib/python3.7/dist-packages/sklearn/neighbors/_regression.py:362: UserWarning:\n",
            "\n",
            "One or more samples have no neighbors within specified radius; predicting NaN.\n",
            "\n",
            "INFO:fbprophet:Disabling yearly seasonality. Run prophet with yearly_seasonality=True to override this.\n",
            "INFO:fbprophet:Disabling weekly seasonality. Run prophet with weekly_seasonality=True to override this.\n",
            "INFO:fbprophet:Disabling daily seasonality. Run prophet with daily_seasonality=True to override this.\n",
            "INFO:fbprophet:n_changepoints greater than number of observations. Using 7.\n"
          ]
        },
        {
          "output_type": "stream",
          "name": "stdout",
          "text": [
            "Template Eval Error: KeyError('squared_error') in model 717: DatepartRegression\n",
            "Model Number: 718 with model DatepartRegression in generation 9 of 10\n",
            "Template Eval Error: ValueError('Model DatepartRegression returned NaN for one or more series') in model 718: DatepartRegression\n",
            "Model Number: 719 with model FBProphet in generation 9 of 10\n"
          ]
        },
        {
          "output_type": "stream",
          "name": "stderr",
          "text": [
            "INFO:fbprophet:Disabling yearly seasonality. Run prophet with yearly_seasonality=True to override this.\n",
            "INFO:fbprophet:Disabling weekly seasonality. Run prophet with weekly_seasonality=True to override this.\n",
            "INFO:fbprophet:Disabling daily seasonality. Run prophet with daily_seasonality=True to override this.\n",
            "INFO:fbprophet:n_changepoints greater than number of observations. Using 7.\n"
          ]
        },
        {
          "output_type": "stream",
          "name": "stdout",
          "text": [
            "Model Number: 720 with model FBProphet in generation 9 of 10\n"
          ]
        },
        {
          "output_type": "stream",
          "name": "stderr",
          "text": [
            "INFO:fbprophet:Disabling yearly seasonality. Run prophet with yearly_seasonality=True to override this.\n",
            "INFO:fbprophet:Disabling weekly seasonality. Run prophet with weekly_seasonality=True to override this.\n",
            "INFO:fbprophet:Disabling daily seasonality. Run prophet with daily_seasonality=True to override this.\n",
            "INFO:fbprophet:n_changepoints greater than number of observations. Using 7.\n"
          ]
        },
        {
          "output_type": "stream",
          "name": "stdout",
          "text": [
            "Model Number: 721 with model FBProphet in generation 9 of 10\n",
            "Model Number: 722 with model MultivariateRegression in generation 9 of 10\n",
            "Model Number: 723 with model MultivariateRegression in generation 9 of 10\n",
            "Model Number: 724 with model MultivariateRegression in generation 9 of 10\n",
            "Template Eval Error: AttributeError(\"'list' object has no attribute 'shape'\") in model 724: MultivariateRegression\n",
            "Model Number: 725 with model MultivariateRegression in generation 9 of 10\n",
            "Template Eval Error: AttributeError(\"'list' object has no attribute 'shape'\") in model 725: MultivariateRegression\n",
            "Model Number: 726 with model NVAR in generation 9 of 10\n",
            "Model Number: 727 with model NVAR in generation 9 of 10\n",
            "Model Number: 728 with model NVAR in generation 9 of 10\n",
            "Model Number: 729 with model RollingRegression in generation 9 of 10\n",
            "Epoch 1/50\n",
            "1/1 [==============================] - 5s 5s/step - loss: 9.1452\n",
            "Epoch 2/50\n",
            "1/1 [==============================] - 0s 21ms/step - loss: 7.3403\n",
            "Epoch 3/50\n",
            "1/1 [==============================] - 0s 18ms/step - loss: 3.0597\n",
            "Epoch 4/50\n",
            "1/1 [==============================] - 0s 16ms/step - loss: 2.1554\n",
            "Epoch 5/50\n",
            "1/1 [==============================] - 0s 19ms/step - loss: 1.9199\n",
            "Epoch 6/50\n",
            "1/1 [==============================] - 0s 15ms/step - loss: 2.0211\n",
            "Epoch 7/50\n",
            "1/1 [==============================] - 0s 18ms/step - loss: 3.0723\n",
            "Epoch 8/50\n",
            "1/1 [==============================] - 0s 13ms/step - loss: 1.9134\n",
            "Epoch 9/50\n",
            "1/1 [==============================] - 0s 16ms/step - loss: 1.5183\n",
            "Epoch 10/50\n",
            "1/1 [==============================] - 0s 18ms/step - loss: 3.0187\n",
            "Epoch 11/50\n",
            "1/1 [==============================] - 0s 27ms/step - loss: 1.5402\n",
            "Epoch 12/50\n",
            "1/1 [==============================] - 0s 24ms/step - loss: 2.4723\n",
            "Epoch 13/50\n",
            "1/1 [==============================] - 0s 21ms/step - loss: 1.6692\n",
            "Epoch 14/50\n",
            "1/1 [==============================] - 0s 25ms/step - loss: 2.0246\n",
            "Epoch 15/50\n",
            "1/1 [==============================] - 0s 19ms/step - loss: 1.9692\n",
            "Epoch 16/50\n",
            "1/1 [==============================] - 0s 25ms/step - loss: 1.7406\n",
            "Epoch 17/50\n",
            "1/1 [==============================] - 0s 31ms/step - loss: 1.4239\n",
            "Epoch 18/50\n",
            "1/1 [==============================] - 0s 19ms/step - loss: 1.7171\n",
            "Epoch 19/50\n",
            "1/1 [==============================] - 0s 30ms/step - loss: 1.5999\n",
            "Epoch 20/50\n",
            "1/1 [==============================] - 0s 16ms/step - loss: 1.5798\n",
            "Epoch 21/50\n",
            "1/1 [==============================] - 0s 16ms/step - loss: 2.0169\n",
            "Epoch 22/50\n",
            "1/1 [==============================] - 0s 22ms/step - loss: 1.3898\n",
            "Epoch 23/50\n",
            "1/1 [==============================] - 0s 26ms/step - loss: 1.6565\n",
            "Epoch 24/50\n",
            "1/1 [==============================] - 0s 27ms/step - loss: 1.3781\n",
            "Epoch 25/50\n",
            "1/1 [==============================] - 0s 19ms/step - loss: 2.0059\n",
            "Epoch 26/50\n",
            "1/1 [==============================] - 0s 36ms/step - loss: 1.3774\n",
            "Epoch 27/50\n",
            "1/1 [==============================] - 0s 26ms/step - loss: 0.9693\n",
            "Epoch 28/50\n",
            "1/1 [==============================] - 0s 19ms/step - loss: 1.3664\n",
            "Epoch 29/50\n",
            "1/1 [==============================] - 0s 21ms/step - loss: 1.7426\n",
            "Epoch 30/50\n",
            "1/1 [==============================] - 0s 26ms/step - loss: 1.2116\n",
            "Epoch 31/50\n",
            "1/1 [==============================] - 0s 20ms/step - loss: 1.7715\n",
            "Epoch 32/50\n",
            "1/1 [==============================] - 0s 24ms/step - loss: 1.3194\n",
            "Epoch 33/50\n",
            "1/1 [==============================] - 0s 22ms/step - loss: 1.6502\n",
            "Epoch 34/50\n",
            "1/1 [==============================] - 0s 26ms/step - loss: 1.0952\n",
            "Epoch 35/50\n",
            "1/1 [==============================] - 0s 26ms/step - loss: 1.8869\n",
            "Epoch 36/50\n",
            "1/1 [==============================] - 0s 27ms/step - loss: 1.1793\n",
            "Epoch 37/50\n",
            "1/1 [==============================] - 0s 23ms/step - loss: 1.0964\n",
            "Epoch 38/50\n",
            "1/1 [==============================] - 0s 18ms/step - loss: 1.7495\n",
            "Epoch 39/50\n",
            "1/1 [==============================] - 0s 21ms/step - loss: 1.2826\n",
            "Epoch 40/50\n",
            "1/1 [==============================] - 0s 21ms/step - loss: 1.4984\n",
            "Epoch 41/50\n",
            "1/1 [==============================] - 0s 24ms/step - loss: 1.8694\n",
            "Epoch 42/50\n",
            "1/1 [==============================] - 0s 21ms/step - loss: 1.3847\n",
            "Epoch 43/50\n",
            "1/1 [==============================] - 0s 19ms/step - loss: 1.4166\n",
            "Epoch 44/50\n",
            "1/1 [==============================] - 0s 21ms/step - loss: 1.2774\n",
            "Epoch 45/50\n",
            "1/1 [==============================] - 0s 23ms/step - loss: 1.4505\n",
            "Epoch 46/50\n",
            "1/1 [==============================] - 0s 20ms/step - loss: 1.2910\n",
            "Epoch 47/50\n",
            "1/1 [==============================] - 0s 20ms/step - loss: 1.5346\n",
            "Epoch 48/50\n",
            "1/1 [==============================] - 0s 23ms/step - loss: 0.9596\n",
            "Epoch 49/50\n",
            "1/1 [==============================] - 0s 18ms/step - loss: 1.3478\n",
            "Epoch 50/50\n",
            "1/1 [==============================] - 0s 20ms/step - loss: 1.2004\n",
            "WARNING:tensorflow:6 out of the last 9 calls to <function Model.make_predict_function.<locals>.predict_function at 0x7f5cb7bc0f80> triggered tf.function retracing. Tracing is expensive and the excessive number of tracings could be due to (1) creating @tf.function repeatedly in a loop, (2) passing tensors with different shapes, (3) passing Python objects instead of tensors. For (1), please define your @tf.function outside of the loop. For (2), @tf.function has experimental_relax_shapes=True option that relaxes argument shapes that can avoid unnecessary retracing. For (3), please refer to https://www.tensorflow.org/guide/function#controlling_retracing and https://www.tensorflow.org/api_docs/python/tf/function for  more details.\n"
          ]
        },
        {
          "output_type": "stream",
          "name": "stderr",
          "text": [
            "WARNING:tensorflow:6 out of the last 9 calls to <function Model.make_predict_function.<locals>.predict_function at 0x7f5cb7bc0f80> triggered tf.function retracing. Tracing is expensive and the excessive number of tracings could be due to (1) creating @tf.function repeatedly in a loop, (2) passing tensors with different shapes, (3) passing Python objects instead of tensors. For (1), please define your @tf.function outside of the loop. For (2), @tf.function has experimental_relax_shapes=True option that relaxes argument shapes that can avoid unnecessary retracing. For (3), please refer to https://www.tensorflow.org/guide/function#controlling_retracing and https://www.tensorflow.org/api_docs/python/tf/function for  more details.\n"
          ]
        },
        {
          "output_type": "stream",
          "name": "stdout",
          "text": [
            "Model Number: 730 with model RollingRegression in generation 9 of 10\n",
            "Epoch 1/50\n",
            "1/1 [==============================] - 5s 5s/step - loss: nan\n",
            "Epoch 2/50\n",
            "1/1 [==============================] - 0s 15ms/step - loss: nan\n",
            "Epoch 3/50\n",
            "1/1 [==============================] - 0s 11ms/step - loss: nan\n",
            "Epoch 4/50\n",
            "1/1 [==============================] - 0s 16ms/step - loss: nan\n",
            "Epoch 5/50\n",
            "1/1 [==============================] - 0s 17ms/step - loss: nan\n",
            "Epoch 6/50\n",
            "1/1 [==============================] - 0s 15ms/step - loss: nan\n",
            "Epoch 7/50\n",
            "1/1 [==============================] - 0s 15ms/step - loss: nan\n",
            "Epoch 8/50\n",
            "1/1 [==============================] - 0s 21ms/step - loss: nan\n",
            "Epoch 9/50\n",
            "1/1 [==============================] - 0s 17ms/step - loss: nan\n",
            "Epoch 10/50\n",
            "1/1 [==============================] - 0s 17ms/step - loss: nan\n",
            "Epoch 11/50\n",
            "1/1 [==============================] - 0s 15ms/step - loss: nan\n",
            "Epoch 12/50\n",
            "1/1 [==============================] - 0s 17ms/step - loss: nan\n",
            "Epoch 13/50\n",
            "1/1 [==============================] - 0s 16ms/step - loss: nan\n",
            "Epoch 14/50\n",
            "1/1 [==============================] - 0s 17ms/step - loss: nan\n",
            "Epoch 15/50\n",
            "1/1 [==============================] - 0s 14ms/step - loss: nan\n",
            "Epoch 16/50\n",
            "1/1 [==============================] - 0s 32ms/step - loss: nan\n",
            "Epoch 17/50\n",
            "1/1 [==============================] - 0s 15ms/step - loss: nan\n",
            "Epoch 18/50\n",
            "1/1 [==============================] - 0s 18ms/step - loss: nan\n",
            "Epoch 19/50\n",
            "1/1 [==============================] - 0s 24ms/step - loss: nan\n",
            "Epoch 20/50\n",
            "1/1 [==============================] - 0s 19ms/step - loss: nan\n",
            "Epoch 21/50\n",
            "1/1 [==============================] - 0s 19ms/step - loss: nan\n",
            "Epoch 22/50\n",
            "1/1 [==============================] - 0s 13ms/step - loss: nan\n",
            "Epoch 23/50\n",
            "1/1 [==============================] - 0s 16ms/step - loss: nan\n",
            "Epoch 24/50\n",
            "1/1 [==============================] - 0s 26ms/step - loss: nan\n",
            "Epoch 25/50\n",
            "1/1 [==============================] - 0s 24ms/step - loss: nan\n",
            "Epoch 26/50\n",
            "1/1 [==============================] - 0s 21ms/step - loss: nan\n",
            "Epoch 27/50\n",
            "1/1 [==============================] - 0s 10ms/step - loss: nan\n",
            "Epoch 28/50\n",
            "1/1 [==============================] - 0s 18ms/step - loss: nan\n",
            "Epoch 29/50\n",
            "1/1 [==============================] - 0s 28ms/step - loss: nan\n",
            "Epoch 30/50\n",
            "1/1 [==============================] - 0s 17ms/step - loss: nan\n",
            "Epoch 31/50\n",
            "1/1 [==============================] - 0s 24ms/step - loss: nan\n",
            "Epoch 32/50\n",
            "1/1 [==============================] - 0s 25ms/step - loss: nan\n",
            "Epoch 33/50\n",
            "1/1 [==============================] - 0s 14ms/step - loss: nan\n",
            "Epoch 34/50\n",
            "1/1 [==============================] - 0s 19ms/step - loss: nan\n",
            "Epoch 35/50\n",
            "1/1 [==============================] - 0s 27ms/step - loss: nan\n",
            "Epoch 36/50\n",
            "1/1 [==============================] - 0s 16ms/step - loss: nan\n",
            "Epoch 37/50\n",
            "1/1 [==============================] - 0s 16ms/step - loss: nan\n",
            "Epoch 38/50\n",
            "1/1 [==============================] - 0s 15ms/step - loss: nan\n",
            "Epoch 39/50\n",
            "1/1 [==============================] - 0s 33ms/step - loss: nan\n",
            "Epoch 40/50\n",
            "1/1 [==============================] - 0s 13ms/step - loss: nan\n",
            "Epoch 41/50\n",
            "1/1 [==============================] - 0s 16ms/step - loss: nan\n",
            "Epoch 42/50\n",
            "1/1 [==============================] - 0s 29ms/step - loss: nan\n",
            "Epoch 43/50\n",
            "1/1 [==============================] - 0s 17ms/step - loss: nan\n",
            "Epoch 44/50\n",
            "1/1 [==============================] - 0s 11ms/step - loss: nan\n",
            "Epoch 45/50\n",
            "1/1 [==============================] - 0s 23ms/step - loss: nan\n",
            "Epoch 46/50\n",
            "1/1 [==============================] - 0s 16ms/step - loss: nan\n",
            "Epoch 47/50\n",
            "1/1 [==============================] - 0s 22ms/step - loss: nan\n",
            "Epoch 48/50\n",
            "1/1 [==============================] - 0s 16ms/step - loss: nan\n",
            "Epoch 49/50\n",
            "1/1 [==============================] - 0s 14ms/step - loss: nan\n",
            "Epoch 50/50\n",
            "1/1 [==============================] - 0s 17ms/step - loss: nan\n",
            "Template Eval Error: ValueError('Model RollingRegression returned NaN for one or more series') in model 730: RollingRegression\n",
            "Model Number: 731 with model RollingRegression in generation 9 of 10\n",
            "Model Number: 732 with model RollingRegression in generation 9 of 10\n"
          ]
        },
        {
          "output_type": "stream",
          "name": "stderr",
          "text": [
            "/usr/local/lib/python3.7/dist-packages/sklearn/neural_network/_multilayer_perceptron.py:1342: DataConversionWarning:\n",
            "\n",
            "A column-vector y was passed when a 1d array was expected. Please change the shape of y to (n_samples, ), for example using ravel().\n",
            "\n",
            "/usr/local/lib/python3.7/dist-packages/sklearn/neural_network/_multilayer_perceptron.py:1342: DataConversionWarning:\n",
            "\n",
            "A column-vector y was passed when a 1d array was expected. Please change the shape of y to (n_samples, ), for example using ravel().\n",
            "\n"
          ]
        },
        {
          "output_type": "stream",
          "name": "stdout",
          "text": [
            "Model Number: 733 with model SeasonalNaive in generation 9 of 10\n",
            "Model Number: 734 with model SeasonalNaive in generation 9 of 10\n",
            "Model Number: 735 with model SeasonalNaive in generation 9 of 10\n",
            "Model Number: 736 with model SeasonalNaive in generation 9 of 10\n",
            "Model Number: 737 with model UnobservedComponents in generation 9 of 10\n",
            "Model Number: 738 with model UnobservedComponents in generation 9 of 10\n",
            "Model Number: 739 with model UnobservedComponents in generation 9 of 10\n",
            "Model Number: 740 with model GLM in generation 9 of 10\n",
            "Model Number: 741 with model GLM in generation 9 of 10\n",
            "Model Number: 742 with model GLM in generation 9 of 10\n"
          ]
        },
        {
          "output_type": "stream",
          "name": "stderr",
          "text": [
            "/usr/local/lib/python3.7/dist-packages/statsmodels/genmod/generalized_linear_model.py:273: DomainWarning:\n",
            "\n",
            "The inverse_power link function does not respect the domain of the Gamma family.\n",
            "\n",
            "/usr/local/lib/python3.7/dist-packages/statsmodels/genmod/generalized_linear_model.py:273: DomainWarning:\n",
            "\n",
            "The inverse_power link function does not respect the domain of the Gamma family.\n",
            "\n",
            "/usr/local/lib/python3.7/dist-packages/statsmodels/genmod/generalized_linear_model.py:273: DomainWarning:\n",
            "\n",
            "The inverse_power link function does not respect the domain of the Gamma family.\n",
            "\n"
          ]
        },
        {
          "output_type": "stream",
          "name": "stdout",
          "text": [
            "Model Number: 743 with model GLM in generation 9 of 10\n",
            "Model Number: 744 with model LastValueNaive in generation 9 of 10\n",
            "Model Number: 745 with model LastValueNaive in generation 9 of 10\n",
            "Model Number: 746 with model LastValueNaive in generation 9 of 10\n"
          ]
        },
        {
          "output_type": "stream",
          "name": "stderr",
          "text": [
            "/usr/local/lib/python3.7/dist-packages/statsmodels/genmod/generalized_linear_model.py:273: DomainWarning:\n",
            "\n",
            "The inverse_power link function does not respect the domain of the Gamma family.\n",
            "\n"
          ]
        },
        {
          "output_type": "stream",
          "name": "stdout",
          "text": [
            "Model Number: 747 with model GLS in generation 9 of 10\n",
            "Model Number: 748 with model GLS in generation 9 of 10\n",
            "Model Number: 749 with model GLS in generation 9 of 10\n",
            "Model Number: 750 with model WindowRegression in generation 9 of 10\n",
            "Template Eval Error: KeyError('squared_error') in model 750: WindowRegression\n",
            "Model Number: 751 with model WindowRegression in generation 9 of 10\n",
            "Template Eval Error: ValueError(\"WindowRegression regression_type='user' requires numpy >= 1.20\") in model 751: WindowRegression\n",
            "Model Number: 752 with model WindowRegression in generation 9 of 10\n",
            "Template Eval Error: ImportError(\"cannot import name 'PoissonRegressor' from 'sklearn.linear_model' (/usr/local/lib/python3.7/dist-packages/sklearn/linear_model/__init__.py)\") in model 752: WindowRegression\n",
            "Model Number: 753 with model ZeroesNaive in generation 9 of 10\n",
            "Model Number: 754 with model ZeroesNaive in generation 9 of 10\n"
          ]
        },
        {
          "output_type": "stream",
          "name": "stderr",
          "text": [
            "/usr/local/lib/python3.7/dist-packages/autots/models/sklearn.py:1363: DataConversionWarning:\n",
            "\n",
            "A column-vector y was passed when a 1d array was expected. Please change the shape of y to (n_samples,), for example using ravel().\n",
            "\n"
          ]
        },
        {
          "output_type": "stream",
          "name": "stdout",
          "text": [
            "Model Number: 755 with model ZeroesNaive in generation 9 of 10\n",
            "Model Number: 756 with model GluonTS in generation 9 of 10\n",
            "Template Eval Error: ImportError('GluonTS installation not found or installed version is incompatible with AutoTS.') in model 756: GluonTS\n",
            "Model Number: 757 with model GluonTS in generation 9 of 10\n",
            "Template Eval Error: ImportError('GluonTS installation not found or installed version is incompatible with AutoTS.') in model 757: GluonTS\n",
            "Model Number: 758 with model GluonTS in generation 9 of 10\n",
            "Template Eval Error: ImportError('GluonTS installation not found or installed version is incompatible with AutoTS.') in model 758: GluonTS\n",
            "Model Number: 759 with model GluonTS in generation 9 of 10\n",
            "Template Eval Error: ImportError('GluonTS installation not found or installed version is incompatible with AutoTS.') in model 759: GluonTS\n",
            "Model Number: 760 with model VAR in generation 9 of 10\n",
            "Template Eval Error: ValueError('Only gave one variable to VAR') in model 760: VAR\n",
            "Model Number: 761 with model VAR in generation 9 of 10\n",
            "Template Eval Error: ValueError('Only gave one variable to VAR') in model 761: VAR\n",
            "Model Number: 762 with model VAR in generation 9 of 10\n",
            "Template Eval Error: ValueError('Only gave one variable to VAR') in model 762: VAR\n",
            "Model Number: 763 with model VAR in generation 9 of 10\n",
            "Template Eval Error: ValueError('Only gave one variable to VAR') in model 763: VAR\n",
            "Model Number: 764 with model VECM in generation 9 of 10\n",
            "Template Eval Error: ValueError('Only gave one variable to VECM') in model 764: VECM\n",
            "Model Number: 765 with model VECM in generation 9 of 10\n",
            "Template Eval Error: ValueError('Only gave one variable to VECM') in model 765: VECM\n",
            "Model Number: 766 with model VECM in generation 9 of 10\n",
            "Template Eval Error: AttributeError(\"'list' object has no attribute 'shape'\") in model 766: VECM\n",
            "Model Number: 767 with model UnivariateRegression in generation 9 of 10\n",
            "Template Eval Error: TypeError(\"unsupported operand type(s) for -: 'NoneType' and 'int'\") in model 767: UnivariateRegression\n",
            "Model Number: 768 with model UnivariateRegression in generation 9 of 10\n",
            "Template Eval Error: TypeError(\"unsupported operand type(s) for -: 'NoneType' and 'int'\") in model 768: UnivariateRegression\n",
            "Model Number: 769 with model UnivariateRegression in generation 9 of 10\n",
            "Template Eval Error: TypeError(\"unsupported operand type(s) for -: 'NoneType' and 'int'\") in model 769: UnivariateRegression\n",
            "Model Number: 770 with model UnivariateRegression in generation 9 of 10\n",
            "Template Eval Error: TypeError(\"unsupported operand type(s) for -: 'NoneType' and 'int'\") in model 770: UnivariateRegression\n",
            "Model Number: 771 with model UnivariateMotif in generation 9 of 10\n",
            "Template Eval Error: AttributeError(\"module 'numpy.lib.stride_tricks' has no attribute 'sliding_window_view'\") in model 771: UnivariateMotif\n",
            "Model Number: 772 with model UnivariateMotif in generation 9 of 10\n",
            "Template Eval Error: AttributeError(\"module 'numpy.lib.stride_tricks' has no attribute 'sliding_window_view'\") in model 772: UnivariateMotif\n",
            "Model Number: 773 with model UnivariateMotif in generation 9 of 10\n",
            "Template Eval Error: AttributeError(\"module 'numpy.lib.stride_tricks' has no attribute 'sliding_window_view'\") in model 773: UnivariateMotif\n",
            "Model Number: 774 with model UnivariateMotif in generation 9 of 10\n",
            "Template Eval Error: AttributeError(\"module 'numpy.lib.stride_tricks' has no attribute 'sliding_window_view'\") in model 774: UnivariateMotif\n",
            "Model Number: 775 with model MultivariateMotif in generation 9 of 10\n",
            "Template Eval Error: AttributeError(\"module 'numpy.lib.stride_tricks' has no attribute 'sliding_window_view'\") in model 775: MultivariateMotif\n",
            "Model Number: 776 with model MultivariateMotif in generation 9 of 10\n",
            "Template Eval Error: AttributeError(\"module 'numpy.lib.stride_tricks' has no attribute 'sliding_window_view'\") in model 776: MultivariateMotif\n",
            "Model Number: 777 with model MultivariateMotif in generation 9 of 10\n",
            "Template Eval Error: AttributeError(\"module 'numpy.lib.stride_tricks' has no attribute 'sliding_window_view'\") in model 777: MultivariateMotif\n",
            "Model Number: 778 with model MultivariateMotif in generation 9 of 10\n",
            "Template Eval Error: AttributeError(\"module 'numpy.lib.stride_tricks' has no attribute 'sliding_window_view'\") in model 778: MultivariateMotif\n",
            "New Generation: 10 of 10\n",
            "Model Number: 779 with model AverageValueNaive in generation 10 of 10\n",
            "Model Number: 780 with model AverageValueNaive in generation 10 of 10\n",
            "Model Number: 781 with model AverageValueNaive in generation 10 of 10\n",
            "Model Number: 782 with model ETS in generation 10 of 10\n",
            "Model Number: 783 with model ETS in generation 10 of 10\n",
            "Model Number: 784 with model ETS in generation 10 of 10\n",
            "Model Number: 785 with model ETS in generation 10 of 10\n",
            "Model Number: 786 with model DatepartRegression in generation 10 of 10\n",
            "Model Number: 787 with model DatepartRegression in generation 10 of 10\n",
            "Template Eval Error: ValueError('Model DatepartRegression returned NaN for one or more series') in model 787: DatepartRegression\n",
            "Model Number: 788 with model DatepartRegression in generation 10 of 10\n"
          ]
        },
        {
          "output_type": "stream",
          "name": "stderr",
          "text": [
            "/usr/local/lib/python3.7/dist-packages/sklearn/neighbors/_regression.py:362: UserWarning:\n",
            "\n",
            "One or more samples have no neighbors within specified radius; predicting NaN.\n",
            "\n"
          ]
        },
        {
          "output_type": "stream",
          "name": "stdout",
          "text": [
            "Model Number: 789 with model FBProphet in generation 10 of 10\n"
          ]
        },
        {
          "output_type": "stream",
          "name": "stderr",
          "text": [
            "INFO:fbprophet:Disabling yearly seasonality. Run prophet with yearly_seasonality=True to override this.\n",
            "INFO:fbprophet:Disabling weekly seasonality. Run prophet with weekly_seasonality=True to override this.\n",
            "INFO:fbprophet:Disabling daily seasonality. Run prophet with daily_seasonality=True to override this.\n",
            "INFO:fbprophet:n_changepoints greater than number of observations. Using 7.\n",
            "INFO:fbprophet:Disabling yearly seasonality. Run prophet with yearly_seasonality=True to override this.\n",
            "INFO:fbprophet:Disabling weekly seasonality. Run prophet with weekly_seasonality=True to override this.\n",
            "INFO:fbprophet:Disabling daily seasonality. Run prophet with daily_seasonality=True to override this.\n",
            "INFO:fbprophet:n_changepoints greater than number of observations. Using 7.\n"
          ]
        },
        {
          "output_type": "stream",
          "name": "stdout",
          "text": [
            "Model Number: 790 with model FBProphet in generation 10 of 10\n",
            "Template Eval Error: ImportError(\"cannot import name 'STL' from 'statsmodels.tsa.seasonal' (/usr/local/lib/python3.7/dist-packages/statsmodels/tsa/seasonal.py)\") in model 790: FBProphet\n",
            "Model Number: 791 with model FBProphet in generation 10 of 10\n",
            "Model Number: 792 with model MultivariateRegression in generation 10 of 10\n",
            "Model Number: 793 with model MultivariateRegression in generation 10 of 10\n",
            "Template Eval Error: ValueError('Model MultivariateRegression returned NaN for one or more series') in model 793: MultivariateRegression\n",
            "Model Number: 794 with model MultivariateRegression in generation 10 of 10\n"
          ]
        },
        {
          "output_type": "stream",
          "name": "stderr",
          "text": [
            "/usr/local/lib/python3.7/dist-packages/sklearn/neighbors/_regression.py:362: UserWarning:\n",
            "\n",
            "One or more samples have no neighbors within specified radius; predicting NaN.\n",
            "\n",
            "/usr/local/lib/python3.7/dist-packages/sklearn/neighbors/_regression.py:362: UserWarning:\n",
            "\n",
            "One or more samples have no neighbors within specified radius; predicting NaN.\n",
            "\n",
            "/usr/local/lib/python3.7/dist-packages/sklearn/neighbors/_regression.py:362: UserWarning:\n",
            "\n",
            "One or more samples have no neighbors within specified radius; predicting NaN.\n",
            "\n",
            "/usr/local/lib/python3.7/dist-packages/sklearn/neighbors/_regression.py:362: UserWarning:\n",
            "\n",
            "One or more samples have no neighbors within specified radius; predicting NaN.\n",
            "\n"
          ]
        },
        {
          "output_type": "stream",
          "name": "stdout",
          "text": [
            "Model Number: 795 with model MultivariateRegression in generation 10 of 10\n",
            "Model Number: 796 with model NVAR in generation 10 of 10\n",
            "Model Number: 797 with model NVAR in generation 10 of 10\n",
            "Model Number: 798 with model NVAR in generation 10 of 10\n",
            "Model Number: 799 with model NVAR in generation 10 of 10\n",
            "Model Number: 800 with model RollingRegression in generation 10 of 10\n",
            "Template Eval Error: ValueError(\"Input contains NaN, infinity or a value too large for dtype('float64').\") in model 800: RollingRegression\n",
            "Model Number: 801 with model RollingRegression in generation 10 of 10\n",
            "Template Eval Error: ValueError(\"Input contains NaN, infinity or a value too large for dtype('float64').\") in model 801: RollingRegression\n",
            "Model Number: 802 with model RollingRegression in generation 10 of 10\n",
            "Template Eval Error: ValueError(\"Input contains NaN, infinity or a value too large for dtype('float64').\") in model 802: RollingRegression\n",
            "Model Number: 803 with model RollingRegression in generation 10 of 10\n",
            "Epoch 1/50\n",
            "1/1 [==============================] - 5s 5s/step - loss: nan\n",
            "Epoch 2/50\n",
            "1/1 [==============================] - 0s 13ms/step - loss: nan\n",
            "Epoch 3/50\n",
            "1/1 [==============================] - 0s 13ms/step - loss: nan\n",
            "Epoch 4/50\n",
            "1/1 [==============================] - 0s 13ms/step - loss: nan\n",
            "Epoch 5/50\n",
            "1/1 [==============================] - 0s 10ms/step - loss: nan\n",
            "Epoch 6/50\n",
            "1/1 [==============================] - 0s 13ms/step - loss: nan\n",
            "Epoch 7/50\n",
            "1/1 [==============================] - 0s 10ms/step - loss: nan\n",
            "Epoch 8/50\n",
            "1/1 [==============================] - 0s 17ms/step - loss: nan\n",
            "Epoch 9/50\n",
            "1/1 [==============================] - 0s 13ms/step - loss: nan\n",
            "Epoch 10/50\n",
            "1/1 [==============================] - 0s 12ms/step - loss: nan\n",
            "Epoch 11/50\n",
            "1/1 [==============================] - 0s 11ms/step - loss: nan\n",
            "Epoch 12/50\n",
            "1/1 [==============================] - 0s 14ms/step - loss: nan\n",
            "Epoch 13/50\n",
            "1/1 [==============================] - 0s 14ms/step - loss: nan\n",
            "Epoch 14/50\n",
            "1/1 [==============================] - 0s 13ms/step - loss: nan\n",
            "Epoch 15/50\n",
            "1/1 [==============================] - 0s 11ms/step - loss: nan\n",
            "Epoch 16/50\n",
            "1/1 [==============================] - 0s 22ms/step - loss: nan\n",
            "Epoch 17/50\n",
            "1/1 [==============================] - 0s 22ms/step - loss: nan\n",
            "Epoch 18/50\n",
            "1/1 [==============================] - 0s 24ms/step - loss: nan\n",
            "Epoch 19/50\n",
            "1/1 [==============================] - 0s 19ms/step - loss: nan\n",
            "Epoch 20/50\n",
            "1/1 [==============================] - 0s 19ms/step - loss: nan\n",
            "Epoch 21/50\n",
            "1/1 [==============================] - 0s 22ms/step - loss: nan\n",
            "Epoch 22/50\n",
            "1/1 [==============================] - 0s 15ms/step - loss: nan\n",
            "Epoch 23/50\n",
            "1/1 [==============================] - 0s 17ms/step - loss: nan\n",
            "Epoch 24/50\n",
            "1/1 [==============================] - 0s 13ms/step - loss: nan\n",
            "Epoch 25/50\n",
            "1/1 [==============================] - 0s 12ms/step - loss: nan\n",
            "Epoch 26/50\n",
            "1/1 [==============================] - 0s 21ms/step - loss: nan\n",
            "Epoch 27/50\n",
            "1/1 [==============================] - 0s 11ms/step - loss: nan\n",
            "Epoch 28/50\n",
            "1/1 [==============================] - 0s 16ms/step - loss: nan\n",
            "Epoch 29/50\n",
            "1/1 [==============================] - 0s 14ms/step - loss: nan\n",
            "Epoch 30/50\n",
            "1/1 [==============================] - 0s 10ms/step - loss: nan\n",
            "Epoch 31/50\n",
            "1/1 [==============================] - 0s 14ms/step - loss: nan\n",
            "Epoch 32/50\n",
            "1/1 [==============================] - 0s 11ms/step - loss: nan\n",
            "Epoch 33/50\n",
            "1/1 [==============================] - 0s 12ms/step - loss: nan\n",
            "Epoch 34/50\n",
            "1/1 [==============================] - 0s 16ms/step - loss: nan\n",
            "Epoch 35/50\n",
            "1/1 [==============================] - 0s 14ms/step - loss: nan\n",
            "Epoch 36/50\n",
            "1/1 [==============================] - 0s 17ms/step - loss: nan\n",
            "Epoch 37/50\n",
            "1/1 [==============================] - 0s 11ms/step - loss: nan\n",
            "Epoch 38/50\n",
            "1/1 [==============================] - 0s 13ms/step - loss: nan\n",
            "Epoch 39/50\n",
            "1/1 [==============================] - 0s 15ms/step - loss: nan\n",
            "Epoch 40/50\n",
            "1/1 [==============================] - 0s 11ms/step - loss: nan\n",
            "Epoch 41/50\n",
            "1/1 [==============================] - 0s 14ms/step - loss: nan\n",
            "Epoch 42/50\n",
            "1/1 [==============================] - 0s 11ms/step - loss: nan\n",
            "Epoch 43/50\n",
            "1/1 [==============================] - 0s 13ms/step - loss: nan\n",
            "Epoch 44/50\n",
            "1/1 [==============================] - 0s 14ms/step - loss: nan\n",
            "Epoch 45/50\n",
            "1/1 [==============================] - 0s 11ms/step - loss: nan\n",
            "Epoch 46/50\n",
            "1/1 [==============================] - 0s 14ms/step - loss: nan\n",
            "Epoch 47/50\n",
            "1/1 [==============================] - 0s 17ms/step - loss: nan\n",
            "Epoch 48/50\n",
            "1/1 [==============================] - 0s 11ms/step - loss: nan\n",
            "Epoch 49/50\n",
            "1/1 [==============================] - 0s 11ms/step - loss: nan\n",
            "Epoch 50/50\n",
            "1/1 [==============================] - 0s 12ms/step - loss: nan\n",
            "Template Eval Error: ValueError('Model RollingRegression returned NaN for one or more series') in model 803: RollingRegression\n",
            "Model Number: 804 with model SeasonalNaive in generation 10 of 10\n",
            "Model Number: 805 with model SeasonalNaive in generation 10 of 10\n",
            "Model Number: 806 with model SeasonalNaive in generation 10 of 10\n",
            "Model Number: 807 with model SeasonalNaive in generation 10 of 10\n",
            "Template Eval Error: ImportError(\"cannot import name 'STL' from 'statsmodels.tsa.seasonal' (/usr/local/lib/python3.7/dist-packages/statsmodels/tsa/seasonal.py)\") in model 807: SeasonalNaive\n",
            "Model Number: 808 with model UnobservedComponents in generation 10 of 10\n",
            "Model Number: 809 with model UnobservedComponents in generation 10 of 10\n",
            "Model Number: 810 with model UnobservedComponents in generation 10 of 10\n",
            "Model Number: 811 with model LastValueNaive in generation 10 of 10\n",
            "Model Number: 812 with model GLM in generation 10 of 10\n",
            "Model Number: 813 with model GLM in generation 10 of 10\n",
            "Model Number: 814 with model GLM in generation 10 of 10\n",
            "Model Number: 815 with model GLM in generation 10 of 10\n",
            "Model Number: 816 with model GLS in generation 10 of 10\n",
            "Model Number: 817 with model GLS in generation 10 of 10\n"
          ]
        },
        {
          "output_type": "stream",
          "name": "stderr",
          "text": [
            "/usr/local/lib/python3.7/dist-packages/statsmodels/genmod/generalized_linear_model.py:273: DomainWarning:\n",
            "\n",
            "The inverse_power link function does not respect the domain of the Gamma family.\n",
            "\n"
          ]
        },
        {
          "output_type": "stream",
          "name": "stdout",
          "text": [
            "Model Number: 818 with model GLS in generation 10 of 10\n",
            "Model Number: 819 with model WindowRegression in generation 10 of 10\n",
            "Template Eval Error: ValueError('Found array with 0 sample(s) (shape=(0, 0)) while a minimum of 1 is required.') in model 819: WindowRegression\n",
            "Model Number: 820 with model WindowRegression in generation 10 of 10\n",
            "Template Eval Error: ValueError(\"WindowRegression regression_type='user' requires numpy >= 1.20\") in model 820: WindowRegression\n",
            "Model Number: 821 with model WindowRegression in generation 10 of 10\n",
            "Model Number: 822 with model ZeroesNaive in generation 10 of 10\n",
            "Model Number: 823 with model ZeroesNaive in generation 10 of 10\n",
            "Model Number: 824 with model ZeroesNaive in generation 10 of 10\n",
            "Model Number: 825 with model Ensemble in generation 11 of 0\n",
            "Model Number: 826 with model Ensemble in generation 11 of 0\n"
          ]
        },
        {
          "output_type": "stream",
          "name": "stderr",
          "text": [
            "/usr/local/lib/python3.7/dist-packages/statsmodels/tsa/holtwinters.py:712: ConvergenceWarning:\n",
            "\n",
            "Optimization failed to converge. Check mle_retvals.\n",
            "\n"
          ]
        },
        {
          "output_type": "stream",
          "name": "stdout",
          "text": [
            "Model Number: 827 with model Ensemble in generation 11 of 0\n"
          ]
        },
        {
          "output_type": "stream",
          "name": "stderr",
          "text": [
            "/usr/local/lib/python3.7/dist-packages/statsmodels/tsa/holtwinters.py:712: ConvergenceWarning:\n",
            "\n",
            "Optimization failed to converge. Check mle_retvals.\n",
            "\n"
          ]
        },
        {
          "output_type": "stream",
          "name": "stdout",
          "text": [
            "Validation Round: 1\n",
            "Model Number: 1 of 113 with model Ensemble for Validation 1\n"
          ]
        },
        {
          "output_type": "stream",
          "name": "stderr",
          "text": [
            "/usr/local/lib/python3.7/dist-packages/statsmodels/tsa/holtwinters.py:712: ConvergenceWarning:\n",
            "\n",
            "Optimization failed to converge. Check mle_retvals.\n",
            "\n"
          ]
        },
        {
          "output_type": "stream",
          "name": "stdout",
          "text": [
            "1 - Ensemble with avg smape 37.62: \n",
            "Model Number: 2 of 113 with model Ensemble for Validation 1\n"
          ]
        },
        {
          "output_type": "stream",
          "name": "stderr",
          "text": [
            "/usr/local/lib/python3.7/dist-packages/statsmodels/tsa/holtwinters.py:712: ConvergenceWarning:\n",
            "\n",
            "Optimization failed to converge. Check mle_retvals.\n",
            "\n"
          ]
        },
        {
          "output_type": "stream",
          "name": "stdout",
          "text": [
            "2 - Ensemble with avg smape 37.62: \n",
            "Model Number: 3 of 113 with model DatepartRegression for Validation 1\n",
            "3 - DatepartRegression with avg smape 41.71: \n",
            "Model Number: 4 of 113 with model AverageValueNaive for Validation 1\n",
            "4 - AverageValueNaive with avg smape 29.88: \n",
            "Model Number: 5 of 113 with model ETS for Validation 1\n",
            "5 - ETS with avg smape 84.51: \n",
            "Model Number: 6 of 113 with model Ensemble for Validation 1\n"
          ]
        },
        {
          "output_type": "stream",
          "name": "stderr",
          "text": [
            "/usr/local/lib/python3.7/dist-packages/statsmodels/tsa/holtwinters.py:712: ConvergenceWarning:\n",
            "\n",
            "Optimization failed to converge. Check mle_retvals.\n",
            "\n"
          ]
        },
        {
          "output_type": "stream",
          "name": "stdout",
          "text": [
            "6 - Ensemble with avg smape 33.64: \n",
            "Model Number: 7 of 113 with model DatepartRegression for Validation 1\n",
            "7 - DatepartRegression with avg smape 33.69: \n",
            "Model Number: 8 of 113 with model ETS for Validation 1\n",
            "8 - ETS with avg smape 56.38: \n",
            "Model Number: 9 of 113 with model FBProphet for Validation 1\n"
          ]
        },
        {
          "output_type": "stream",
          "name": "stderr",
          "text": [
            "INFO:fbprophet:Disabling yearly seasonality. Run prophet with yearly_seasonality=True to override this.\n",
            "INFO:fbprophet:Disabling weekly seasonality. Run prophet with weekly_seasonality=True to override this.\n",
            "INFO:fbprophet:Disabling daily seasonality. Run prophet with daily_seasonality=True to override this.\n",
            "INFO:fbprophet:n_changepoints greater than number of observations. Using 4.\n",
            "INFO:fbprophet:Disabling yearly seasonality. Run prophet with yearly_seasonality=True to override this.\n",
            "INFO:fbprophet:Disabling weekly seasonality. Run prophet with weekly_seasonality=True to override this.\n",
            "INFO:fbprophet:Disabling daily seasonality. Run prophet with daily_seasonality=True to override this.\n",
            "INFO:fbprophet:n_changepoints greater than number of observations. Using 4.\n"
          ]
        },
        {
          "output_type": "stream",
          "name": "stdout",
          "text": [
            "9 - FBProphet with avg smape 43.3: \n",
            "Model Number: 10 of 113 with model FBProphet for Validation 1\n"
          ]
        },
        {
          "output_type": "stream",
          "name": "stderr",
          "text": [
            "INFO:fbprophet:Disabling yearly seasonality. Run prophet with yearly_seasonality=True to override this.\n",
            "INFO:fbprophet:Disabling weekly seasonality. Run prophet with weekly_seasonality=True to override this.\n",
            "INFO:fbprophet:Disabling daily seasonality. Run prophet with daily_seasonality=True to override this.\n",
            "INFO:fbprophet:n_changepoints greater than number of observations. Using 4.\n"
          ]
        },
        {
          "output_type": "stream",
          "name": "stdout",
          "text": [
            "10 - FBProphet with avg smape 43.3: \n",
            "Model Number: 11 of 113 with model FBProphet for Validation 1\n",
            "11 - FBProphet with avg smape 43.3: \n",
            "Model Number: 12 of 113 with model DatepartRegression for Validation 1\n",
            "12 - DatepartRegression with avg smape 43.07: \n",
            "Model Number: 13 of 113 with model MultivariateRegression for Validation 1\n",
            "13 - MultivariateRegression with avg smape 56.84: \n",
            "Model Number: 14 of 113 with model MultivariateRegression for Validation 1\n",
            "14 - MultivariateRegression with avg smape 63.89: \n",
            "Model Number: 15 of 113 with model ETS for Validation 1\n"
          ]
        },
        {
          "output_type": "stream",
          "name": "stderr",
          "text": [
            "INFO:fbprophet:Disabling yearly seasonality. Run prophet with yearly_seasonality=True to override this.\n",
            "INFO:fbprophet:Disabling weekly seasonality. Run prophet with weekly_seasonality=True to override this.\n",
            "INFO:fbprophet:Disabling daily seasonality. Run prophet with daily_seasonality=True to override this.\n"
          ]
        },
        {
          "output_type": "stream",
          "name": "stdout",
          "text": [
            "15 - ETS with avg smape 64.72: \n",
            "Model Number: 16 of 113 with model FBProphet for Validation 1\n"
          ]
        },
        {
          "output_type": "stream",
          "name": "stderr",
          "text": [
            "INFO:fbprophet:n_changepoints greater than number of observations. Using 4.\n",
            "INFO:fbprophet:Disabling yearly seasonality. Run prophet with yearly_seasonality=True to override this.\n",
            "INFO:fbprophet:Disabling weekly seasonality. Run prophet with weekly_seasonality=True to override this.\n",
            "INFO:fbprophet:Disabling daily seasonality. Run prophet with daily_seasonality=True to override this.\n",
            "INFO:fbprophet:n_changepoints greater than number of observations. Using 4.\n"
          ]
        },
        {
          "output_type": "stream",
          "name": "stdout",
          "text": [
            "16 - FBProphet with avg smape 43.07: \n",
            "Model Number: 17 of 113 with model FBProphet for Validation 1\n"
          ]
        },
        {
          "output_type": "stream",
          "name": "stderr",
          "text": [
            "INFO:fbprophet:Disabling yearly seasonality. Run prophet with yearly_seasonality=True to override this.\n",
            "INFO:fbprophet:Disabling weekly seasonality. Run prophet with weekly_seasonality=True to override this.\n",
            "INFO:fbprophet:Disabling daily seasonality. Run prophet with daily_seasonality=True to override this.\n",
            "INFO:fbprophet:n_changepoints greater than number of observations. Using 4.\n"
          ]
        },
        {
          "output_type": "stream",
          "name": "stdout",
          "text": [
            "17 - FBProphet with avg smape 43.07: \n",
            "Model Number: 18 of 113 with model FBProphet for Validation 1\n"
          ]
        },
        {
          "output_type": "stream",
          "name": "stderr",
          "text": [
            "INFO:fbprophet:Disabling yearly seasonality. Run prophet with yearly_seasonality=True to override this.\n",
            "INFO:fbprophet:Disabling weekly seasonality. Run prophet with weekly_seasonality=True to override this.\n",
            "INFO:fbprophet:Disabling daily seasonality. Run prophet with daily_seasonality=True to override this.\n",
            "INFO:fbprophet:n_changepoints greater than number of observations. Using 4.\n"
          ]
        },
        {
          "output_type": "stream",
          "name": "stdout",
          "text": [
            "18 - FBProphet with avg smape 43.07: \n",
            "Model Number: 19 of 113 with model FBProphet for Validation 1\n"
          ]
        },
        {
          "output_type": "stream",
          "name": "stderr",
          "text": [
            "INFO:fbprophet:Disabling yearly seasonality. Run prophet with yearly_seasonality=True to override this.\n",
            "INFO:fbprophet:Disabling weekly seasonality. Run prophet with weekly_seasonality=True to override this.\n",
            "INFO:fbprophet:Disabling daily seasonality. Run prophet with daily_seasonality=True to override this.\n",
            "INFO:fbprophet:n_changepoints greater than number of observations. Using 4.\n"
          ]
        },
        {
          "output_type": "stream",
          "name": "stdout",
          "text": [
            "19 - FBProphet with avg smape 43.07: \n",
            "Model Number: 20 of 113 with model FBProphet for Validation 1\n",
            "20 - FBProphet with avg smape 43.07: \n",
            "Model Number: 21 of 113 with model NVAR for Validation 1\n",
            "21 - NVAR with avg smape 98.92: \n",
            "Model Number: 22 of 113 with model NVAR for Validation 1\n",
            "22 - NVAR with avg smape 98.9: \n",
            "Model Number: 23 of 113 with model NVAR for Validation 1\n",
            "23 - NVAR with avg smape 98.9: \n",
            "Model Number: 24 of 113 with model DatepartRegression for Validation 1\n",
            "24 - DatepartRegression with avg smape 57.96: \n",
            "Model Number: 25 of 113 with model RollingRegression for Validation 1\n"
          ]
        },
        {
          "output_type": "stream",
          "name": "stderr",
          "text": [
            "/usr/local/lib/python3.7/dist-packages/sklearn/svm/_base.py:947: ConvergenceWarning:\n",
            "\n",
            "Liblinear failed to converge, increase the number of iterations.\n",
            "\n",
            "/usr/local/lib/python3.7/dist-packages/sklearn/neural_network/_multilayer_perceptron.py:1342: DataConversionWarning:\n",
            "\n",
            "A column-vector y was passed when a 1d array was expected. Please change the shape of y to (n_samples, ), for example using ravel().\n",
            "\n"
          ]
        },
        {
          "output_type": "stream",
          "name": "stdout",
          "text": [
            "25 - RollingRegression with avg smape 43.07: \n",
            "Model Number: 26 of 113 with model SeasonalNaive for Validation 1\n",
            "26 - SeasonalNaive with avg smape 34.0: \n",
            "Model Number: 27 of 113 with model MultivariateRegression for Validation 1\n",
            "27 - MultivariateRegression with avg smape 64.58: \n",
            "Model Number: 28 of 113 with model ETS for Validation 1\n",
            "28 - ETS with avg smape 34.97: \n",
            "Model Number: 29 of 113 with model ETS for Validation 1\n",
            "29 - ETS with avg smape 34.97: \n",
            "Model Number: 30 of 113 with model SeasonalNaive for Validation 1\n",
            "30 - SeasonalNaive with avg smape 33.54: \n",
            "Model Number: 31 of 113 with model DatepartRegression for Validation 1\n",
            "31 - DatepartRegression with avg smape 52.86: \n",
            "Model Number: 32 of 113 with model NVAR for Validation 1\n",
            "32 - NVAR with avg smape 200.0: \n",
            "Model Number: 33 of 113 with model NVAR for Validation 1\n",
            "33 - NVAR with avg smape 200.0: \n",
            "Model Number: 34 of 113 with model NVAR for Validation 1\n",
            "34 - NVAR with avg smape 200.0: \n",
            "Model Number: 35 of 113 with model UnobservedComponents for Validation 1\n",
            "35 - UnobservedComponents with avg smape 33.69: \n",
            "Model Number: 36 of 113 with model UnobservedComponents for Validation 1\n",
            "36 - UnobservedComponents with avg smape 33.69: \n",
            "Model Number: 37 of 113 with model UnobservedComponents for Validation 1\n",
            "37 - UnobservedComponents with avg smape 33.69: \n",
            "Model Number: 38 of 113 with model UnobservedComponents for Validation 1\n",
            "38 - UnobservedComponents with avg smape 33.69: \n",
            "Model Number: 39 of 113 with model UnobservedComponents for Validation 1\n",
            "39 - UnobservedComponents with avg smape 33.69: \n",
            "Model Number: 40 of 113 with model UnobservedComponents for Validation 1\n",
            "40 - UnobservedComponents with avg smape 33.69: \n",
            "Model Number: 41 of 113 with model MultivariateRegression for Validation 1\n",
            "41 - MultivariateRegression with avg smape 64.98: \n",
            "Model Number: 42 of 113 with model AverageValueNaive for Validation 1\n",
            "42 - AverageValueNaive with avg smape 35.43: \n",
            "Model Number: 43 of 113 with model SeasonalNaive for Validation 1\n",
            "43 - SeasonalNaive with avg smape 154.57: \n",
            "Model Number: 44 of 113 with model GLM for Validation 1\n",
            "44 - GLM with avg smape 37.46: \n",
            "Model Number: 45 of 113 with model GLM for Validation 1\n",
            "45 - GLM with avg smape 37.46: \n",
            "Model Number: 46 of 113 with model GLM for Validation 1\n",
            "46 - GLM with avg smape 37.46: \n",
            "Model Number: 47 of 113 with model AverageValueNaive for Validation 1\n",
            "47 - AverageValueNaive with avg smape 29.79: \n",
            "Model Number: 48 of 113 with model LastValueNaive for Validation 1\n",
            "48 - LastValueNaive with avg smape 31.18: \n",
            "Model Number: 49 of 113 with model AverageValueNaive for Validation 1\n",
            "49 - AverageValueNaive with avg smape 29.41: \n",
            "Model Number: 50 of 113 with model AverageValueNaive for Validation 1\n",
            "50 - AverageValueNaive with avg smape 29.41: \n",
            "Model Number: 51 of 113 with model GLS for Validation 1\n",
            "51 - GLS with avg smape 157.2: \n",
            "Model Number: 52 of 113 with model GLM for Validation 1\n",
            "52 - GLM with avg smape 37.04: \n",
            "Model Number: 53 of 113 with model NVAR for Validation 1\n",
            "53 - NVAR with avg smape 97.16: \n",
            "Model Number: 54 of 113 with model GLM for Validation 1\n",
            "54 - GLM with avg smape 32.16: \n",
            "Model Number: 55 of 113 with model GLS for Validation 1\n",
            "55 - GLS with avg smape 157.82: \n",
            "Model Number: 56 of 113 with model GLS for Validation 1\n",
            "56 - GLS with avg smape 157.82: \n",
            "Model Number: 57 of 113 with model LastValueNaive for Validation 1\n",
            "57 - LastValueNaive with avg smape 37.66: \n",
            "Model Number: 58 of 113 with model GLS for Validation 1\n",
            "58 - GLS with avg smape 156.87: \n",
            "Model Number: 59 of 113 with model GLS for Validation 1\n",
            "59 - GLS with avg smape 188.66: \n",
            "Model Number: 60 of 113 with model GLM for Validation 1\n",
            "60 - GLM with avg smape 36.51: \n",
            "Model Number: 61 of 113 with model ETS for Validation 1\n",
            "61 - ETS with avg smape 29.41: \n",
            "Model Number: 62 of 113 with model ETS for Validation 1\n",
            "62 - ETS with avg smape 29.41: \n",
            "Model Number: 63 of 113 with model GLS for Validation 1\n",
            "63 - GLS with avg smape 158.07: \n",
            "Model Number: 64 of 113 with model SeasonalNaive for Validation 1\n",
            "64 - SeasonalNaive with avg smape 154.33: \n",
            "Model Number: 65 of 113 with model SeasonalNaive for Validation 1\n",
            "65 - SeasonalNaive with avg smape 154.33: \n",
            "Model Number: 66 of 113 with model ETS for Validation 1\n",
            "66 - ETS with avg smape 38.37: \n",
            "Model Number: 67 of 113 with model GLM for Validation 1\n",
            "67 - GLM with avg smape 64.54: \n",
            "Model Number: 68 of 113 with model GLM for Validation 1\n",
            "68 - GLM with avg smape 95.31: \n",
            "Model Number: 69 of 113 with model SeasonalNaive for Validation 1\n",
            "69 - SeasonalNaive with avg smape 43.07: \n",
            "Model Number: 70 of 113 with model GLS for Validation 1\n",
            "70 - GLS with avg smape 23.67: \n",
            "Model Number: 71 of 113 with model GLS for Validation 1\n",
            "71 - GLS with avg smape 23.67: \n",
            "Model Number: 72 of 113 with model SeasonalNaive for Validation 1\n",
            "72 - SeasonalNaive with avg smape 65.02: \n",
            "Model Number: 73 of 113 with model RollingRegression for Validation 1\n"
          ]
        },
        {
          "output_type": "stream",
          "name": "stderr",
          "text": [
            "/usr/local/lib/python3.7/dist-packages/sklearn/neural_network/_multilayer_perceptron.py:1342: DataConversionWarning:\n",
            "\n",
            "A column-vector y was passed when a 1d array was expected. Please change the shape of y to (n_samples, ), for example using ravel().\n",
            "\n"
          ]
        },
        {
          "output_type": "stream",
          "name": "stdout",
          "text": [
            "73 - RollingRegression with avg smape 51.27: \n",
            "Model Number: 74 of 113 with model SeasonalNaive for Validation 1\n",
            "74 - SeasonalNaive with avg smape 43.5: \n",
            "Model Number: 75 of 113 with model AverageValueNaive for Validation 1\n",
            "75 - AverageValueNaive with avg smape 43.07: \n",
            "Model Number: 76 of 113 with model AverageValueNaive for Validation 1\n",
            "76 - AverageValueNaive with avg smape 43.07: \n",
            "Model Number: 77 of 113 with model AverageValueNaive for Validation 1\n",
            "77 - AverageValueNaive with avg smape 43.07: \n",
            "Model Number: 78 of 113 with model RollingRegression for Validation 1\n",
            "78 - RollingRegression with avg smape 69.18: \n",
            "Model Number: 79 of 113 with model WindowRegression for Validation 1\n"
          ]
        },
        {
          "output_type": "stream",
          "name": "stderr",
          "text": [
            "/usr/local/lib/python3.7/dist-packages/sklearn/utils/validation.py:760: DataConversionWarning:\n",
            "\n",
            "A column-vector y was passed when a 1d array was expected. Please change the shape of y to (n_samples, ), for example using ravel().\n",
            "\n"
          ]
        },
        {
          "output_type": "stream",
          "name": "stdout",
          "text": [
            "Epoch 1/100\n",
            "1/1 [==============================] - 6s 6s/step - loss: 1.2137 - val_loss: 0.7975\n",
            "Epoch 2/100\n",
            "1/1 [==============================] - 0s 37ms/step - loss: 0.9073 - val_loss: 0.6802\n",
            "Epoch 3/100\n",
            "1/1 [==============================] - 0s 41ms/step - loss: 0.8601 - val_loss: 0.5836\n",
            "Epoch 4/100\n",
            "1/1 [==============================] - 0s 35ms/step - loss: 0.4032 - val_loss: 0.4769\n",
            "Epoch 5/100\n",
            "1/1 [==============================] - 0s 38ms/step - loss: 0.4180 - val_loss: 0.3884\n",
            "Epoch 6/100\n",
            "1/1 [==============================] - 0s 46ms/step - loss: 0.3287 - val_loss: 0.2829\n",
            "Epoch 7/100\n",
            "1/1 [==============================] - 0s 46ms/step - loss: 0.1759 - val_loss: 0.1956\n",
            "Epoch 8/100\n",
            "1/1 [==============================] - 0s 46ms/step - loss: 0.2555 - val_loss: 0.1083\n",
            "Epoch 9/100\n",
            "1/1 [==============================] - 0s 44ms/step - loss: 0.0209 - val_loss: 0.0223\n",
            "Epoch 10/100\n",
            "1/1 [==============================] - 0s 41ms/step - loss: 0.0114 - val_loss: 0.0729\n",
            "Epoch 11/100\n",
            "1/1 [==============================] - 0s 39ms/step - loss: 0.0216 - val_loss: 0.0175\n",
            "Epoch 12/100\n",
            "1/1 [==============================] - 0s 38ms/step - loss: 0.1823 - val_loss: 0.0557\n",
            "Epoch 13/100\n",
            "1/1 [==============================] - 0s 46ms/step - loss: 0.0576 - val_loss: 0.1307\n",
            "Epoch 14/100\n",
            "1/1 [==============================] - 0s 70ms/step - loss: 0.2649 - val_loss: 0.0448\n",
            "Epoch 15/100\n",
            "1/1 [==============================] - 0s 41ms/step - loss: 0.1785 - val_loss: 0.0267\n",
            "Epoch 16/100\n",
            "1/1 [==============================] - 0s 41ms/step - loss: 0.0338 - val_loss: 0.0443\n",
            "Epoch 17/100\n",
            "1/1 [==============================] - 0s 44ms/step - loss: 0.1023 - val_loss: 0.1021\n",
            "Epoch 18/100\n",
            "1/1 [==============================] - 0s 47ms/step - loss: 0.0019 - val_loss: 0.0320\n",
            "Epoch 19/100\n",
            "1/1 [==============================] - 0s 53ms/step - loss: 0.0515 - val_loss: 0.0333\n",
            "Epoch 20/100\n",
            "1/1 [==============================] - 0s 44ms/step - loss: 0.2910 - val_loss: 0.0301\n",
            "Epoch 21/100\n",
            "1/1 [==============================] - 0s 47ms/step - loss: 0.3051 - val_loss: 0.0974\n",
            "79 - WindowRegression with avg smape 168.62: \n",
            "Model Number: 80 of 113 with model MultivariateRegression for Validation 1\n",
            "80 - MultivariateRegression with avg smape 166.41: \n",
            "Model Number: 81 of 113 with model RollingRegression for Validation 1\n",
            "81 - RollingRegression with avg smape 42.6: \n",
            "Model Number: 82 of 113 with model UnobservedComponents for Validation 1\n",
            "82 - UnobservedComponents with avg smape 92.17: \n",
            "Model Number: 83 of 113 with model UnobservedComponents for Validation 1\n",
            "83 - UnobservedComponents with avg smape 92.17: \n",
            "Model Number: 84 of 113 with model RollingRegression for Validation 1\n",
            "84 - RollingRegression with avg smape 34.6: \n",
            "Model Number: 85 of 113 with model LastValueNaive for Validation 1\n",
            "85 - LastValueNaive with avg smape 68.15: \n",
            "Model Number: 86 of 113 with model NVAR for Validation 1\n"
          ]
        },
        {
          "output_type": "stream",
          "name": "stderr",
          "text": [
            "/usr/local/lib/python3.7/dist-packages/sklearn/neural_network/_multilayer_perceptron.py:1342: DataConversionWarning:\n",
            "\n",
            "A column-vector y was passed when a 1d array was expected. Please change the shape of y to (n_samples, ), for example using ravel().\n",
            "\n"
          ]
        },
        {
          "output_type": "stream",
          "name": "stdout",
          "text": [
            "86 - NVAR with avg smape 154.64: \n",
            "Model Number: 87 of 113 with model DatepartRegression for Validation 1\n",
            "87 - DatepartRegression with avg smape 43.07: \n",
            "Model Number: 88 of 113 with model DatepartRegression for Validation 1\n",
            "88 - DatepartRegression with avg smape 44.98: \n",
            "Model Number: 89 of 113 with model MultivariateRegression for Validation 1\n",
            "Template Eval Error: ValueError('Model MultivariateRegression returned NaN for one or more series') in model 89: MultivariateRegression\n",
            "Model Number: 90 of 113 with model ZeroesNaive for Validation 1\n",
            "90 - ZeroesNaive with avg smape 73.01: \n"
          ]
        },
        {
          "output_type": "stream",
          "name": "stderr",
          "text": [
            "/usr/local/lib/python3.7/dist-packages/sklearn/neighbors/_regression.py:362: UserWarning:\n",
            "\n",
            "One or more samples have no neighbors within specified radius; predicting NaN.\n",
            "\n",
            "/usr/local/lib/python3.7/dist-packages/sklearn/neighbors/_regression.py:362: UserWarning:\n",
            "\n",
            "One or more samples have no neighbors within specified radius; predicting NaN.\n",
            "\n",
            "/usr/local/lib/python3.7/dist-packages/sklearn/neighbors/_regression.py:362: UserWarning:\n",
            "\n",
            "One or more samples have no neighbors within specified radius; predicting NaN.\n",
            "\n",
            "/usr/local/lib/python3.7/dist-packages/sklearn/neighbors/_regression.py:362: UserWarning:\n",
            "\n",
            "One or more samples have no neighbors within specified radius; predicting NaN.\n",
            "\n",
            "/usr/local/lib/python3.7/dist-packages/sklearn/neighbors/_regression.py:362: UserWarning:\n",
            "\n",
            "One or more samples have no neighbors within specified radius; predicting NaN.\n",
            "\n"
          ]
        },
        {
          "output_type": "stream",
          "name": "stdout",
          "text": [
            "Model Number: 91 of 113 with model DatepartRegression for Validation 1\n",
            "Template Eval Error: ValueError('Model DatepartRegression returned NaN for one or more series') in model 91: DatepartRegression\n",
            "Model Number: 92 of 113 with model LastValueNaive for Validation 1\n",
            "92 - LastValueNaive with avg smape 165.25: \n",
            "Model Number: 93 of 113 with model LastValueNaive for Validation 1\n",
            "93 - LastValueNaive with avg smape 165.25: \n",
            "Model Number: 94 of 113 with model MultivariateRegression for Validation 1\n",
            "94 - MultivariateRegression with avg smape 43.07: \n",
            "Model Number: 95 of 113 with model MultivariateRegression for Validation 1\n",
            "95 - MultivariateRegression with avg smape 162.41: \n",
            "Model Number: 96 of 113 with model LastValueNaive for Validation 1\n",
            "96 - LastValueNaive with avg smape 71.12: \n",
            "Model Number: 97 of 113 with model LastValueNaive for Validation 1\n",
            "97 - LastValueNaive with avg smape 52.53: \n",
            "Model Number: 98 of 113 with model LastValueNaive for Validation 1\n",
            "98 - LastValueNaive with avg smape 52.53: \n",
            "Model Number: 99 of 113 with model RollingRegression for Validation 1\n",
            "99 - RollingRegression with avg smape 39.35: \n",
            "Model Number: 100 of 113 with model RollingRegression for Validation 1\n"
          ]
        },
        {
          "output_type": "stream",
          "name": "stderr",
          "text": [
            "/usr/local/lib/python3.7/dist-packages/sklearn/neural_network/_multilayer_perceptron.py:1342: DataConversionWarning:\n",
            "\n",
            "A column-vector y was passed when a 1d array was expected. Please change the shape of y to (n_samples, ), for example using ravel().\n",
            "\n",
            "/usr/local/lib/python3.7/dist-packages/sklearn/neural_network/_multilayer_perceptron.py:1342: DataConversionWarning:\n",
            "\n",
            "A column-vector y was passed when a 1d array was expected. Please change the shape of y to (n_samples, ), for example using ravel().\n",
            "\n"
          ]
        },
        {
          "output_type": "stream",
          "name": "stdout",
          "text": [
            "100 - RollingRegression with avg smape 46.87: \n",
            "Model Number: 101 of 113 with model RollingRegression for Validation 1\n",
            "101 - RollingRegression with avg smape 47.47: \n",
            "Model Number: 102 of 113 with model ZeroesNaive for Validation 1\n"
          ]
        },
        {
          "output_type": "stream",
          "name": "stderr",
          "text": [
            "/usr/local/lib/python3.7/dist-packages/sklearn/utils/validation.py:760: DataConversionWarning:\n",
            "\n",
            "A column-vector y was passed when a 1d array was expected. Please change the shape of y to (n_samples, ), for example using ravel().\n",
            "\n"
          ]
        },
        {
          "output_type": "stream",
          "name": "stdout",
          "text": [
            "102 - ZeroesNaive with avg smape 43.07: \n",
            "Model Number: 103 of 113 with model ZeroesNaive for Validation 1\n",
            "103 - ZeroesNaive with avg smape 43.07: \n",
            "Model Number: 104 of 113 with model ZeroesNaive for Validation 1\n",
            "104 - ZeroesNaive with avg smape 43.07: \n",
            "Model Number: 105 of 113 with model ZeroesNaive for Validation 1\n",
            "105 - ZeroesNaive with avg smape 43.07: \n",
            "Model Number: 106 of 113 with model ZeroesNaive for Validation 1\n",
            "106 - ZeroesNaive with avg smape 43.07: \n",
            "Model Number: 107 of 113 with model ZeroesNaive for Validation 1\n",
            "107 - ZeroesNaive with avg smape 43.07: \n",
            "Model Number: 108 of 113 with model ZeroesNaive for Validation 1\n",
            "108 - ZeroesNaive with avg smape 43.07: \n",
            "Model Number: 109 of 113 with model WindowRegression for Validation 1\n",
            "Template Eval Error: ValueError('Found array with 0 sample(s) (shape=(0, 0)) while a minimum of 2 is required.') in model 109: WindowRegression\n",
            "Model Number: 110 of 113 with model WindowRegression for Validation 1\n",
            "Template Eval Error: ValueError('Found array with 0 sample(s) (shape=(0, 0)) while a minimum of 1 is required.') in model 110: WindowRegression\n",
            "Model Number: 111 of 113 with model WindowRegression for Validation 1\n",
            "Template Eval Error: ValueError('`min_samples` may not be larger than number of samples: n_samples = 2.') in model 111: WindowRegression\n",
            "Model Number: 112 of 113 with model WindowRegression for Validation 1\n",
            "Template Eval Error: ValueError('Found array with 0 sample(s) (shape=(0, 0)) while a minimum of 1 is required.') in model 112: WindowRegression\n",
            "Model Number: 113 of 113 with model WindowRegression for Validation 1\n",
            "Template Eval Error: ValueError('Found array with 0 sample(s) (shape=(0, 0)) while a minimum of 1 is required.') in model 113: WindowRegression\n",
            "Validation Round: 2\n",
            "Model Number: 1 of 113 with model Ensemble for Validation 2\n",
            "1 - Ensemble with avg smape 154.64: \n",
            "Model Number: 2 of 113 with model Ensemble for Validation 2\n",
            "2 - Ensemble with avg smape 154.64: \n",
            "Model Number: 3 of 113 with model DatepartRegression for Validation 2\n",
            "3 - DatepartRegression with avg smape 120.21: \n",
            "Model Number: 4 of 113 with model AverageValueNaive for Validation 2\n",
            "4 - AverageValueNaive with avg smape 168.07: \n",
            "Model Number: 5 of 113 with model ETS for Validation 2\n",
            "5 - ETS with avg smape 154.66: \n",
            "Model Number: 6 of 113 with model Ensemble for Validation 2\n",
            "6 - Ensemble with avg smape 115.53: \n",
            "Model Number: 7 of 113 with model DatepartRegression for Validation 2\n",
            "Template Eval Error: IndexError('index -1 is out of bounds for axis 0 with size 0') in model 7: DatepartRegression\n",
            "Model Number: 8 of 113 with model ETS for Validation 2\n"
          ]
        },
        {
          "output_type": "stream",
          "name": "stderr",
          "text": [
            "INFO:fbprophet:Disabling yearly seasonality. Run prophet with yearly_seasonality=True to override this.\n",
            "INFO:fbprophet:Disabling weekly seasonality. Run prophet with weekly_seasonality=True to override this.\n",
            "INFO:fbprophet:Disabling daily seasonality. Run prophet with daily_seasonality=True to override this.\n"
          ]
        },
        {
          "output_type": "stream",
          "name": "stdout",
          "text": [
            "8 - ETS with avg smape 117.91: \n",
            "Model Number: 9 of 113 with model FBProphet for Validation 2\n"
          ]
        },
        {
          "output_type": "stream",
          "name": "stderr",
          "text": [
            "INFO:fbprophet:n_changepoints greater than number of observations. Using 1.\n",
            "INFO:fbprophet:Disabling yearly seasonality. Run prophet with yearly_seasonality=True to override this.\n",
            "INFO:fbprophet:Disabling weekly seasonality. Run prophet with weekly_seasonality=True to override this.\n",
            "INFO:fbprophet:Disabling daily seasonality. Run prophet with daily_seasonality=True to override this.\n",
            "INFO:fbprophet:n_changepoints greater than number of observations. Using 1.\n"
          ]
        },
        {
          "output_type": "stream",
          "name": "stdout",
          "text": [
            "9 - FBProphet with avg smape 142.42: \n",
            "Model Number: 10 of 113 with model FBProphet for Validation 2\n"
          ]
        },
        {
          "output_type": "stream",
          "name": "stderr",
          "text": [
            "INFO:fbprophet:Disabling yearly seasonality. Run prophet with yearly_seasonality=True to override this.\n",
            "INFO:fbprophet:Disabling weekly seasonality. Run prophet with weekly_seasonality=True to override this.\n",
            "INFO:fbprophet:Disabling daily seasonality. Run prophet with daily_seasonality=True to override this.\n",
            "INFO:fbprophet:n_changepoints greater than number of observations. Using 1.\n"
          ]
        },
        {
          "output_type": "stream",
          "name": "stdout",
          "text": [
            "10 - FBProphet with avg smape 142.42: \n",
            "Model Number: 11 of 113 with model FBProphet for Validation 2\n",
            "11 - FBProphet with avg smape 142.42: \n",
            "Model Number: 12 of 113 with model DatepartRegression for Validation 2\n",
            "12 - DatepartRegression with avg smape 191.55: \n",
            "Model Number: 13 of 113 with model MultivariateRegression for Validation 2\n",
            "Template Eval Error: ValueError(\"Input contains NaN, infinity or a value too large for dtype('float64').\") in model 13: MultivariateRegression\n",
            "Model Number: 14 of 113 with model MultivariateRegression for Validation 2\n",
            "Template Eval Error: ValueError(\"Input contains NaN, infinity or a value too large for dtype('float64').\") in model 14: MultivariateRegression\n",
            "Model Number: 15 of 113 with model ETS for Validation 2\n",
            "15 - ETS with avg smape 144.03: \n",
            "Model Number: 16 of 113 with model FBProphet for Validation 2\n"
          ]
        },
        {
          "output_type": "stream",
          "name": "stderr",
          "text": [
            "/usr/local/lib/python3.7/dist-packages/sklearn/decomposition/_pca.py:456: RuntimeWarning:\n",
            "\n",
            "invalid value encountered in true_divide\n",
            "\n",
            "INFO:fbprophet:Disabling yearly seasonality. Run prophet with yearly_seasonality=True to override this.\n",
            "INFO:fbprophet:Disabling weekly seasonality. Run prophet with weekly_seasonality=True to override this.\n",
            "INFO:fbprophet:Disabling daily seasonality. Run prophet with daily_seasonality=True to override this.\n",
            "INFO:fbprophet:n_changepoints greater than number of observations. Using 1.\n",
            "INFO:fbprophet:Disabling yearly seasonality. Run prophet with yearly_seasonality=True to override this.\n",
            "INFO:fbprophet:Disabling weekly seasonality. Run prophet with weekly_seasonality=True to override this.\n",
            "INFO:fbprophet:Disabling daily seasonality. Run prophet with daily_seasonality=True to override this.\n",
            "INFO:fbprophet:n_changepoints greater than number of observations. Using 1.\n"
          ]
        },
        {
          "output_type": "stream",
          "name": "stdout",
          "text": [
            "16 - FBProphet with avg smape 191.55: \n",
            "Model Number: 17 of 113 with model FBProphet for Validation 2\n"
          ]
        },
        {
          "output_type": "stream",
          "name": "stderr",
          "text": [
            "INFO:fbprophet:Disabling yearly seasonality. Run prophet with yearly_seasonality=True to override this.\n",
            "INFO:fbprophet:Disabling weekly seasonality. Run prophet with weekly_seasonality=True to override this.\n",
            "INFO:fbprophet:Disabling daily seasonality. Run prophet with daily_seasonality=True to override this.\n",
            "INFO:fbprophet:n_changepoints greater than number of observations. Using 1.\n"
          ]
        },
        {
          "output_type": "stream",
          "name": "stdout",
          "text": [
            "17 - FBProphet with avg smape 191.55: \n",
            "Model Number: 18 of 113 with model FBProphet for Validation 2\n"
          ]
        },
        {
          "output_type": "stream",
          "name": "stderr",
          "text": [
            "INFO:fbprophet:Disabling yearly seasonality. Run prophet with yearly_seasonality=True to override this.\n",
            "INFO:fbprophet:Disabling weekly seasonality. Run prophet with weekly_seasonality=True to override this.\n",
            "INFO:fbprophet:Disabling daily seasonality. Run prophet with daily_seasonality=True to override this.\n",
            "INFO:fbprophet:n_changepoints greater than number of observations. Using 1.\n"
          ]
        },
        {
          "output_type": "stream",
          "name": "stdout",
          "text": [
            "18 - FBProphet with avg smape 191.55: \n",
            "Model Number: 19 of 113 with model FBProphet for Validation 2\n"
          ]
        },
        {
          "output_type": "stream",
          "name": "stderr",
          "text": [
            "INFO:fbprophet:Disabling yearly seasonality. Run prophet with yearly_seasonality=True to override this.\n",
            "INFO:fbprophet:Disabling weekly seasonality. Run prophet with weekly_seasonality=True to override this.\n",
            "INFO:fbprophet:Disabling daily seasonality. Run prophet with daily_seasonality=True to override this.\n",
            "INFO:fbprophet:n_changepoints greater than number of observations. Using 1.\n"
          ]
        },
        {
          "output_type": "stream",
          "name": "stdout",
          "text": [
            "19 - FBProphet with avg smape 191.55: \n",
            "Model Number: 20 of 113 with model FBProphet for Validation 2\n",
            "20 - FBProphet with avg smape 191.55: \n",
            "Model Number: 21 of 113 with model NVAR for Validation 2\n",
            "Template Eval Error: IndexError('index -4 is out of bounds for axis 1 with size 3') in model 21: NVAR\n",
            "Model Number: 22 of 113 with model NVAR for Validation 2\n",
            "Template Eval Error: IndexError('index -4 is out of bounds for axis 1 with size 3') in model 22: NVAR\n",
            "Model Number: 23 of 113 with model NVAR for Validation 2\n",
            "Template Eval Error: IndexError('index -4 is out of bounds for axis 1 with size 3') in model 23: NVAR\n",
            "Model Number: 24 of 113 with model DatepartRegression for Validation 2\n",
            "24 - DatepartRegression with avg smape 98.41: \n",
            "Model Number: 25 of 113 with model RollingRegression for Validation 2\n",
            "Template Eval Error: ValueError(\"Input contains NaN, infinity or a value too large for dtype('float64').\") in model 25: RollingRegression\n",
            "Model Number: 26 of 113 with model SeasonalNaive for Validation 2\n"
          ]
        },
        {
          "output_type": "stream",
          "name": "stderr",
          "text": [
            "/usr/local/lib/python3.7/dist-packages/sklearn/svm/_base.py:947: ConvergenceWarning:\n",
            "\n",
            "Liblinear failed to converge, increase the number of iterations.\n",
            "\n"
          ]
        },
        {
          "output_type": "stream",
          "name": "stdout",
          "text": [
            "26 - SeasonalNaive with avg smape 100.96: \n",
            "Model Number: 27 of 113 with model MultivariateRegression for Validation 2\n",
            "Template Eval Error: ValueError(\"Input contains NaN, infinity or a value too large for dtype('float64').\") in model 27: MultivariateRegression\n",
            "Model Number: 28 of 113 with model ETS for Validation 2\n",
            "28 - ETS with avg smape 102.12: \n",
            "Model Number: 29 of 113 with model ETS for Validation 2\n",
            "29 - ETS with avg smape 102.12: \n",
            "Model Number: 30 of 113 with model SeasonalNaive for Validation 2\n",
            "30 - SeasonalNaive with avg smape 94.92: \n",
            "Model Number: 31 of 113 with model DatepartRegression for Validation 2\n",
            "31 - DatepartRegression with avg smape 124.13: \n",
            "Model Number: 32 of 113 with model NVAR for Validation 2\n",
            "Template Eval Error: IndexError('index -4 is out of bounds for axis 1 with size 3') in model 32: NVAR\n",
            "Model Number: 33 of 113 with model NVAR for Validation 2\n",
            "Template Eval Error: IndexError('index -4 is out of bounds for axis 1 with size 3') in model 33: NVAR\n",
            "Model Number: 34 of 113 with model NVAR for Validation 2\n",
            "Template Eval Error: IndexError('index -4 is out of bounds for axis 1 with size 3') in model 34: NVAR\n",
            "Model Number: 35 of 113 with model UnobservedComponents for Validation 2\n",
            "35 - UnobservedComponents with avg smape 102.38: \n",
            "Model Number: 36 of 113 with model UnobservedComponents for Validation 2\n",
            "36 - UnobservedComponents with avg smape 102.38: \n",
            "Model Number: 37 of 113 with model UnobservedComponents for Validation 2\n",
            "37 - UnobservedComponents with avg smape 102.38: \n",
            "Model Number: 38 of 113 with model UnobservedComponents for Validation 2\n",
            "38 - UnobservedComponents with avg smape 102.38: \n",
            "Model Number: 39 of 113 with model UnobservedComponents for Validation 2\n",
            "39 - UnobservedComponents with avg smape 102.38: \n",
            "Model Number: 40 of 113 with model UnobservedComponents for Validation 2\n",
            "40 - UnobservedComponents with avg smape 102.38: \n",
            "Model Number: 41 of 113 with model MultivariateRegression for Validation 2\n",
            "Template Eval Error: ValueError('Need at least 3 dates to infer frequency') in model 41: MultivariateRegression\n",
            "Model Number: 42 of 113 with model AverageValueNaive for Validation 2\n",
            "42 - AverageValueNaive with avg smape 169.69: \n",
            "Model Number: 43 of 113 with model SeasonalNaive for Validation 2\n",
            "43 - SeasonalNaive with avg smape 133.54: \n",
            "Model Number: 44 of 113 with model GLM for Validation 2\n",
            "44 - GLM with avg smape 100.53: \n",
            "Model Number: 45 of 113 with model GLM for Validation 2\n",
            "45 - GLM with avg smape 100.53: \n",
            "Model Number: 46 of 113 with model GLM for Validation 2\n",
            "46 - GLM with avg smape 100.53: \n",
            "Model Number: 47 of 113 with model AverageValueNaive for Validation 2\n",
            "47 - AverageValueNaive with avg smape 168.43: \n",
            "Model Number: 48 of 113 with model LastValueNaive for Validation 2\n",
            "48 - LastValueNaive with avg smape 100.26: \n",
            "Model Number: 49 of 113 with model AverageValueNaive for Validation 2\n",
            "49 - AverageValueNaive with avg smape 167.5: \n",
            "Model Number: 50 of 113 with model AverageValueNaive for Validation 2\n",
            "50 - AverageValueNaive with avg smape 167.5: \n",
            "Model Number: 51 of 113 with model GLS for Validation 2\n",
            "51 - GLS with avg smape 133.48: \n",
            "Model Number: 52 of 113 with model GLM for Validation 2\n",
            "52 - GLM with avg smape 123.8: \n",
            "Model Number: 53 of 113 with model NVAR for Validation 2\n",
            "Template Eval Error: IndexError('index -4 is out of bounds for axis 1 with size 3') in model 53: NVAR\n",
            "Model Number: 54 of 113 with model GLM for Validation 2\n",
            "54 - GLM with avg smape 98.82: \n",
            "Model Number: 55 of 113 with model GLS for Validation 2\n",
            "55 - GLS with avg smape 133.54: \n",
            "Model Number: 56 of 113 with model GLS for Validation 2\n",
            "56 - GLS with avg smape 133.54: \n",
            "Model Number: 57 of 113 with model LastValueNaive for Validation 2\n",
            "57 - LastValueNaive with avg smape 99.41: \n",
            "Model Number: 58 of 113 with model GLS for Validation 2\n",
            "58 - GLS with avg smape 133.48: \n",
            "Model Number: 59 of 113 with model GLS for Validation 2\n",
            "59 - GLS with avg smape 133.54: \n",
            "Model Number: 60 of 113 with model GLM for Validation 2\n",
            "60 - GLM with avg smape 100.52: \n",
            "Model Number: 61 of 113 with model ETS for Validation 2\n",
            "61 - ETS with avg smape 167.5: \n",
            "Model Number: 62 of 113 with model ETS for Validation 2\n",
            "62 - ETS with avg smape 167.5: \n",
            "Model Number: 63 of 113 with model GLS for Validation 2\n",
            "63 - GLS with avg smape 133.54: \n",
            "Model Number: 64 of 113 with model SeasonalNaive for Validation 2\n",
            "64 - SeasonalNaive with avg smape 133.54: \n",
            "Model Number: 65 of 113 with model SeasonalNaive for Validation 2\n",
            "65 - SeasonalNaive with avg smape 133.54: \n",
            "Model Number: 66 of 113 with model ETS for Validation 2\n",
            "66 - ETS with avg smape 101.77: \n",
            "Model Number: 67 of 113 with model GLM for Validation 2\n",
            "67 - GLM with avg smape 143.78: \n",
            "Model Number: 68 of 113 with model GLM for Validation 2\n",
            "68 - GLM with avg smape 70.01: \n",
            "Model Number: 69 of 113 with model SeasonalNaive for Validation 2\n",
            "69 - SeasonalNaive with avg smape 191.55: \n",
            "Model Number: 70 of 113 with model GLS for Validation 2\n",
            "70 - GLS with avg smape 138.29: \n",
            "Model Number: 71 of 113 with model GLS for Validation 2\n",
            "71 - GLS with avg smape 138.29: \n",
            "Model Number: 72 of 113 with model SeasonalNaive for Validation 2\n",
            "72 - SeasonalNaive with avg smape 95.3: \n",
            "Model Number: 73 of 113 with model RollingRegression for Validation 2\n",
            "Template Eval Error: ValueError(\"Input contains NaN, infinity or a value too large for dtype('float64').\") in model 73: RollingRegression\n",
            "Model Number: 74 of 113 with model SeasonalNaive for Validation 2\n",
            "74 - SeasonalNaive with avg smape 94.92: \n",
            "Model Number: 75 of 113 with model AverageValueNaive for Validation 2\n",
            "75 - AverageValueNaive with avg smape 191.55: \n",
            "Model Number: 76 of 113 with model AverageValueNaive for Validation 2\n",
            "76 - AverageValueNaive with avg smape 191.55: \n",
            "Model Number: 77 of 113 with model AverageValueNaive for Validation 2\n",
            "77 - AverageValueNaive with avg smape 191.55: \n",
            "Model Number: 78 of 113 with model RollingRegression for Validation 2\n",
            "78 - RollingRegression with avg smape 185.9: \n",
            "Model Number: 79 of 113 with model WindowRegression for Validation 2\n"
          ]
        },
        {
          "output_type": "stream",
          "name": "stderr",
          "text": [
            "/usr/local/lib/python3.7/dist-packages/sklearn/utils/validation.py:760: DataConversionWarning:\n",
            "\n",
            "A column-vector y was passed when a 1d array was expected. Please change the shape of y to (n_samples, ), for example using ravel().\n",
            "\n"
          ]
        },
        {
          "output_type": "stream",
          "name": "stdout",
          "text": [
            "Template Eval Error: ValueError('Negative dimension size caused by subtracting 1 from 0 for \\'{{node conv1d/conv1d}} = Conv2D[T=DT_FLOAT, data_format=\"NHWC\", dilations=[1, 1, 1, 1], explicit_paddings=[], padding=\"VALID\", strides=[1, 1, 1, 1], use_cudnn_on_gpu=true](conv1d/conv1d/ExpandDims, conv1d/conv1d/ExpandDims_1)\\' with input shapes: [?,1,0,1], [1,1,1,4].') in model 79: WindowRegression\n",
            "Model Number: 80 of 113 with model MultivariateRegression for Validation 2\n",
            "Template Eval Error: ValueError(\"Input contains NaN, infinity or a value too large for dtype('float64').\") in model 80: MultivariateRegression\n",
            "Model Number: 81 of 113 with model RollingRegression for Validation 2\n",
            "Template Eval Error: ValueError(\"Input contains NaN, infinity or a value too large for dtype('float64').\") in model 81: RollingRegression\n",
            "Model Number: 82 of 113 with model UnobservedComponents for Validation 2\n",
            "82 - UnobservedComponents with avg smape 95.3: \n",
            "Model Number: 83 of 113 with model UnobservedComponents for Validation 2\n",
            "83 - UnobservedComponents with avg smape 95.3: \n",
            "Model Number: 84 of 113 with model RollingRegression for Validation 2\n",
            "Template Eval Error: ValueError(\"Input contains NaN, infinity or a value too large for dtype('float64').\") in model 84: RollingRegression\n",
            "Model Number: 85 of 113 with model LastValueNaive for Validation 2\n",
            "85 - LastValueNaive with avg smape 51.24: \n",
            "Model Number: 86 of 113 with model NVAR for Validation 2\n",
            "Template Eval Error: IndexError('index -4 is out of bounds for axis 1 with size 3') in model 86: NVAR\n",
            "Model Number: 87 of 113 with model DatepartRegression for Validation 2\n",
            "87 - DatepartRegression with avg smape 191.55: \n",
            "Model Number: 88 of 113 with model DatepartRegression for Validation 2\n",
            "88 - DatepartRegression with avg smape 100.15: \n",
            "Model Number: 89 of 113 with model MultivariateRegression for Validation 2\n",
            "Template Eval Error: ValueError(\"Input contains NaN, infinity or a value too large for dtype('float64').\") in model 89: MultivariateRegression\n",
            "Model Number: 90 of 113 with model ZeroesNaive for Validation 2\n",
            "90 - ZeroesNaive with avg smape 99.67: \n",
            "Model Number: 91 of 113 with model DatepartRegression for Validation 2\n",
            "Template Eval Error: ValueError('Model DatepartRegression returned NaN for one or more series') in model 91: DatepartRegression\n",
            "Model Number: 92 of 113 with model LastValueNaive for Validation 2\n",
            "92 - LastValueNaive with avg smape 133.54: \n",
            "Model Number: 93 of 113 with model LastValueNaive for Validation 2\n",
            "93 - LastValueNaive with avg smape 133.54: \n",
            "Model Number: 94 of 113 with model MultivariateRegression for Validation 2\n",
            "Template Eval Error: ValueError(\"Input contains NaN, infinity or a value too large for dtype('float64').\") in model 94: MultivariateRegression\n",
            "Model Number: 95 of 113 with model MultivariateRegression for Validation 2\n",
            "Template Eval Error: ValueError(\"Input contains NaN, infinity or a value too large for dtype('float64').\") in model 95: MultivariateRegression\n",
            "Model Number: 96 of 113 with model LastValueNaive for Validation 2\n"
          ]
        },
        {
          "output_type": "stream",
          "name": "stderr",
          "text": [
            "/usr/local/lib/python3.7/dist-packages/sklearn/neighbors/_regression.py:362: UserWarning:\n",
            "\n",
            "One or more samples have no neighbors within specified radius; predicting NaN.\n",
            "\n"
          ]
        },
        {
          "output_type": "stream",
          "name": "stdout",
          "text": [
            "96 - LastValueNaive with avg smape 142.79: \n",
            "Model Number: 97 of 113 with model LastValueNaive for Validation 2\n",
            "97 - LastValueNaive with avg smape 92.41: \n",
            "Model Number: 98 of 113 with model LastValueNaive for Validation 2\n",
            "98 - LastValueNaive with avg smape 92.41: \n",
            "Model Number: 99 of 113 with model RollingRegression for Validation 2\n",
            "Template Eval Error: ValueError(\"Input contains NaN, infinity or a value too large for dtype('float64').\") in model 99: RollingRegression\n",
            "Model Number: 100 of 113 with model RollingRegression for Validation 2\n",
            "100 - RollingRegression with avg smape 112.61: \n",
            "Model Number: 101 of 113 with model RollingRegression for Validation 2\n"
          ]
        },
        {
          "output_type": "stream",
          "name": "stderr",
          "text": [
            "/usr/local/lib/python3.7/dist-packages/sklearn/neural_network/_multilayer_perceptron.py:1342: DataConversionWarning:\n",
            "\n",
            "A column-vector y was passed when a 1d array was expected. Please change the shape of y to (n_samples, ), for example using ravel().\n",
            "\n",
            "/usr/local/lib/python3.7/dist-packages/sklearn/utils/validation.py:760: DataConversionWarning:\n",
            "\n",
            "A column-vector y was passed when a 1d array was expected. Please change the shape of y to (n_samples, ), for example using ravel().\n",
            "\n"
          ]
        },
        {
          "output_type": "stream",
          "name": "stdout",
          "text": [
            "101 - RollingRegression with avg smape 123.88: \n",
            "Model Number: 102 of 113 with model ZeroesNaive for Validation 2\n",
            "102 - ZeroesNaive with avg smape 96.33: \n",
            "Model Number: 103 of 113 with model ZeroesNaive for Validation 2\n",
            "103 - ZeroesNaive with avg smape 96.33: \n",
            "Model Number: 104 of 113 with model ZeroesNaive for Validation 2\n",
            "104 - ZeroesNaive with avg smape 96.33: \n",
            "Model Number: 105 of 113 with model ZeroesNaive for Validation 2\n",
            "105 - ZeroesNaive with avg smape 96.33: \n",
            "Model Number: 106 of 113 with model ZeroesNaive for Validation 2\n",
            "106 - ZeroesNaive with avg smape 96.33: \n",
            "Model Number: 107 of 113 with model ZeroesNaive for Validation 2\n",
            "107 - ZeroesNaive with avg smape 96.33: \n",
            "Model Number: 108 of 113 with model ZeroesNaive for Validation 2\n",
            "108 - ZeroesNaive with avg smape 96.33: \n",
            "Model Number: 109 of 113 with model WindowRegression for Validation 2\n",
            "Template Eval Error: ValueError('Found array with 0 sample(s) (shape=(0, 0)) while a minimum of 2 is required.') in model 109: WindowRegression\n",
            "Model Number: 110 of 113 with model WindowRegression for Validation 2\n",
            "Template Eval Error: ValueError('Found array with 0 sample(s) (shape=(0, 0)) while a minimum of 1 is required.') in model 110: WindowRegression\n",
            "Model Number: 111 of 113 with model WindowRegression for Validation 2\n",
            "Template Eval Error: ValueError('Found array with 0 sample(s) (shape=(0, 0)) while a minimum of 1 is required.') in model 111: WindowRegression\n",
            "Model Number: 112 of 113 with model WindowRegression for Validation 2\n",
            "Template Eval Error: ValueError('Found array with 0 sample(s) (shape=(0, 0)) while a minimum of 1 is required.') in model 112: WindowRegression\n",
            "Model Number: 113 of 113 with model WindowRegression for Validation 2\n",
            "Template Eval Error: ValueError('Found array with 0 sample(s) (shape=(0, 0)) while a minimum of 1 is required.') in model 113: WindowRegression\n",
            "            followers_gained\n",
            "2021-08-31             526.0\n",
            "2021-09-30             553.0\n",
            "2021-10-31             580.0\n",
            "2021-11-30             607.0\n"
          ]
        }
      ]
    },
    {
      "cell_type": "code",
      "metadata": {
        "id": "Ov7eHL0pZqTY"
      },
      "source": [
        "data1 = data[['period_end','followers_gained']]"
      ],
      "execution_count": 5,
      "outputs": []
    },
    {
      "cell_type": "code",
      "metadata": {
        "colab": {
          "base_uri": "https://localhost:8080/",
          "height": 301
        },
        "id": "TWbP_cWSaQGc",
        "outputId": "be84379d-c053-4d42-a3d1-a609d121ceaa"
      },
      "source": [
        "plt.figure(figsize=(10, 4))\n",
        "plt.title(\"followers_gained\")\n",
        "plt.xlabel(\"Date\")\n",
        "plt.ylabel(\"Close\")\n",
        "# plt.plot(data[\"Close\"])\n",
        "plt.plot(data1[\"followers_gained\"])\n",
        "plt.show()"
      ],
      "execution_count": 6,
      "outputs": [
        {
          "output_type": "display_data",
          "data": {
            "image/png": "[encoded data removed]",
            "text/plain": [
              "<Figure size 720x288 with 1 Axes>"
            ]
          },
          "metadata": {}
        }
      ]
    },
    {
      "cell_type": "code",
      "metadata": {
        "colab": {
          "base_uri": "https://localhost:8080/",
          "height": 301
        },
        "id": "91pGVXGSaK_z",
        "outputId": "2a229b8b-6c4f-4d92-c330-6bd06370636c"
      },
      "source": [
        "plt.figure(figsize=(10, 4))\n",
        "plt.title(\"followers_gained\")\n",
        "plt.xlabel(\"Date\")\n",
        "plt.ylabel(\"Close\")\n",
        "# plt.plot(data[\"Close\"])\n",
        "plt.plot(forecast[\"followers_gained\"])\n",
        "plt.show()"
      ],
      "execution_count": 8,
      "outputs": [
        {
          "output_type": "display_data",
          "data": {
            "image/png": "[encoded data removed]",
            "text/plain": [
              "<Figure size 720x288 with 1 Axes>"
            ]
          },
          "metadata": {}
        }
      ]
    }
  ]
}